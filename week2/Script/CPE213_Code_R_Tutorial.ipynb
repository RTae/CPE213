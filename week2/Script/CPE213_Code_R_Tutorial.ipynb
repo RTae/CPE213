{
  "nbformat": 4,
  "nbformat_minor": 0,
  "metadata": {
    "colab": {
      "name": "CPE213_Code_R-Tutorial",
      "provenance": [],
      "collapsed_sections": [
        "3TPMEIfY4xY5",
        "dEG-urX34z_1",
        "PDU5NafI9YxN",
        "vPhVXlLS_IA6",
        "oMETbIAn_bcs",
        "iIxPGK1k_5cw",
        "JAmxWQNfAVBx",
        "u9TP68pyBu6w",
        "d5NhdyyYCUNy",
        "bRN7SbJSF0ZE",
        "gcAC8K_pGZXC",
        "AEW8C14pHGMn",
        "sFPEV_8GHeNG",
        "B1m3GREfH0ku",
        "D8_xgzESIRmt",
        "1rv8-khIIjvG",
        "QnakzvmjI2qJ",
        "BUT2N122I_8Y",
        "XuebCR0VJmSr",
        "foerWdKSKxwP",
        "tPnTxXlKLknx",
        "OTQbRq7vMKYh",
        "_cac59qTNEc6",
        "J69D_eaANqqt"
      ],
      "toc_visible": true,
      "authorship_tag": "ABX9TyMckQa633Dfs0tkUQslqqM7",
      "include_colab_link": true
    },
    "kernelspec": {
      "name": "ir",
      "display_name": "R"
    }
  },
  "cells": [
    {
      "cell_type": "markdown",
      "metadata": {
        "id": "view-in-github",
        "colab_type": "text"
      },
      "source": [
        "<a href=\"https://colab.research.google.com/github/RTae/CPE213/blob/main/week2/CPE213_Code_R_Tutorial.ipynb\" target=\"_parent\"><img src=\"https://colab.research.google.com/assets/colab-badge.svg\" alt=\"Open In Colab\"/></a>"
      ]
    },
    {
      "cell_type": "markdown",
      "metadata": {
        "id": "3TPMEIfY4xY5"
      },
      "source": [
        "# Import package"
      ]
    },
    {
      "cell_type": "code",
      "metadata": {
        "id": "XnB19-2V3mWE"
      },
      "source": [
        "library(\"tidyr\")\n",
        "library(\"dplyr\")"
      ],
      "execution_count": 167,
      "outputs": []
    },
    {
      "cell_type": "markdown",
      "metadata": {
        "id": "dEG-urX34z_1"
      },
      "source": [
        "# Basic"
      ]
    },
    {
      "cell_type": "code",
      "metadata": {
        "colab": {
          "base_uri": "https://localhost:8080/",
          "height": 34
        },
        "id": "CqB-y2ma4r4Q",
        "outputId": "aa63e0c3-ad50-4a08-b586-aa94cc7b9ed4"
      },
      "source": [
        "1+1 # Plus number"
      ],
      "execution_count": 8,
      "outputs": [
        {
          "output_type": "display_data",
          "data": {
            "text/plain": [
              "[1] 2"
            ],
            "text/latex": "2",
            "text/markdown": "2",
            "text/html": [
              "2"
            ]
          },
          "metadata": {
            "tags": []
          }
        }
      ]
    },
    {
      "cell_type": "code",
      "metadata": {
        "colab": {
          "base_uri": "https://localhost:8080/",
          "height": 34
        },
        "id": "02w-MJ7H5N-x",
        "outputId": "4ba60fd6-16a8-4fbe-b0d4-a926b27546fd"
      },
      "source": [
        "mean(runif(100)) # Find mean of number of random uniform number"
      ],
      "execution_count": 10,
      "outputs": [
        {
          "output_type": "display_data",
          "data": {
            "text/plain": [
              "[1] 0.4760686"
            ],
            "text/latex": "0.476068627187051",
            "text/markdown": "0.476068627187051",
            "text/html": [
              "0.476068627187051"
            ]
          },
          "metadata": {
            "tags": []
          }
        }
      ]
    },
    {
      "cell_type": "code",
      "metadata": {
        "colab": {
          "base_uri": "https://localhost:8080/",
          "height": 34
        },
        "id": "UBw_egZ-5Mc2",
        "outputId": "4fed56a1-ddc3-435f-e50c-db56edc3f77b"
      },
      "source": [
        "1:10 # Genarate vector 1:10"
      ],
      "execution_count": 11,
      "outputs": [
        {
          "output_type": "display_data",
          "data": {
            "text/plain": [
              " [1]  1  2  3  4  5  6  7  8  9 10"
            ],
            "text/latex": "\\begin{enumerate*}\n\\item 1\n\\item 2\n\\item 3\n\\item 4\n\\item 5\n\\item 6\n\\item 7\n\\item 8\n\\item 9\n\\item 10\n\\end{enumerate*}\n",
            "text/markdown": "1. 1\n2. 2\n3. 3\n4. 4\n5. 5\n6. 6\n7. 7\n8. 8\n9. 9\n10. 10\n\n\n",
            "text/html": [
              "<style>\n",
              ".list-inline {list-style: none; margin:0; padding: 0}\n",
              ".list-inline>li {display: inline-block}\n",
              ".list-inline>li:not(:last-child)::after {content: \"\\00b7\"; padding: 0 .5ex}\n",
              "</style>\n",
              "<ol class=list-inline><li>1</li><li>2</li><li>3</li><li>4</li><li>5</li><li>6</li><li>7</li><li>8</li><li>9</li><li>10</li></ol>\n"
            ]
          },
          "metadata": {
            "tags": []
          }
        }
      ]
    },
    {
      "cell_type": "code",
      "metadata": {
        "colab": {
          "base_uri": "https://localhost:8080/",
          "height": 34
        },
        "id": "wMtqDqX75Vh9",
        "outputId": "40358538-bee6-4ef6-d89e-1de8bc85064a"
      },
      "source": [
        "2**10 # Power number"
      ],
      "execution_count": 12,
      "outputs": [
        {
          "output_type": "display_data",
          "data": {
            "text/plain": [
              "[1] 1024"
            ],
            "text/latex": "1024",
            "text/markdown": "1024",
            "text/html": [
              "1024"
            ]
          },
          "metadata": {
            "tags": []
          }
        }
      ]
    },
    {
      "cell_type": "code",
      "metadata": {
        "colab": {
          "base_uri": "https://localhost:8080/",
          "height": 51
        },
        "id": "lPbvKMLJ5Wxs",
        "outputId": "b0178675-73ec-437c-fc57-c69bd5f0f888"
      },
      "source": [
        "abs(rnorm(10)) # Absolute random normal distribution"
      ],
      "execution_count": 28,
      "outputs": [
        {
          "output_type": "display_data",
          "data": {
            "text/plain": [
              " [1] 0.6515882 0.2648097 1.6823986 0.6311134 1.3226170 2.0155610 1.3490508\n",
              " [8] 0.3647439 0.0193863 0.8295103"
            ],
            "text/latex": "\\begin{enumerate*}\n\\item 0.65158822338298\n\\item 0.264809720949603\n\\item 1.68239860699778\n\\item 0.631113378009775\n\\item 1.3226170214201\n\\item 2.01556101856215\n\\item 1.34905083715409\n\\item 0.364743872707716\n\\item 0.0193863023660867\n\\item 0.829510335927756\n\\end{enumerate*}\n",
            "text/markdown": "1. 0.65158822338298\n2. 0.264809720949603\n3. 1.68239860699778\n4. 0.631113378009775\n5. 1.3226170214201\n6. 2.01556101856215\n7. 1.34905083715409\n8. 0.364743872707716\n9. 0.0193863023660867\n10. 0.829510335927756\n\n\n",
            "text/html": [
              "<style>\n",
              ".list-inline {list-style: none; margin:0; padding: 0}\n",
              ".list-inline>li {display: inline-block}\n",
              ".list-inline>li:not(:last-child)::after {content: \"\\00b7\"; padding: 0 .5ex}\n",
              "</style>\n",
              "<ol class=list-inline><li>0.65158822338298</li><li>0.264809720949603</li><li>1.68239860699778</li><li>0.631113378009775</li><li>1.3226170214201</li><li>2.01556101856215</li><li>1.34905083715409</li><li>0.364743872707716</li><li>0.0193863023660867</li><li>0.829510335927756</li></ol>\n"
            ]
          },
          "metadata": {
            "tags": []
          }
        }
      ]
    },
    {
      "cell_type": "markdown",
      "metadata": {
        "id": "PDU5NafI9YxN"
      },
      "source": [
        "## Variable assigment"
      ]
    },
    {
      "cell_type": "code",
      "metadata": {
        "id": "77egdASV8QqW"
      },
      "source": [
        "x <- c(1,2,4) # Create vector of 1,2 and 4 c() is function that concatenate three one-element (Recommed to use <- rather than = to assign variable)"
      ],
      "execution_count": 49,
      "outputs": []
    },
    {
      "cell_type": "code",
      "metadata": {
        "colab": {
          "base_uri": "https://localhost:8080/",
          "height": 34
        },
        "id": "yavPoa3w9rrl",
        "outputId": "24ca6c88-957a-4c41-a1b9-6be77d178ea5"
      },
      "source": [
        "q <- c(x,x,8) # it will concatenate 2 vector together\n",
        "q"
      ],
      "execution_count": 35,
      "outputs": [
        {
          "output_type": "display_data",
          "data": {
            "text/plain": [
              "[1] 1 2 4 1 2 4 8"
            ],
            "text/latex": "\\begin{enumerate*}\n\\item 1\n\\item 2\n\\item 4\n\\item 1\n\\item 2\n\\item 4\n\\item 8\n\\end{enumerate*}\n",
            "text/markdown": "1. 1\n2. 2\n3. 4\n4. 1\n5. 2\n6. 4\n7. 8\n\n\n",
            "text/html": [
              "<style>\n",
              ".list-inline {list-style: none; margin:0; padding: 0}\n",
              ".list-inline>li {display: inline-block}\n",
              ".list-inline>li:not(:last-child)::after {content: \"\\00b7\"; padding: 0 .5ex}\n",
              "</style>\n",
              "<ol class=list-inline><li>1</li><li>2</li><li>4</li><li>1</li><li>2</li><li>4</li><li>8</li></ol>\n"
            ]
          },
          "metadata": {
            "tags": []
          }
        }
      ]
    },
    {
      "cell_type": "markdown",
      "metadata": {
        "id": "vPhVXlLS_IA6"
      },
      "source": [
        "## Variable printing and subsetting"
      ]
    },
    {
      "cell_type": "code",
      "metadata": {
        "colab": {
          "base_uri": "https://localhost:8080/",
          "height": 34
        },
        "id": "XTJJA-2F930E",
        "outputId": "14597c4d-64cb-42be-efcf-5cef146809ec"
      },
      "source": [
        "q"
      ],
      "execution_count": 36,
      "outputs": [
        {
          "output_type": "display_data",
          "data": {
            "text/plain": [
              "[1] 1 2 4 1 2 4 8"
            ],
            "text/latex": "\\begin{enumerate*}\n\\item 1\n\\item 2\n\\item 4\n\\item 1\n\\item 2\n\\item 4\n\\item 8\n\\end{enumerate*}\n",
            "text/markdown": "1. 1\n2. 2\n3. 4\n4. 1\n5. 2\n6. 4\n7. 8\n\n\n",
            "text/html": [
              "<style>\n",
              ".list-inline {list-style: none; margin:0; padding: 0}\n",
              ".list-inline>li {display: inline-block}\n",
              ".list-inline>li:not(:last-child)::after {content: \"\\00b7\"; padding: 0 .5ex}\n",
              "</style>\n",
              "<ol class=list-inline><li>1</li><li>2</li><li>4</li><li>1</li><li>2</li><li>4</li><li>8</li></ol>\n"
            ]
          },
          "metadata": {
            "tags": []
          }
        }
      ]
    },
    {
      "cell_type": "code",
      "metadata": {
        "colab": {
          "base_uri": "https://localhost:8080/",
          "height": 34
        },
        "id": "cP5TMSug-MB_",
        "outputId": "023537cc-52b8-41db-8fdd-e0ffc079575d"
      },
      "source": [
        "q[1] # indexing"
      ],
      "execution_count": 37,
      "outputs": [
        {
          "output_type": "display_data",
          "data": {
            "text/plain": [
              "[1] 1"
            ],
            "text/latex": "1",
            "text/markdown": "1",
            "text/html": [
              "1"
            ]
          },
          "metadata": {
            "tags": []
          }
        }
      ]
    },
    {
      "cell_type": "code",
      "metadata": {
        "colab": {
          "base_uri": "https://localhost:8080/",
          "height": 34
        },
        "id": "cEWYQeMG-MtW",
        "outputId": "5b929db3-30fe-4712-a8f4-30c162405679"
      },
      "source": [
        "q[1:4] # select index 1 to 4"
      ],
      "execution_count": 38,
      "outputs": [
        {
          "output_type": "display_data",
          "data": {
            "text/plain": [
              "[1] 1 2 4 1"
            ],
            "text/latex": "\\begin{enumerate*}\n\\item 1\n\\item 2\n\\item 4\n\\item 1\n\\end{enumerate*}\n",
            "text/markdown": "1. 1\n2. 2\n3. 4\n4. 1\n\n\n",
            "text/html": [
              "<style>\n",
              ".list-inline {list-style: none; margin:0; padding: 0}\n",
              ".list-inline>li {display: inline-block}\n",
              ".list-inline>li:not(:last-child)::after {content: \"\\00b7\"; padding: 0 .5ex}\n",
              "</style>\n",
              "<ol class=list-inline><li>1</li><li>2</li><li>4</li><li>1</li></ol>\n"
            ]
          },
          "metadata": {
            "tags": []
          }
        }
      ]
    },
    {
      "cell_type": "code",
      "metadata": {
        "colab": {
          "base_uri": "https://localhost:8080/",
          "height": 34
        },
        "id": "uwtl2yLA-N3Z",
        "outputId": "bb0013e8-244f-418a-f515-efb02908fe5c"
      },
      "source": [
        "q[-2] # skip index 2 "
      ],
      "execution_count": 39,
      "outputs": [
        {
          "output_type": "display_data",
          "data": {
            "text/plain": [
              "[1] 1 4 1 2 4 8"
            ],
            "text/latex": "\\begin{enumerate*}\n\\item 1\n\\item 4\n\\item 1\n\\item 2\n\\item 4\n\\item 8\n\\end{enumerate*}\n",
            "text/markdown": "1. 1\n2. 4\n3. 1\n4. 2\n5. 4\n6. 8\n\n\n",
            "text/html": [
              "<style>\n",
              ".list-inline {list-style: none; margin:0; padding: 0}\n",
              ".list-inline>li {display: inline-block}\n",
              ".list-inline>li:not(:last-child)::after {content: \"\\00b7\"; padding: 0 .5ex}\n",
              "</style>\n",
              "<ol class=list-inline><li>1</li><li>4</li><li>1</li><li>2</li><li>4</li><li>8</li></ol>\n"
            ]
          },
          "metadata": {
            "tags": []
          }
        }
      ]
    },
    {
      "cell_type": "code",
      "metadata": {
        "colab": {
          "base_uri": "https://localhost:8080/",
          "height": 34
        },
        "id": "H0zTAcNP-OgZ",
        "outputId": "6b5205cd-94d5-475e-8fbd-eea6a74f01d1"
      },
      "source": [
        "q[-1:-4] # skip index 1 to 4"
      ],
      "execution_count": 40,
      "outputs": [
        {
          "output_type": "display_data",
          "data": {
            "text/plain": [
              "[1] 2 4 8"
            ],
            "text/latex": "\\begin{enumerate*}\n\\item 2\n\\item 4\n\\item 8\n\\end{enumerate*}\n",
            "text/markdown": "1. 2\n2. 4\n3. 8\n\n\n",
            "text/html": [
              "<style>\n",
              ".list-inline {list-style: none; margin:0; padding: 0}\n",
              ".list-inline>li {display: inline-block}\n",
              ".list-inline>li:not(:last-child)::after {content: \"\\00b7\"; padding: 0 .5ex}\n",
              "</style>\n",
              "<ol class=list-inline><li>2</li><li>4</li><li>8</li></ol>\n"
            ]
          },
          "metadata": {
            "tags": []
          }
        }
      ]
    },
    {
      "cell_type": "code",
      "metadata": {
        "colab": {
          "base_uri": "https://localhost:8080/",
          "height": 34
        },
        "id": "jMzuP1VN-QEc",
        "outputId": "9b403c55-7158-4c26-a5c5-f67673c79d33"
      },
      "source": [
        "q[c(2,5)] # select only index 2 and 5"
      ],
      "execution_count": 41,
      "outputs": [
        {
          "output_type": "display_data",
          "data": {
            "text/plain": [
              "[1] 2 2"
            ],
            "text/latex": "\\begin{enumerate*}\n\\item 2\n\\item 2\n\\end{enumerate*}\n",
            "text/markdown": "1. 2\n2. 2\n\n\n",
            "text/html": [
              "<style>\n",
              ".list-inline {list-style: none; margin:0; padding: 0}\n",
              ".list-inline>li {display: inline-block}\n",
              ".list-inline>li:not(:last-child)::after {content: \"\\00b7\"; padding: 0 .5ex}\n",
              "</style>\n",
              "<ol class=list-inline><li>2</li><li>2</li></ol>\n"
            ]
          },
          "metadata": {
            "tags": []
          }
        }
      ]
    },
    {
      "cell_type": "markdown",
      "metadata": {
        "id": "oMETbIAn_bcs"
      },
      "source": [
        "## Calling functions"
      ]
    },
    {
      "cell_type": "code",
      "metadata": {
        "id": "FBPNYDGe_rfI"
      },
      "source": [
        "y <- mean(x)"
      ],
      "execution_count": 51,
      "outputs": []
    },
    {
      "cell_type": "code",
      "metadata": {
        "id": "HDHFsGoA_o3z"
      },
      "source": [
        "y1 <- sd(x)"
      ],
      "execution_count": 52,
      "outputs": []
    },
    {
      "cell_type": "code",
      "metadata": {
        "colab": {
          "base_uri": "https://localhost:8080/",
          "height": 34
        },
        "id": "KFrm0G5l_VvZ",
        "outputId": "6141d754-45f5-4a81-fd56-122f010ec6ba"
      },
      "source": [
        "y"
      ],
      "execution_count": 54,
      "outputs": [
        {
          "output_type": "display_data",
          "data": {
            "text/plain": [
              "[1] 2.333333"
            ],
            "text/latex": "2.33333333333333",
            "text/markdown": "2.33333333333333",
            "text/html": [
              "2.33333333333333"
            ]
          },
          "metadata": {
            "tags": []
          }
        }
      ]
    },
    {
      "cell_type": "code",
      "metadata": {
        "colab": {
          "base_uri": "https://localhost:8080/",
          "height": 34
        },
        "id": "MnIv4ZBN_ijh",
        "outputId": "14e5c5b9-b81d-478a-b02d-e7e9f8fd0a1f"
      },
      "source": [
        "y1"
      ],
      "execution_count": 55,
      "outputs": [
        {
          "output_type": "display_data",
          "data": {
            "text/plain": [
              "[1] 1.527525"
            ],
            "text/latex": "1.52752523165195",
            "text/markdown": "1.52752523165195",
            "text/html": [
              "1.52752523165195"
            ]
          },
          "metadata": {
            "tags": []
          }
        }
      ]
    },
    {
      "cell_type": "markdown",
      "metadata": {
        "id": "iIxPGK1k_5cw"
      },
      "source": [
        "## Internal Dataset\n",
        "\n",
        "R langauge have own popular dataset in package u can type data() to see it."
      ]
    },
    {
      "cell_type": "code",
      "metadata": {
        "colab": {
          "base_uri": "https://localhost:8080/",
          "height": 85
        },
        "id": "Zn4x3bG3_4Q_",
        "outputId": "ee26c8ec-a9f7-4521-e21f-db97da52ed87"
      },
      "source": [
        "Nile"
      ],
      "execution_count": 56,
      "outputs": [
        {
          "output_type": "display_data",
          "data": {
            "text/plain": [
              "A Time Series:\n",
              "  [1] 1120 1160  963 1210 1160 1160  813 1230 1370 1140  995  935 1110  994 1020\n",
              " [16]  960 1180  799  958 1140 1100 1210 1150 1250 1260 1220 1030 1100  774  840\n",
              " [31]  874  694  940  833  701  916  692 1020 1050  969  831  726  456  824  702\n",
              " [46] 1120 1100  832  764  821  768  845  864  862  698  845  744  796 1040  759\n",
              " [61]  781  865  845  944  984  897  822 1010  771  676  649  846  812  742  801\n",
              " [76] 1040  860  874  848  890  744  749  838 1050  918  986  797  923  975  815\n",
              " [91] 1020  906  901 1170  912  746  919  718  714  740"
            ],
            "text/latex": "A Time Series:\\\\\\begin{enumerate*}\n\\item 1120\n\\item 1160\n\\item 963\n\\item 1210\n\\item 1160\n\\item 1160\n\\item 813\n\\item 1230\n\\item 1370\n\\item 1140\n\\item 995\n\\item 935\n\\item 1110\n\\item 994\n\\item 1020\n\\item 960\n\\item 1180\n\\item 799\n\\item 958\n\\item 1140\n\\item 1100\n\\item 1210\n\\item 1150\n\\item 1250\n\\item 1260\n\\item 1220\n\\item 1030\n\\item 1100\n\\item 774\n\\item 840\n\\item 874\n\\item 694\n\\item 940\n\\item 833\n\\item 701\n\\item 916\n\\item 692\n\\item 1020\n\\item 1050\n\\item 969\n\\item 831\n\\item 726\n\\item 456\n\\item 824\n\\item 702\n\\item 1120\n\\item 1100\n\\item 832\n\\item 764\n\\item 821\n\\item 768\n\\item 845\n\\item 864\n\\item 862\n\\item 698\n\\item 845\n\\item 744\n\\item 796\n\\item 1040\n\\item 759\n\\item 781\n\\item 865\n\\item 845\n\\item 944\n\\item 984\n\\item 897\n\\item 822\n\\item 1010\n\\item 771\n\\item 676\n\\item 649\n\\item 846\n\\item 812\n\\item 742\n\\item 801\n\\item 1040\n\\item 860\n\\item 874\n\\item 848\n\\item 890\n\\item 744\n\\item 749\n\\item 838\n\\item 1050\n\\item 918\n\\item 986\n\\item 797\n\\item 923\n\\item 975\n\\item 815\n\\item 1020\n\\item 906\n\\item 901\n\\item 1170\n\\item 912\n\\item 746\n\\item 919\n\\item 718\n\\item 714\n\\item 740\n\\end{enumerate*}\n",
            "text/markdown": "A Time Series:  \n1. 1120\n2. 1160\n3. 963\n4. 1210\n5. 1160\n6. 1160\n7. 813\n8. 1230\n9. 1370\n10. 1140\n11. 995\n12. 935\n13. 1110\n14. 994\n15. 1020\n16. 960\n17. 1180\n18. 799\n19. 958\n20. 1140\n21. 1100\n22. 1210\n23. 1150\n24. 1250\n25. 1260\n26. 1220\n27. 1030\n28. 1100\n29. 774\n30. 840\n31. 874\n32. 694\n33. 940\n34. 833\n35. 701\n36. 916\n37. 692\n38. 1020\n39. 1050\n40. 969\n41. 831\n42. 726\n43. 456\n44. 824\n45. 702\n46. 1120\n47. 1100\n48. 832\n49. 764\n50. 821\n51. 768\n52. 845\n53. 864\n54. 862\n55. 698\n56. 845\n57. 744\n58. 796\n59. 1040\n60. 759\n61. 781\n62. 865\n63. 845\n64. 944\n65. 984\n66. 897\n67. 822\n68. 1010\n69. 771\n70. 676\n71. 649\n72. 846\n73. 812\n74. 742\n75. 801\n76. 1040\n77. 860\n78. 874\n79. 848\n80. 890\n81. 744\n82. 749\n83. 838\n84. 1050\n85. 918\n86. 986\n87. 797\n88. 923\n89. 975\n90. 815\n91. 1020\n92. 906\n93. 901\n94. 1170\n95. 912\n96. 746\n97. 919\n98. 718\n99. 714\n100. 740\n\n\n",
            "text/html": [
              "A Time Series:<br><style>\n",
              ".list-inline {list-style: none; margin:0; padding: 0}\n",
              ".list-inline>li {display: inline-block}\n",
              ".list-inline>li:not(:last-child)::after {content: \"\\00b7\"; padding: 0 .5ex}\n",
              "</style>\n",
              "<ol class=list-inline><li>1120</li><li>1160</li><li>963</li><li>1210</li><li>1160</li><li>1160</li><li>813</li><li>1230</li><li>1370</li><li>1140</li><li>995</li><li>935</li><li>1110</li><li>994</li><li>1020</li><li>960</li><li>1180</li><li>799</li><li>958</li><li>1140</li><li>1100</li><li>1210</li><li>1150</li><li>1250</li><li>1260</li><li>1220</li><li>1030</li><li>1100</li><li>774</li><li>840</li><li>874</li><li>694</li><li>940</li><li>833</li><li>701</li><li>916</li><li>692</li><li>1020</li><li>1050</li><li>969</li><li>831</li><li>726</li><li>456</li><li>824</li><li>702</li><li>1120</li><li>1100</li><li>832</li><li>764</li><li>821</li><li>768</li><li>845</li><li>864</li><li>862</li><li>698</li><li>845</li><li>744</li><li>796</li><li>1040</li><li>759</li><li>781</li><li>865</li><li>845</li><li>944</li><li>984</li><li>897</li><li>822</li><li>1010</li><li>771</li><li>676</li><li>649</li><li>846</li><li>812</li><li>742</li><li>801</li><li>1040</li><li>860</li><li>874</li><li>848</li><li>890</li><li>744</li><li>749</li><li>838</li><li>1050</li><li>918</li><li>986</li><li>797</li><li>923</li><li>975</li><li>815</li><li>1020</li><li>906</li><li>901</li><li>1170</li><li>912</li><li>746</li><li>919</li><li>718</li><li>714</li><li>740</li></ol>\n"
            ]
          },
          "metadata": {
            "tags": []
          }
        }
      ]
    },
    {
      "cell_type": "code",
      "metadata": {
        "id": "nZGHO-it__7h"
      },
      "source": [
        "x <- iris"
      ],
      "execution_count": 57,
      "outputs": []
    },
    {
      "cell_type": "code",
      "metadata": {
        "id": "gasBkXtGAArU"
      },
      "source": [
        "data(mtcars)"
      ],
      "execution_count": 58,
      "outputs": []
    },
    {
      "cell_type": "code",
      "metadata": {
        "colab": {
          "base_uri": "https://localhost:8080/",
          "height": 437
        },
        "id": "lZUG9PGIACZA",
        "outputId": "d41d86aa-9ad5-4af8-c11f-678ab48a067c"
      },
      "source": [
        "hist(Nile)"
      ],
      "execution_count": 59,
      "outputs": [
        {
          "output_type": "display_data",
          "data": {
            "image/png": "[encoded data removed]",
            "text/plain": [
              "Plot with title “Histogram of Nile”"
            ]
          },
          "metadata": {
            "tags": [],
            "image/png": {
              "width": 420,
              "height": 420
            }
          }
        }
      ]
    },
    {
      "cell_type": "markdown",
      "metadata": {
        "id": "JAmxWQNfAVBx"
      },
      "source": [
        "## Help\n",
        "\n",
        "Look for documentation"
      ]
    },
    {
      "cell_type": "code",
      "metadata": {
        "id": "F7VbTjaEAFVx"
      },
      "source": [
        "help(\"hist\")"
      ],
      "execution_count": 60,
      "outputs": []
    },
    {
      "cell_type": "code",
      "metadata": {
        "id": "Zlz0fQMkAaCV"
      },
      "source": [
        "?hist"
      ],
      "execution_count": 61,
      "outputs": []
    },
    {
      "cell_type": "markdown",
      "metadata": {
        "id": "u9TP68pyBu6w"
      },
      "source": [
        "## Read csv file from computer"
      ]
    },
    {
      "cell_type": "code",
      "metadata": {
        "id": "-d9OSumGAh56"
      },
      "source": [
        "# use read.csv()"
      ],
      "execution_count": 62,
      "outputs": []
    },
    {
      "cell_type": "markdown",
      "metadata": {
        "id": "d5NhdyyYCUNy"
      },
      "source": [
        "# Write a function"
      ]
    },
    {
      "cell_type": "code",
      "metadata": {
        "id": "pF3Hzn7KB1OC"
      },
      "source": [
        "# this function is use to count odd number (support vector)\n",
        "\n",
        "oddcount <- function(x){\n",
        "  k <- 0 # assign 0 to k\n",
        "  for(n in x){\n",
        "    if(n %% 2 == 1) k<-k+1 # %% is the modulo operator \n",
        "  }\n",
        "  return(k)\n",
        "}"
      ],
      "execution_count": 69,
      "outputs": []
    },
    {
      "cell_type": "code",
      "metadata": {
        "colab": {
          "base_uri": "https://localhost:8080/",
          "height": 34
        },
        "id": "QnaoyRvkCxV0",
        "outputId": "d58855d9-a97f-4466-8405-4e905cee0183"
      },
      "source": [
        "oddcount(c(1,4,5,7,9,2,4))"
      ],
      "execution_count": 70,
      "outputs": [
        {
          "output_type": "display_data",
          "data": {
            "text/plain": [
              "[1] 4"
            ],
            "text/latex": "4",
            "text/markdown": "4",
            "text/html": [
              "4"
            ]
          },
          "metadata": {
            "tags": []
          }
        }
      ]
    },
    {
      "cell_type": "code",
      "metadata": {
        "id": "u6Vjs22TDJ5F"
      },
      "source": [
        "oddcount_short <- function(x){\n",
        "  return(sum(x%%2==1))\n",
        "}"
      ],
      "execution_count": 71,
      "outputs": []
    },
    {
      "cell_type": "code",
      "metadata": {
        "colab": {
          "base_uri": "https://localhost:8080/",
          "height": 34
        },
        "id": "IXMn7M_wDbCP",
        "outputId": "3ff2773f-deb0-44e5-e1ad-d3bb58a60dae"
      },
      "source": [
        "oddcount_short(c(1,4,5,7,9,2,4))"
      ],
      "execution_count": 72,
      "outputs": [
        {
          "output_type": "display_data",
          "data": {
            "text/plain": [
              "[1] 4"
            ],
            "text/latex": "4",
            "text/markdown": "4",
            "text/html": [
              "4"
            ]
          },
          "metadata": {
            "tags": []
          }
        }
      ]
    },
    {
      "cell_type": "code",
      "metadata": {
        "id": "uA5mflxHDc7h"
      },
      "source": [
        "# you can save this function in r script file and load it to use by soure(\"**NAME_OF_FUNCTION_SCRIPT_FILE**\")"
      ],
      "execution_count": 73,
      "outputs": []
    },
    {
      "cell_type": "markdown",
      "metadata": {
        "id": "E7Ta2M6ND1kv"
      },
      "source": [
        "# R objects - Basic classes"
      ]
    },
    {
      "cell_type": "code",
      "metadata": {
        "id": "RmoxRt41DwSx"
      },
      "source": [
        "x1 <- 'hello' # String"
      ],
      "execution_count": 74,
      "outputs": []
    },
    {
      "cell_type": "code",
      "metadata": {
        "id": "iBVECgEyENYq"
      },
      "source": [
        "x2 <- 1.5 # Numeric"
      ],
      "execution_count": 75,
      "outputs": []
    },
    {
      "cell_type": "code",
      "metadata": {
        "id": "nemY0ZzDEOWY"
      },
      "source": [
        "x3 <- as.integer(2) # Integer"
      ],
      "execution_count": 76,
      "outputs": []
    },
    {
      "cell_type": "code",
      "metadata": {
        "id": "EdhC4K6JEQKz"
      },
      "source": [
        "x4 <- 1+1i # Complex number"
      ],
      "execution_count": 77,
      "outputs": []
    },
    {
      "cell_type": "code",
      "metadata": {
        "id": "aa-oP0qnERY8"
      },
      "source": [
        "x5 <- FALSE # Boolean"
      ],
      "execution_count": 78,
      "outputs": []
    },
    {
      "cell_type": "markdown",
      "metadata": {
        "id": "bRN7SbJSF0ZE"
      },
      "source": [
        "## Vector"
      ]
    },
    {
      "cell_type": "code",
      "metadata": {
        "id": "oU51dH30ESof"
      },
      "source": [
        "x <- 1"
      ],
      "execution_count": 79,
      "outputs": []
    },
    {
      "cell_type": "code",
      "metadata": {
        "id": "pFyC6-X4F1-O"
      },
      "source": [
        "x <- c(2,4,6)"
      ],
      "execution_count": 80,
      "outputs": []
    },
    {
      "cell_type": "code",
      "metadata": {
        "colab": {
          "base_uri": "https://localhost:8080/",
          "height": 34
        },
        "id": "EGLeHMzMF4bV",
        "outputId": "2d092545-387b-4924-9949-77667f7b83d6"
      },
      "source": [
        "x"
      ],
      "execution_count": 81,
      "outputs": [
        {
          "output_type": "display_data",
          "data": {
            "text/plain": [
              "[1] 2 4 6"
            ],
            "text/latex": "\\begin{enumerate*}\n\\item 2\n\\item 4\n\\item 6\n\\end{enumerate*}\n",
            "text/markdown": "1. 2\n2. 4\n3. 6\n\n\n",
            "text/html": [
              "<style>\n",
              ".list-inline {list-style: none; margin:0; padding: 0}\n",
              ".list-inline>li {display: inline-block}\n",
              ".list-inline>li:not(:last-child)::after {content: \"\\00b7\"; padding: 0 .5ex}\n",
              "</style>\n",
              "<ol class=list-inline><li>2</li><li>4</li><li>6</li></ol>\n"
            ]
          },
          "metadata": {
            "tags": []
          }
        }
      ]
    },
    {
      "cell_type": "code",
      "metadata": {
        "id": "DgxqZQx-F99-"
      },
      "source": [
        "# if use want to insert or delete. you need to reassign because vectors are store contiguouly"
      ],
      "execution_count": 82,
      "outputs": []
    },
    {
      "cell_type": "code",
      "metadata": {
        "id": "UEXH8ki1GLv3"
      },
      "source": [
        "x <- 1:5"
      ],
      "execution_count": 83,
      "outputs": []
    },
    {
      "cell_type": "code",
      "metadata": {
        "id": "NpkI6Aq7GM3B"
      },
      "source": [
        "x <- c(x[1:3],0,x[4:5])"
      ],
      "execution_count": 84,
      "outputs": []
    },
    {
      "cell_type": "code",
      "metadata": {
        "colab": {
          "base_uri": "https://localhost:8080/",
          "height": 34
        },
        "id": "IcK8Hm1kGPvd",
        "outputId": "3bac514e-1fb8-4bf4-e994-8ea7b81e7935"
      },
      "source": [
        "x"
      ],
      "execution_count": 85,
      "outputs": [
        {
          "output_type": "display_data",
          "data": {
            "text/plain": [
              "[1] 1 2 3 0 4 5"
            ],
            "text/latex": "\\begin{enumerate*}\n\\item 1\n\\item 2\n\\item 3\n\\item 0\n\\item 4\n\\item 5\n\\end{enumerate*}\n",
            "text/markdown": "1. 1\n2. 2\n3. 3\n4. 0\n5. 4\n6. 5\n\n\n",
            "text/html": [
              "<style>\n",
              ".list-inline {list-style: none; margin:0; padding: 0}\n",
              ".list-inline>li {display: inline-block}\n",
              ".list-inline>li:not(:last-child)::after {content: \"\\00b7\"; padding: 0 .5ex}\n",
              "</style>\n",
              "<ol class=list-inline><li>1</li><li>2</li><li>3</li><li>0</li><li>4</li><li>5</li></ol>\n"
            ]
          },
          "metadata": {
            "tags": []
          }
        }
      ]
    },
    {
      "cell_type": "code",
      "metadata": {
        "colab": {
          "base_uri": "https://localhost:8080/",
          "height": 34
        },
        "id": "qTw0QhwGGQFl",
        "outputId": "7b28ede7-d471-47a6-b451-4a19646fd22b"
      },
      "source": [
        "length(x)"
      ],
      "execution_count": 86,
      "outputs": [
        {
          "output_type": "display_data",
          "data": {
            "text/plain": [
              "[1] 6"
            ],
            "text/latex": "6",
            "text/markdown": "6",
            "text/html": [
              "6"
            ]
          },
          "metadata": {
            "tags": []
          }
        }
      ]
    },
    {
      "cell_type": "markdown",
      "metadata": {
        "id": "gcAC8K_pGZXC"
      },
      "source": [
        "## Aritmetic operator"
      ]
    },
    {
      "cell_type": "code",
      "metadata": {
        "colab": {
          "base_uri": "https://localhost:8080/",
          "height": 51
        },
        "id": "m86SrA4NGRUx",
        "outputId": "0b58e7b3-608d-4351-f726-5f7069df2e65"
      },
      "source": [
        "x <- c(1,2,4)\n",
        "x + c(5,0,1) # Plus\n",
        "x - 1 # Minus"
      ],
      "execution_count": 92,
      "outputs": [
        {
          "output_type": "display_data",
          "data": {
            "text/plain": [
              "[1] 6 2 5"
            ],
            "text/latex": "\\begin{enumerate*}\n\\item 6\n\\item 2\n\\item 5\n\\end{enumerate*}\n",
            "text/markdown": "1. 6\n2. 2\n3. 5\n\n\n",
            "text/html": [
              "<style>\n",
              ".list-inline {list-style: none; margin:0; padding: 0}\n",
              ".list-inline>li {display: inline-block}\n",
              ".list-inline>li:not(:last-child)::after {content: \"\\00b7\"; padding: 0 .5ex}\n",
              "</style>\n",
              "<ol class=list-inline><li>6</li><li>2</li><li>5</li></ol>\n"
            ]
          },
          "metadata": {
            "tags": []
          }
        },
        {
          "output_type": "display_data",
          "data": {
            "text/plain": [
              "[1] 0 1 3"
            ],
            "text/latex": "\\begin{enumerate*}\n\\item 0\n\\item 1\n\\item 3\n\\end{enumerate*}\n",
            "text/markdown": "1. 0\n2. 1\n3. 3\n\n\n",
            "text/html": [
              "<style>\n",
              ".list-inline {list-style: none; margin:0; padding: 0}\n",
              ".list-inline>li {display: inline-block}\n",
              ".list-inline>li:not(:last-child)::after {content: \"\\00b7\"; padding: 0 .5ex}\n",
              "</style>\n",
              "<ol class=list-inline><li>0</li><li>1</li><li>3</li></ol>\n"
            ]
          },
          "metadata": {
            "tags": []
          }
        }
      ]
    },
    {
      "cell_type": "code",
      "metadata": {
        "colab": {
          "base_uri": "https://localhost:8080/",
          "height": 68
        },
        "id": "70NeP30SGXk4",
        "outputId": "fae12428-5b9a-4700-8c1c-8a45c0aecb75"
      },
      "source": [
        "x + c(2,1) # becarefull with not same lenght vector"
      ],
      "execution_count": 93,
      "outputs": [
        {
          "output_type": "stream",
          "text": [
            "Warning message in x + c(2, 1):\n",
            "“longer object length is not a multiple of shorter object length”\n"
          ],
          "name": "stderr"
        },
        {
          "output_type": "display_data",
          "data": {
            "text/plain": [
              "[1] 3 3 6"
            ],
            "text/latex": "\\begin{enumerate*}\n\\item 3\n\\item 3\n\\item 6\n\\end{enumerate*}\n",
            "text/markdown": "1. 3\n2. 3\n3. 6\n\n\n",
            "text/html": [
              "<style>\n",
              ".list-inline {list-style: none; margin:0; padding: 0}\n",
              ".list-inline>li {display: inline-block}\n",
              ".list-inline>li:not(:last-child)::after {content: \"\\00b7\"; padding: 0 .5ex}\n",
              "</style>\n",
              "<ol class=list-inline><li>3</li><li>3</li><li>6</li></ol>\n"
            ]
          },
          "metadata": {
            "tags": []
          }
        }
      ]
    },
    {
      "cell_type": "code",
      "metadata": {
        "colab": {
          "base_uri": "https://localhost:8080/",
          "height": 34
        },
        "id": "fQ7C8uzZGoQV",
        "outputId": "61c35a59-1a16-450d-aa99-12d546a18bfd"
      },
      "source": [
        "x * c(5,0,4) # Mulitplication (Element-wise)"
      ],
      "execution_count": 96,
      "outputs": [
        {
          "output_type": "display_data",
          "data": {
            "text/plain": [
              "[1]  5  0 16"
            ],
            "text/latex": "\\begin{enumerate*}\n\\item 5\n\\item 0\n\\item 16\n\\end{enumerate*}\n",
            "text/markdown": "1. 5\n2. 0\n3. 16\n\n\n",
            "text/html": [
              "<style>\n",
              ".list-inline {list-style: none; margin:0; padding: 0}\n",
              ".list-inline>li {display: inline-block}\n",
              ".list-inline>li:not(:last-child)::after {content: \"\\00b7\"; padding: 0 .5ex}\n",
              "</style>\n",
              "<ol class=list-inline><li>5</li><li>0</li><li>16</li></ol>\n"
            ]
          },
          "metadata": {
            "tags": []
          }
        }
      ]
    },
    {
      "cell_type": "code",
      "metadata": {
        "colab": {
          "base_uri": "https://localhost:8080/",
          "height": 34
        },
        "id": "OZA9QTy6GrpG",
        "outputId": "30d53c7f-d9ab-4632-b716-acce60407429"
      },
      "source": [
        "x / c(5,4,-1) # Division (Element-wise)"
      ],
      "execution_count": 97,
      "outputs": [
        {
          "output_type": "display_data",
          "data": {
            "text/plain": [
              "[1]  0.2  0.5 -4.0"
            ],
            "text/latex": "\\begin{enumerate*}\n\\item 0.2\n\\item 0.5\n\\item -4\n\\end{enumerate*}\n",
            "text/markdown": "1. 0.2\n2. 0.5\n3. -4\n\n\n",
            "text/html": [
              "<style>\n",
              ".list-inline {list-style: none; margin:0; padding: 0}\n",
              ".list-inline>li {display: inline-block}\n",
              ".list-inline>li:not(:last-child)::after {content: \"\\00b7\"; padding: 0 .5ex}\n",
              "</style>\n",
              "<ol class=list-inline><li>0.2</li><li>0.5</li><li>-4</li></ol>\n"
            ]
          },
          "metadata": {
            "tags": []
          }
        }
      ]
    },
    {
      "cell_type": "code",
      "metadata": {
        "colab": {
          "base_uri": "https://localhost:8080/",
          "height": 34
        },
        "id": "faSN3QUjG_eu",
        "outputId": "7bbb3adb-b3de-4329-c42c-085a6a4aa6aa"
      },
      "source": [
        "x %% c(5,4,-1) # Modulus (Element-wise)"
      ],
      "execution_count": 98,
      "outputs": [
        {
          "output_type": "display_data",
          "data": {
            "text/plain": [
              "[1] 1 2 0"
            ],
            "text/latex": "\\begin{enumerate*}\n\\item 1\n\\item 2\n\\item 0\n\\end{enumerate*}\n",
            "text/markdown": "1. 1\n2. 2\n3. 0\n\n\n",
            "text/html": [
              "<style>\n",
              ".list-inline {list-style: none; margin:0; padding: 0}\n",
              ".list-inline>li {display: inline-block}\n",
              ".list-inline>li:not(:last-child)::after {content: \"\\00b7\"; padding: 0 .5ex}\n",
              "</style>\n",
              "<ol class=list-inline><li>1</li><li>2</li><li>0</li></ol>\n"
            ]
          },
          "metadata": {
            "tags": []
          }
        }
      ]
    },
    {
      "cell_type": "markdown",
      "metadata": {
        "id": "AEW8C14pHGMn"
      },
      "source": [
        "## NA: missing data"
      ]
    },
    {
      "cell_type": "code",
      "metadata": {
        "id": "bRmblCeoHCZD"
      },
      "source": [
        "x <- c(1:5,NA,6:10)"
      ],
      "execution_count": 102,
      "outputs": []
    },
    {
      "cell_type": "code",
      "metadata": {
        "colab": {
          "base_uri": "https://localhost:8080/",
          "height": 51
        },
        "id": "br46_yHAHOFG",
        "outputId": "f4553643-90fd-45ec-bda8-3b26d4cc522b"
      },
      "source": [
        "x"
      ],
      "execution_count": 103,
      "outputs": [
        {
          "output_type": "display_data",
          "data": {
            "text/plain": [
              " [1]  1  2  3  4  5 NA  6  7  8  9 10"
            ],
            "text/latex": "\\begin{enumerate*}\n\\item 1\n\\item 2\n\\item 3\n\\item 4\n\\item 5\n\\item <NA>\n\\item 6\n\\item 7\n\\item 8\n\\item 9\n\\item 10\n\\end{enumerate*}\n",
            "text/markdown": "1. 1\n2. 2\n3. 3\n4. 4\n5. 5\n6. &lt;NA&gt;\n7. 6\n8. 7\n9. 8\n10. 9\n11. 10\n\n\n",
            "text/html": [
              "<style>\n",
              ".list-inline {list-style: none; margin:0; padding: 0}\n",
              ".list-inline>li {display: inline-block}\n",
              ".list-inline>li:not(:last-child)::after {content: \"\\00b7\"; padding: 0 .5ex}\n",
              "</style>\n",
              "<ol class=list-inline><li>1</li><li>2</li><li>3</li><li>4</li><li>5</li><li>&lt;NA&gt;</li><li>6</li><li>7</li><li>8</li><li>9</li><li>10</li></ol>\n"
            ]
          },
          "metadata": {
            "tags": []
          }
        },
        {
          "output_type": "display_data",
          "data": {
            "text/plain": [
              " [1]  1  2  3  4  5 NA  6  7  8  9 10"
            ],
            "text/latex": "\\begin{enumerate*}\n\\item 1\n\\item 2\n\\item 3\n\\item 4\n\\item 5\n\\item <NA>\n\\item 6\n\\item 7\n\\item 8\n\\item 9\n\\item 10\n\\end{enumerate*}\n",
            "text/markdown": "1. 1\n2. 2\n3. 3\n4. 4\n5. 5\n6. &lt;NA&gt;\n7. 6\n8. 7\n9. 8\n10. 9\n11. 10\n\n\n",
            "text/html": [
              "<style>\n",
              ".list-inline {list-style: none; margin:0; padding: 0}\n",
              ".list-inline>li {display: inline-block}\n",
              ".list-inline>li:not(:last-child)::after {content: \"\\00b7\"; padding: 0 .5ex}\n",
              "</style>\n",
              "<ol class=list-inline><li>1</li><li>2</li><li>3</li><li>4</li><li>5</li><li>&lt;NA&gt;</li><li>6</li><li>7</li><li>8</li><li>9</li><li>10</li></ol>\n"
            ]
          },
          "metadata": {
            "tags": []
          }
        }
      ]
    },
    {
      "cell_type": "code",
      "metadata": {
        "colab": {
          "base_uri": "https://localhost:8080/",
          "height": 51
        },
        "id": "8pG0jhptHOkn",
        "outputId": "e212ed4a-849d-439f-b3d3-f8b39f0cc625"
      },
      "source": [
        "mean(x)"
      ],
      "execution_count": 104,
      "outputs": [
        {
          "output_type": "display_data",
          "data": {
            "text/plain": [
              "[1] NA"
            ],
            "text/latex": "<NA>",
            "text/markdown": "&lt;NA&gt;",
            "text/html": [
              "&lt;NA&gt;"
            ]
          },
          "metadata": {
            "tags": []
          }
        },
        {
          "output_type": "display_data",
          "data": {
            "text/plain": [
              "[1] NA"
            ],
            "text/latex": "<NA>",
            "text/markdown": "&lt;NA&gt;",
            "text/html": [
              "&lt;NA&gt;"
            ]
          },
          "metadata": {
            "tags": []
          }
        }
      ]
    },
    {
      "cell_type": "code",
      "metadata": {
        "colab": {
          "base_uri": "https://localhost:8080/",
          "height": 34
        },
        "id": "T5lzgegVHPr9",
        "outputId": "ba21672c-4ab7-4df6-9f4a-119f99727354"
      },
      "source": [
        "mean(x, na.rm = TRUE)"
      ],
      "execution_count": 105,
      "outputs": [
        {
          "output_type": "display_data",
          "data": {
            "text/plain": [
              "[1] 5.5"
            ],
            "text/latex": "5.5",
            "text/markdown": "5.5",
            "text/html": [
              "5.5"
            ]
          },
          "metadata": {
            "tags": []
          }
        }
      ]
    },
    {
      "cell_type": "code",
      "metadata": {
        "colab": {
          "base_uri": "https://localhost:8080/",
          "height": 34
        },
        "id": "ipgWCJrkHWlf",
        "outputId": "0bb3ea74-2dd9-42ac-f1ac-4aec9a4b02bb"
      },
      "source": [
        "mean(na.omit(x))"
      ],
      "execution_count": 106,
      "outputs": [
        {
          "output_type": "display_data",
          "data": {
            "text/plain": [
              "[1] 5.5"
            ],
            "text/latex": "5.5",
            "text/markdown": "5.5",
            "text/html": [
              "5.5"
            ]
          },
          "metadata": {
            "tags": []
          }
        }
      ]
    },
    {
      "cell_type": "markdown",
      "metadata": {
        "id": "sFPEV_8GHeNG"
      },
      "source": [
        "## NULL: noting, empty set"
      ]
    },
    {
      "cell_type": "code",
      "metadata": {
        "id": "YHnaxpk_HZDv"
      },
      "source": [
        "x1 <- c(1:5, NULL, 6:10)"
      ],
      "execution_count": 107,
      "outputs": []
    },
    {
      "cell_type": "code",
      "metadata": {
        "colab": {
          "base_uri": "https://localhost:8080/",
          "height": 34
        },
        "id": "06v1uvq8HkNT",
        "outputId": "21ccb666-ad48-4522-dc58-13a7dd299138"
      },
      "source": [
        "x1"
      ],
      "execution_count": 108,
      "outputs": [
        {
          "output_type": "display_data",
          "data": {
            "text/plain": [
              " [1]  1  2  3  4  5  6  7  8  9 10"
            ],
            "text/latex": "\\begin{enumerate*}\n\\item 1\n\\item 2\n\\item 3\n\\item 4\n\\item 5\n\\item 6\n\\item 7\n\\item 8\n\\item 9\n\\item 10\n\\end{enumerate*}\n",
            "text/markdown": "1. 1\n2. 2\n3. 3\n4. 4\n5. 5\n6. 6\n7. 7\n8. 8\n9. 9\n10. 10\n\n\n",
            "text/html": [
              "<style>\n",
              ".list-inline {list-style: none; margin:0; padding: 0}\n",
              ".list-inline>li {display: inline-block}\n",
              ".list-inline>li:not(:last-child)::after {content: \"\\00b7\"; padding: 0 .5ex}\n",
              "</style>\n",
              "<ol class=list-inline><li>1</li><li>2</li><li>3</li><li>4</li><li>5</li><li>6</li><li>7</li><li>8</li><li>9</li><li>10</li></ol>\n"
            ]
          },
          "metadata": {
            "tags": []
          }
        }
      ]
    },
    {
      "cell_type": "code",
      "metadata": {
        "id": "zPIVGALEHkem"
      },
      "source": [
        "z <- NULL"
      ],
      "execution_count": 109,
      "outputs": []
    },
    {
      "cell_type": "code",
      "metadata": {
        "id": "8VqIsYYgHmY9"
      },
      "source": [
        "for(i in 1:10) if (i%%2==0) z <- c(z,i)"
      ],
      "execution_count": 110,
      "outputs": []
    },
    {
      "cell_type": "code",
      "metadata": {
        "colab": {
          "base_uri": "https://localhost:8080/",
          "height": 34
        },
        "id": "glibtz3XHsV5",
        "outputId": "0422a386-7908-4da3-8fa6-4ef793b3e35f"
      },
      "source": [
        "z"
      ],
      "execution_count": 111,
      "outputs": [
        {
          "output_type": "display_data",
          "data": {
            "text/plain": [
              "[1]  2  4  6  8 10"
            ],
            "text/latex": "\\begin{enumerate*}\n\\item 2\n\\item 4\n\\item 6\n\\item 8\n\\item 10\n\\end{enumerate*}\n",
            "text/markdown": "1. 2\n2. 4\n3. 6\n4. 8\n5. 10\n\n\n",
            "text/html": [
              "<style>\n",
              ".list-inline {list-style: none; margin:0; padding: 0}\n",
              ".list-inline>li {display: inline-block}\n",
              ".list-inline>li:not(:last-child)::after {content: \"\\00b7\"; padding: 0 .5ex}\n",
              "</style>\n",
              "<ol class=list-inline><li>2</li><li>4</li><li>6</li><li>8</li><li>10</li></ol>\n"
            ]
          },
          "metadata": {
            "tags": []
          }
        }
      ]
    },
    {
      "cell_type": "markdown",
      "metadata": {
        "id": "B1m3GREfH0ku"
      },
      "source": [
        "## Filtering vector"
      ]
    },
    {
      "cell_type": "code",
      "metadata": {
        "colab": {
          "base_uri": "https://localhost:8080/",
          "height": 34
        },
        "id": "2u-UaV-iHs1b",
        "outputId": "adb5f34a-5adf-44d3-9e45-df20b871c2db"
      },
      "source": [
        "x <- 1:10\n",
        "x[x>5]"
      ],
      "execution_count": 113,
      "outputs": [
        {
          "output_type": "display_data",
          "data": {
            "text/plain": [
              "[1]  6  7  8  9 10"
            ],
            "text/latex": "\\begin{enumerate*}\n\\item 6\n\\item 7\n\\item 8\n\\item 9\n\\item 10\n\\end{enumerate*}\n",
            "text/markdown": "1. 6\n2. 7\n3. 8\n4. 9\n5. 10\n\n\n",
            "text/html": [
              "<style>\n",
              ".list-inline {list-style: none; margin:0; padding: 0}\n",
              ".list-inline>li {display: inline-block}\n",
              ".list-inline>li:not(:last-child)::after {content: \"\\00b7\"; padding: 0 .5ex}\n",
              "</style>\n",
              "<ol class=list-inline><li>6</li><li>7</li><li>8</li><li>9</li><li>10</li></ol>\n"
            ]
          },
          "metadata": {
            "tags": []
          }
        }
      ]
    },
    {
      "cell_type": "code",
      "metadata": {
        "colab": {
          "base_uri": "https://localhost:8080/",
          "height": 34
        },
        "id": "g8PdmKqaIFzi",
        "outputId": "b42d412b-d08a-4260-ddd9-c65d8f4f2830"
      },
      "source": [
        "x>5"
      ],
      "execution_count": 114,
      "outputs": [
        {
          "output_type": "display_data",
          "data": {
            "text/plain": [
              " [1] FALSE FALSE FALSE FALSE FALSE  TRUE  TRUE  TRUE  TRUE  TRUE"
            ],
            "text/latex": "\\begin{enumerate*}\n\\item FALSE\n\\item FALSE\n\\item FALSE\n\\item FALSE\n\\item FALSE\n\\item TRUE\n\\item TRUE\n\\item TRUE\n\\item TRUE\n\\item TRUE\n\\end{enumerate*}\n",
            "text/markdown": "1. FALSE\n2. FALSE\n3. FALSE\n4. FALSE\n5. FALSE\n6. TRUE\n7. TRUE\n8. TRUE\n9. TRUE\n10. TRUE\n\n\n",
            "text/html": [
              "<style>\n",
              ".list-inline {list-style: none; margin:0; padding: 0}\n",
              ".list-inline>li {display: inline-block}\n",
              ".list-inline>li:not(:last-child)::after {content: \"\\00b7\"; padding: 0 .5ex}\n",
              "</style>\n",
              "<ol class=list-inline><li>FALSE</li><li>FALSE</li><li>FALSE</li><li>FALSE</li><li>FALSE</li><li>TRUE</li><li>TRUE</li><li>TRUE</li><li>TRUE</li><li>TRUE</li></ol>\n"
            ]
          },
          "metadata": {
            "tags": []
          }
        }
      ]
    },
    {
      "cell_type": "code",
      "metadata": {
        "colab": {
          "base_uri": "https://localhost:8080/",
          "height": 34
        },
        "id": "6Xq9HoFhIJPu",
        "outputId": "6bb4f38b-9bf2-411a-fab4-df68ac9c78b9"
      },
      "source": [
        "x[x<4] <- 0\n",
        "x"
      ],
      "execution_count": 115,
      "outputs": [
        {
          "output_type": "display_data",
          "data": {
            "text/plain": [
              " [1]  0  0  0  4  5  6  7  8  9 10"
            ],
            "text/latex": "\\begin{enumerate*}\n\\item 0\n\\item 0\n\\item 0\n\\item 4\n\\item 5\n\\item 6\n\\item 7\n\\item 8\n\\item 9\n\\item 10\n\\end{enumerate*}\n",
            "text/markdown": "1. 0\n2. 0\n3. 0\n4. 4\n5. 5\n6. 6\n7. 7\n8. 8\n9. 9\n10. 10\n\n\n",
            "text/html": [
              "<style>\n",
              ".list-inline {list-style: none; margin:0; padding: 0}\n",
              ".list-inline>li {display: inline-block}\n",
              ".list-inline>li:not(:last-child)::after {content: \"\\00b7\"; padding: 0 .5ex}\n",
              "</style>\n",
              "<ol class=list-inline><li>0</li><li>0</li><li>0</li><li>4</li><li>5</li><li>6</li><li>7</li><li>8</li><li>9</li><li>10</li></ol>\n"
            ]
          },
          "metadata": {
            "tags": []
          }
        }
      ]
    },
    {
      "cell_type": "markdown",
      "metadata": {
        "id": "D8_xgzESIRmt"
      },
      "source": [
        "### which() create a vector function that use to filter"
      ]
    },
    {
      "cell_type": "code",
      "metadata": {
        "id": "UWWZi07IIM3N"
      },
      "source": [
        "x <- 1:10"
      ],
      "execution_count": 116,
      "outputs": []
    },
    {
      "cell_type": "code",
      "metadata": {
        "colab": {
          "base_uri": "https://localhost:8080/",
          "height": 34
        },
        "id": "ZWJ3FVhSIbM_",
        "outputId": "83272473-42ff-42bc-caa5-7bb2c3f22e31"
      },
      "source": [
        "x"
      ],
      "execution_count": 117,
      "outputs": [
        {
          "output_type": "display_data",
          "data": {
            "text/plain": [
              " [1]  1  2  3  4  5  6  7  8  9 10"
            ],
            "text/latex": "\\begin{enumerate*}\n\\item 1\n\\item 2\n\\item 3\n\\item 4\n\\item 5\n\\item 6\n\\item 7\n\\item 8\n\\item 9\n\\item 10\n\\end{enumerate*}\n",
            "text/markdown": "1. 1\n2. 2\n3. 3\n4. 4\n5. 5\n6. 6\n7. 7\n8. 8\n9. 9\n10. 10\n\n\n",
            "text/html": [
              "<style>\n",
              ".list-inline {list-style: none; margin:0; padding: 0}\n",
              ".list-inline>li {display: inline-block}\n",
              ".list-inline>li:not(:last-child)::after {content: \"\\00b7\"; padding: 0 .5ex}\n",
              "</style>\n",
              "<ol class=list-inline><li>1</li><li>2</li><li>3</li><li>4</li><li>5</li><li>6</li><li>7</li><li>8</li><li>9</li><li>10</li></ol>\n"
            ]
          },
          "metadata": {
            "tags": []
          }
        }
      ]
    },
    {
      "cell_type": "code",
      "metadata": {
        "colab": {
          "base_uri": "https://localhost:8080/",
          "height": 34
        },
        "id": "4MyC2h9jIbgK",
        "outputId": "5127efa4-9ef3-4666-f5ed-ba2f8a840fc5"
      },
      "source": [
        "which(x*x > 50)"
      ],
      "execution_count": 118,
      "outputs": [
        {
          "output_type": "display_data",
          "data": {
            "text/plain": [
              "[1]  8  9 10"
            ],
            "text/latex": "\\begin{enumerate*}\n\\item 8\n\\item 9\n\\item 10\n\\end{enumerate*}\n",
            "text/markdown": "1. 8\n2. 9\n3. 10\n\n\n",
            "text/html": [
              "<style>\n",
              ".list-inline {list-style: none; margin:0; padding: 0}\n",
              ".list-inline>li {display: inline-block}\n",
              ".list-inline>li:not(:last-child)::after {content: \"\\00b7\"; padding: 0 .5ex}\n",
              "</style>\n",
              "<ol class=list-inline><li>8</li><li>9</li><li>10</li></ol>\n"
            ]
          },
          "metadata": {
            "tags": []
          }
        }
      ]
    },
    {
      "cell_type": "markdown",
      "metadata": {
        "id": "1rv8-khIIjvG"
      },
      "source": [
        "## Matrix"
      ]
    },
    {
      "cell_type": "code",
      "metadata": {
        "colab": {
          "base_uri": "https://localhost:8080/",
          "height": 163
        },
        "id": "3AmrOPoiIdOL",
        "outputId": "31dc1dc3-46e9-4bed-d7d9-c9c7daae844b"
      },
      "source": [
        "m <- matrix(1:4,nrow=2,ncol=2)\n",
        "m"
      ],
      "execution_count": 119,
      "outputs": [
        {
          "output_type": "display_data",
          "data": {
            "text/plain": [
              "     [,1] [,2]\n",
              "[1,] 1    3   \n",
              "[2,] 2    4   "
            ],
            "text/latex": "A matrix: 2 × 2 of type int\n\\begin{tabular}{ll}\n\t 1 & 3\\\\\n\t 2 & 4\\\\\n\\end{tabular}\n",
            "text/markdown": "\nA matrix: 2 × 2 of type int\n\n| 1 | 3 |\n| 2 | 4 |\n\n",
            "text/html": [
              "<table>\n",
              "<caption>A matrix: 2 × 2 of type int</caption>\n",
              "<tbody>\n",
              "\t<tr><td>1</td><td>3</td></tr>\n",
              "\t<tr><td>2</td><td>4</td></tr>\n",
              "</tbody>\n",
              "</table>\n"
            ]
          },
          "metadata": {
            "tags": []
          }
        }
      ]
    },
    {
      "cell_type": "code",
      "metadata": {
        "colab": {
          "base_uri": "https://localhost:8080/",
          "height": 163
        },
        "id": "wKYfWLXxIqUe",
        "outputId": "1bf1383e-a73d-497e-be86-778ae8476616"
      },
      "source": [
        "y <- matrix(1:6,nrow=2)\n",
        "y"
      ],
      "execution_count": 120,
      "outputs": [
        {
          "output_type": "display_data",
          "data": {
            "text/plain": [
              "     [,1] [,2] [,3]\n",
              "[1,] 1    3    5   \n",
              "[2,] 2    4    6   "
            ],
            "text/latex": "A matrix: 2 × 3 of type int\n\\begin{tabular}{lll}\n\t 1 & 3 & 5\\\\\n\t 2 & 4 & 6\\\\\n\\end{tabular}\n",
            "text/markdown": "\nA matrix: 2 × 3 of type int\n\n| 1 | 3 | 5 |\n| 2 | 4 | 6 |\n\n",
            "text/html": [
              "<table>\n",
              "<caption>A matrix: 2 × 3 of type int</caption>\n",
              "<tbody>\n",
              "\t<tr><td>1</td><td>3</td><td>5</td></tr>\n",
              "\t<tr><td>2</td><td>4</td><td>6</td></tr>\n",
              "</tbody>\n",
              "</table>\n"
            ]
          },
          "metadata": {
            "tags": []
          }
        }
      ]
    },
    {
      "cell_type": "code",
      "metadata": {
        "colab": {
          "base_uri": "https://localhost:8080/",
          "height": 163
        },
        "id": "N4Tkv2bvIvJW",
        "outputId": "5a9e0612-b06b-4539-f750-f5e445ebb603"
      },
      "source": [
        "y <- matrix(1:6,nrow=2, byrow = TRUE)\n",
        "y"
      ],
      "execution_count": 121,
      "outputs": [
        {
          "output_type": "display_data",
          "data": {
            "text/plain": [
              "     [,1] [,2] [,3]\n",
              "[1,] 1    2    3   \n",
              "[2,] 4    5    6   "
            ],
            "text/latex": "A matrix: 2 × 3 of type int\n\\begin{tabular}{lll}\n\t 1 & 2 & 3\\\\\n\t 4 & 5 & 6\\\\\n\\end{tabular}\n",
            "text/markdown": "\nA matrix: 2 × 3 of type int\n\n| 1 | 2 | 3 |\n| 4 | 5 | 6 |\n\n",
            "text/html": [
              "<table>\n",
              "<caption>A matrix: 2 × 3 of type int</caption>\n",
              "<tbody>\n",
              "\t<tr><td>1</td><td>2</td><td>3</td></tr>\n",
              "\t<tr><td>4</td><td>5</td><td>6</td></tr>\n",
              "</tbody>\n",
              "</table>\n"
            ]
          },
          "metadata": {
            "tags": []
          }
        }
      ]
    },
    {
      "cell_type": "markdown",
      "metadata": {
        "id": "QnakzvmjI2qJ"
      },
      "source": [
        "### Operation"
      ]
    },
    {
      "cell_type": "code",
      "metadata": {
        "colab": {
          "base_uri": "https://localhost:8080/",
          "height": 163
        },
        "id": "G9-InHS4IzcD",
        "outputId": "0afde1f8-8476-4bf1-8e7c-52a3dc7fbba2"
      },
      "source": [
        "m"
      ],
      "execution_count": 122,
      "outputs": [
        {
          "output_type": "display_data",
          "data": {
            "text/plain": [
              "     [,1] [,2]\n",
              "[1,] 1    3   \n",
              "[2,] 2    4   "
            ],
            "text/latex": "A matrix: 2 × 2 of type int\n\\begin{tabular}{ll}\n\t 1 & 3\\\\\n\t 2 & 4\\\\\n\\end{tabular}\n",
            "text/markdown": "\nA matrix: 2 × 2 of type int\n\n| 1 | 3 |\n| 2 | 4 |\n\n",
            "text/html": [
              "<table>\n",
              "<caption>A matrix: 2 × 2 of type int</caption>\n",
              "<tbody>\n",
              "\t<tr><td>1</td><td>3</td></tr>\n",
              "\t<tr><td>2</td><td>4</td></tr>\n",
              "</tbody>\n",
              "</table>\n"
            ]
          },
          "metadata": {
            "tags": []
          }
        }
      ]
    },
    {
      "cell_type": "code",
      "metadata": {
        "colab": {
          "base_uri": "https://localhost:8080/",
          "height": 163
        },
        "id": "CUJ7QRKaI4Zn",
        "outputId": "407cfcfb-ee4f-4599-a869-71faf780a0de"
      },
      "source": [
        "3*m"
      ],
      "execution_count": 123,
      "outputs": [
        {
          "output_type": "display_data",
          "data": {
            "text/plain": [
              "     [,1] [,2]\n",
              "[1,] 3     9  \n",
              "[2,] 6    12  "
            ],
            "text/latex": "A matrix: 2 × 2 of type dbl\n\\begin{tabular}{ll}\n\t 3 &  9\\\\\n\t 6 & 12\\\\\n\\end{tabular}\n",
            "text/markdown": "\nA matrix: 2 × 2 of type dbl\n\n| 3 |  9 |\n| 6 | 12 |\n\n",
            "text/html": [
              "<table>\n",
              "<caption>A matrix: 2 × 2 of type dbl</caption>\n",
              "<tbody>\n",
              "\t<tr><td>3</td><td> 9</td></tr>\n",
              "\t<tr><td>6</td><td>12</td></tr>\n",
              "</tbody>\n",
              "</table>\n"
            ]
          },
          "metadata": {
            "tags": []
          }
        }
      ]
    },
    {
      "cell_type": "code",
      "metadata": {
        "colab": {
          "base_uri": "https://localhost:8080/",
          "height": 163
        },
        "id": "B752d2WnI47c",
        "outputId": "0294c15a-f77d-4c2a-87a3-354aede5c079"
      },
      "source": [
        "m %*% m"
      ],
      "execution_count": 124,
      "outputs": [
        {
          "output_type": "display_data",
          "data": {
            "text/plain": [
              "     [,1] [,2]\n",
              "[1,]  7   15  \n",
              "[2,] 10   22  "
            ],
            "text/latex": "A matrix: 2 × 2 of type dbl\n\\begin{tabular}{ll}\n\t  7 & 15\\\\\n\t 10 & 22\\\\\n\\end{tabular}\n",
            "text/markdown": "\nA matrix: 2 × 2 of type dbl\n\n|  7 | 15 |\n| 10 | 22 |\n\n",
            "text/html": [
              "<table>\n",
              "<caption>A matrix: 2 × 2 of type dbl</caption>\n",
              "<tbody>\n",
              "\t<tr><td> 7</td><td>15</td></tr>\n",
              "\t<tr><td>10</td><td>22</td></tr>\n",
              "</tbody>\n",
              "</table>\n"
            ]
          },
          "metadata": {
            "tags": []
          }
        }
      ]
    },
    {
      "cell_type": "code",
      "metadata": {
        "colab": {
          "base_uri": "https://localhost:8080/",
          "height": 163
        },
        "id": "FaAvaaQQI7l8",
        "outputId": "37894124-e992-44a3-e71c-3e8b79bbabf9"
      },
      "source": [
        "m+m"
      ],
      "execution_count": 125,
      "outputs": [
        {
          "output_type": "display_data",
          "data": {
            "text/plain": [
              "     [,1] [,2]\n",
              "[1,] 2    6   \n",
              "[2,] 4    8   "
            ],
            "text/latex": "A matrix: 2 × 2 of type int\n\\begin{tabular}{ll}\n\t 2 & 6\\\\\n\t 4 & 8\\\\\n\\end{tabular}\n",
            "text/markdown": "\nA matrix: 2 × 2 of type int\n\n| 2 | 6 |\n| 4 | 8 |\n\n",
            "text/html": [
              "<table>\n",
              "<caption>A matrix: 2 × 2 of type int</caption>\n",
              "<tbody>\n",
              "\t<tr><td>2</td><td>6</td></tr>\n",
              "\t<tr><td>4</td><td>8</td></tr>\n",
              "</tbody>\n",
              "</table>\n"
            ]
          },
          "metadata": {
            "tags": []
          }
        }
      ]
    },
    {
      "cell_type": "markdown",
      "metadata": {
        "id": "BUT2N122I_8Y"
      },
      "source": [
        "### Indexing"
      ]
    },
    {
      "cell_type": "code",
      "metadata": {
        "id": "xX1Jj9VwI-fZ"
      },
      "source": [
        "z <- matrix(1:16, nrow=4)"
      ],
      "execution_count": 127,
      "outputs": []
    },
    {
      "cell_type": "code",
      "metadata": {
        "colab": {
          "base_uri": "https://localhost:8080/",
          "height": 205
        },
        "id": "sHRMfWgvJcBd",
        "outputId": "57dbdfad-1e32-427d-9073-b4adb46a0f50"
      },
      "source": [
        "z[,2:3]"
      ],
      "execution_count": 128,
      "outputs": [
        {
          "output_type": "display_data",
          "data": {
            "text/plain": [
              "     [,1] [,2]\n",
              "[1,] 5     9  \n",
              "[2,] 6    10  \n",
              "[3,] 7    11  \n",
              "[4,] 8    12  "
            ],
            "text/latex": "A matrix: 4 × 2 of type int\n\\begin{tabular}{ll}\n\t 5 &  9\\\\\n\t 6 & 10\\\\\n\t 7 & 11\\\\\n\t 8 & 12\\\\\n\\end{tabular}\n",
            "text/markdown": "\nA matrix: 4 × 2 of type int\n\n| 5 |  9 |\n| 6 | 10 |\n| 7 | 11 |\n| 8 | 12 |\n\n",
            "text/html": [
              "<table>\n",
              "<caption>A matrix: 4 × 2 of type int</caption>\n",
              "<tbody>\n",
              "\t<tr><td>5</td><td> 9</td></tr>\n",
              "\t<tr><td>6</td><td>10</td></tr>\n",
              "\t<tr><td>7</td><td>11</td></tr>\n",
              "\t<tr><td>8</td><td>12</td></tr>\n",
              "</tbody>\n",
              "</table>\n"
            ]
          },
          "metadata": {
            "tags": []
          }
        }
      ]
    },
    {
      "cell_type": "markdown",
      "metadata": {
        "id": "XuebCR0VJmSr"
      },
      "source": [
        "### Adding or deleting matrix rows and columns"
      ]
    },
    {
      "cell_type": "code",
      "metadata": {
        "id": "bhBKRkivJggA"
      },
      "source": [
        "z <- matrix(1:6, nrow=3)"
      ],
      "execution_count": 131,
      "outputs": []
    },
    {
      "cell_type": "code",
      "metadata": {
        "colab": {
          "base_uri": "https://localhost:8080/",
          "height": 184
        },
        "id": "ORY_MT45KINT",
        "outputId": "08309b82-b01f-461e-eeac-12effa031577"
      },
      "source": [
        "z"
      ],
      "execution_count": 132,
      "outputs": [
        {
          "output_type": "display_data",
          "data": {
            "text/plain": [
              "     [,1] [,2]\n",
              "[1,] 1    4   \n",
              "[2,] 2    5   \n",
              "[3,] 3    6   "
            ],
            "text/latex": "A matrix: 3 × 2 of type int\n\\begin{tabular}{ll}\n\t 1 & 4\\\\\n\t 2 & 5\\\\\n\t 3 & 6\\\\\n\\end{tabular}\n",
            "text/markdown": "\nA matrix: 3 × 2 of type int\n\n| 1 | 4 |\n| 2 | 5 |\n| 3 | 6 |\n\n",
            "text/html": [
              "<table>\n",
              "<caption>A matrix: 3 × 2 of type int</caption>\n",
              "<tbody>\n",
              "\t<tr><td>1</td><td>4</td></tr>\n",
              "\t<tr><td>2</td><td>5</td></tr>\n",
              "\t<tr><td>3</td><td>6</td></tr>\n",
              "</tbody>\n",
              "</table>\n"
            ]
          },
          "metadata": {
            "tags": []
          }
        }
      ]
    },
    {
      "cell_type": "code",
      "metadata": {
        "colab": {
          "base_uri": "https://localhost:8080/",
          "height": 184
        },
        "id": "BgwGBU4eKQQS",
        "outputId": "d8c97c4c-d312-40fa-f955-2ce0a36f4383"
      },
      "source": [
        "cbind(z,rep(1,3)) # cbind use to concatenate in column and rep is replicate so rep(1,3) is replicate 1 3 times"
      ],
      "execution_count": 134,
      "outputs": [
        {
          "output_type": "display_data",
          "data": {
            "text/plain": [
              "     [,1] [,2] [,3]\n",
              "[1,] 1    4    1   \n",
              "[2,] 2    5    1   \n",
              "[3,] 3    6    1   "
            ],
            "text/latex": "A matrix: 3 × 3 of type dbl\n\\begin{tabular}{lll}\n\t 1 & 4 & 1\\\\\n\t 2 & 5 & 1\\\\\n\t 3 & 6 & 1\\\\\n\\end{tabular}\n",
            "text/markdown": "\nA matrix: 3 × 3 of type dbl\n\n| 1 | 4 | 1 |\n| 2 | 5 | 1 |\n| 3 | 6 | 1 |\n\n",
            "text/html": [
              "<table>\n",
              "<caption>A matrix: 3 × 3 of type dbl</caption>\n",
              "<tbody>\n",
              "\t<tr><td>1</td><td>4</td><td>1</td></tr>\n",
              "\t<tr><td>2</td><td>5</td><td>1</td></tr>\n",
              "\t<tr><td>3</td><td>6</td><td>1</td></tr>\n",
              "</tbody>\n",
              "</table>\n"
            ]
          },
          "metadata": {
            "tags": []
          }
        }
      ]
    },
    {
      "cell_type": "code",
      "metadata": {
        "colab": {
          "base_uri": "https://localhost:8080/",
          "height": 205
        },
        "id": "L05aIRivKVVS",
        "outputId": "87a8067f-5522-429b-842e-9c62e8e40f50"
      },
      "source": [
        "rbind(z,c(-5,-5)) # rbind use to concatenate in row"
      ],
      "execution_count": 135,
      "outputs": [
        {
          "output_type": "display_data",
          "data": {
            "text/plain": [
              "     [,1] [,2]\n",
              "[1,]  1    4  \n",
              "[2,]  2    5  \n",
              "[3,]  3    6  \n",
              "[4,] -5   -5  "
            ],
            "text/latex": "A matrix: 4 × 2 of type dbl\n\\begin{tabular}{ll}\n\t  1 &  4\\\\\n\t  2 &  5\\\\\n\t  3 &  6\\\\\n\t -5 & -5\\\\\n\\end{tabular}\n",
            "text/markdown": "\nA matrix: 4 × 2 of type dbl\n\n|  1 |  4 |\n|  2 |  5 |\n|  3 |  6 |\n| -5 | -5 |\n\n",
            "text/html": [
              "<table>\n",
              "<caption>A matrix: 4 × 2 of type dbl</caption>\n",
              "<tbody>\n",
              "\t<tr><td> 1</td><td> 4</td></tr>\n",
              "\t<tr><td> 2</td><td> 5</td></tr>\n",
              "\t<tr><td> 3</td><td> 6</td></tr>\n",
              "\t<tr><td>-5</td><td>-5</td></tr>\n",
              "</tbody>\n",
              "</table>\n"
            ]
          },
          "metadata": {
            "tags": []
          }
        }
      ]
    },
    {
      "cell_type": "markdown",
      "metadata": {
        "id": "foerWdKSKxwP"
      },
      "source": [
        "## Object coercion"
      ]
    },
    {
      "cell_type": "code",
      "metadata": {
        "colab": {
          "base_uri": "https://localhost:8080/",
          "height": 34
        },
        "id": "SjyqSS24Kp8p",
        "outputId": "d32afd8f-ac3a-4240-f2f9-508921161af3"
      },
      "source": [
        "# Implicit\n",
        "\n",
        "y <- c(1.7, \"a\")\n",
        "y"
      ],
      "execution_count": 136,
      "outputs": [
        {
          "output_type": "display_data",
          "data": {
            "text/plain": [
              "[1] \"1.7\" \"a\"  "
            ],
            "text/latex": "\\begin{enumerate*}\n\\item '1.7'\n\\item 'a'\n\\end{enumerate*}\n",
            "text/markdown": "1. '1.7'\n2. 'a'\n\n\n",
            "text/html": [
              "<style>\n",
              ".list-inline {list-style: none; margin:0; padding: 0}\n",
              ".list-inline>li {display: inline-block}\n",
              ".list-inline>li:not(:last-child)::after {content: \"\\00b7\"; padding: 0 .5ex}\n",
              "</style>\n",
              "<ol class=list-inline><li>'1.7'</li><li>'a'</li></ol>\n"
            ]
          },
          "metadata": {
            "tags": []
          }
        }
      ]
    },
    {
      "cell_type": "code",
      "metadata": {
        "colab": {
          "base_uri": "https://localhost:8080/",
          "height": 34
        },
        "id": "d7VQB_48LD3r",
        "outputId": "53a548ba-6c82-45bb-cb6e-c96d2cb4307a"
      },
      "source": [
        "y <- c(TRUE, 2)\n",
        "y"
      ],
      "execution_count": 137,
      "outputs": [
        {
          "output_type": "display_data",
          "data": {
            "text/plain": [
              "[1] 1 2"
            ],
            "text/latex": "\\begin{enumerate*}\n\\item 1\n\\item 2\n\\end{enumerate*}\n",
            "text/markdown": "1. 1\n2. 2\n\n\n",
            "text/html": [
              "<style>\n",
              ".list-inline {list-style: none; margin:0; padding: 0}\n",
              ".list-inline>li {display: inline-block}\n",
              ".list-inline>li:not(:last-child)::after {content: \"\\00b7\"; padding: 0 .5ex}\n",
              "</style>\n",
              "<ol class=list-inline><li>1</li><li>2</li></ol>\n"
            ]
          },
          "metadata": {
            "tags": []
          }
        }
      ]
    },
    {
      "cell_type": "code",
      "metadata": {
        "colab": {
          "base_uri": "https://localhost:8080/",
          "height": 34
        },
        "id": "QDzFP0BwLIxw",
        "outputId": "73e8c5f7-92fa-477e-ba9c-a11c437b4936"
      },
      "source": [
        "y <- c(\"a\", TRUE)\n",
        "y"
      ],
      "execution_count": 139,
      "outputs": [
        {
          "output_type": "display_data",
          "data": {
            "text/plain": [
              "[1] \"a\"    \"TRUE\""
            ],
            "text/latex": "\\begin{enumerate*}\n\\item 'a'\n\\item 'TRUE'\n\\end{enumerate*}\n",
            "text/markdown": "1. 'a'\n2. 'TRUE'\n\n\n",
            "text/html": [
              "<style>\n",
              ".list-inline {list-style: none; margin:0; padding: 0}\n",
              ".list-inline>li {display: inline-block}\n",
              ".list-inline>li:not(:last-child)::after {content: \"\\00b7\"; padding: 0 .5ex}\n",
              "</style>\n",
              "<ol class=list-inline><li>'a'</li><li>'TRUE'</li></ol>\n"
            ]
          },
          "metadata": {
            "tags": []
          }
        }
      ]
    },
    {
      "cell_type": "code",
      "metadata": {
        "colab": {
          "base_uri": "https://localhost:8080/",
          "height": 34
        },
        "id": "F9abnY0BLMI8",
        "outputId": "396ee8c0-c4e1-42fb-a2c8-3b08a0279707"
      },
      "source": [
        "# Explicit\n",
        "x <- 0:6\n",
        "class(x)"
      ],
      "execution_count": 140,
      "outputs": [
        {
          "output_type": "display_data",
          "data": {
            "text/plain": [
              "[1] \"integer\""
            ],
            "text/latex": "'integer'",
            "text/markdown": "'integer'",
            "text/html": [
              "'integer'"
            ]
          },
          "metadata": {
            "tags": []
          }
        }
      ]
    },
    {
      "cell_type": "code",
      "metadata": {
        "colab": {
          "base_uri": "https://localhost:8080/",
          "height": 34
        },
        "id": "7IETtbutLSUx",
        "outputId": "f90bcf78-1287-4fef-fc5e-9447b2b7741a"
      },
      "source": [
        "as.numeric(x)"
      ],
      "execution_count": 141,
      "outputs": [
        {
          "output_type": "display_data",
          "data": {
            "text/plain": [
              "[1] 0 1 2 3 4 5 6"
            ],
            "text/latex": "\\begin{enumerate*}\n\\item 0\n\\item 1\n\\item 2\n\\item 3\n\\item 4\n\\item 5\n\\item 6\n\\end{enumerate*}\n",
            "text/markdown": "1. 0\n2. 1\n3. 2\n4. 3\n5. 4\n6. 5\n7. 6\n\n\n",
            "text/html": [
              "<style>\n",
              ".list-inline {list-style: none; margin:0; padding: 0}\n",
              ".list-inline>li {display: inline-block}\n",
              ".list-inline>li:not(:last-child)::after {content: \"\\00b7\"; padding: 0 .5ex}\n",
              "</style>\n",
              "<ol class=list-inline><li>0</li><li>1</li><li>2</li><li>3</li><li>4</li><li>5</li><li>6</li></ol>\n"
            ]
          },
          "metadata": {
            "tags": []
          }
        }
      ]
    },
    {
      "cell_type": "code",
      "metadata": {
        "colab": {
          "base_uri": "https://localhost:8080/",
          "height": 34
        },
        "id": "VxiJkqpXLVGb",
        "outputId": "44fefe20-a672-49ce-920b-a5453f88f204"
      },
      "source": [
        "as.logical(x)"
      ],
      "execution_count": 142,
      "outputs": [
        {
          "output_type": "display_data",
          "data": {
            "text/plain": [
              "[1] FALSE  TRUE  TRUE  TRUE  TRUE  TRUE  TRUE"
            ],
            "text/latex": "\\begin{enumerate*}\n\\item FALSE\n\\item TRUE\n\\item TRUE\n\\item TRUE\n\\item TRUE\n\\item TRUE\n\\item TRUE\n\\end{enumerate*}\n",
            "text/markdown": "1. FALSE\n2. TRUE\n3. TRUE\n4. TRUE\n5. TRUE\n6. TRUE\n7. TRUE\n\n\n",
            "text/html": [
              "<style>\n",
              ".list-inline {list-style: none; margin:0; padding: 0}\n",
              ".list-inline>li {display: inline-block}\n",
              ".list-inline>li:not(:last-child)::after {content: \"\\00b7\"; padding: 0 .5ex}\n",
              "</style>\n",
              "<ol class=list-inline><li>FALSE</li><li>TRUE</li><li>TRUE</li><li>TRUE</li><li>TRUE</li><li>TRUE</li><li>TRUE</li></ol>\n"
            ]
          },
          "metadata": {
            "tags": []
          }
        }
      ]
    },
    {
      "cell_type": "code",
      "metadata": {
        "colab": {
          "base_uri": "https://localhost:8080/",
          "height": 34
        },
        "id": "RqX14ek1LWBr",
        "outputId": "72b1dd7b-450b-457b-a1b6-f8dba222226c"
      },
      "source": [
        "as.character(x)"
      ],
      "execution_count": 144,
      "outputs": [
        {
          "output_type": "display_data",
          "data": {
            "text/plain": [
              "[1] \"0\" \"1\" \"2\" \"3\" \"4\" \"5\" \"6\""
            ],
            "text/latex": "\\begin{enumerate*}\n\\item '0'\n\\item '1'\n\\item '2'\n\\item '3'\n\\item '4'\n\\item '5'\n\\item '6'\n\\end{enumerate*}\n",
            "text/markdown": "1. '0'\n2. '1'\n3. '2'\n4. '3'\n5. '4'\n6. '5'\n7. '6'\n\n\n",
            "text/html": [
              "<style>\n",
              ".list-inline {list-style: none; margin:0; padding: 0}\n",
              ".list-inline>li {display: inline-block}\n",
              ".list-inline>li:not(:last-child)::after {content: \"\\00b7\"; padding: 0 .5ex}\n",
              "</style>\n",
              "<ol class=list-inline><li>'0'</li><li>'1'</li><li>'2'</li><li>'3'</li><li>'4'</li><li>'5'</li><li>'6'</li></ol>\n"
            ]
          },
          "metadata": {
            "tags": []
          }
        }
      ]
    },
    {
      "cell_type": "markdown",
      "metadata": {
        "id": "tPnTxXlKLknx"
      },
      "source": [
        "## List"
      ]
    },
    {
      "cell_type": "code",
      "metadata": {
        "id": "C9YMCt5BLXjw"
      },
      "source": [
        "j <- list(name=\"Joe\", salary=55000, union=T) # list in R langauge automatic assign list in list"
      ],
      "execution_count": 153,
      "outputs": []
    },
    {
      "cell_type": "code",
      "metadata": {
        "colab": {
          "base_uri": "https://localhost:8080/",
          "height": 147
        },
        "id": "416t74aELjcN",
        "outputId": "ef93ebbb-05cc-4b8b-a8c2-9e87ef88eb2e"
      },
      "source": [
        "j"
      ],
      "execution_count": 147,
      "outputs": [
        {
          "output_type": "display_data",
          "data": {
            "text/plain": [
              "$name\n",
              "[1] \"Joe\"\n",
              "\n",
              "$salary\n",
              "[1] 55000\n",
              "\n",
              "$union\n",
              "[1] TRUE\n"
            ],
            "text/latex": "\\begin{description}\n\\item[\\$name] 'Joe'\n\\item[\\$salary] 55000\n\\item[\\$union] TRUE\n\\end{description}\n",
            "text/markdown": "$name\n:   'Joe'\n$salary\n:   55000\n$union\n:   TRUE\n\n\n",
            "text/html": [
              "<dl>\n",
              "\t<dt>$name</dt>\n",
              "\t\t<dd>'Joe'</dd>\n",
              "\t<dt>$salary</dt>\n",
              "\t\t<dd>55000</dd>\n",
              "\t<dt>$union</dt>\n",
              "\t\t<dd>TRUE</dd>\n",
              "</dl>\n"
            ]
          },
          "metadata": {
            "tags": []
          }
        }
      ]
    },
    {
      "cell_type": "markdown",
      "metadata": {
        "id": "OTQbRq7vMKYh"
      },
      "source": [
        "### Indexing"
      ]
    },
    {
      "cell_type": "code",
      "metadata": {
        "colab": {
          "base_uri": "https://localhost:8080/",
          "height": 34
        },
        "id": "cE09Yc_zL4-a",
        "outputId": "a90c4495-6cc2-49d5-faec-7e957e39f0fb"
      },
      "source": [
        "j$salary"
      ],
      "execution_count": 148,
      "outputs": [
        {
          "output_type": "display_data",
          "data": {
            "text/plain": [
              "[1] 55000"
            ],
            "text/latex": "55000",
            "text/markdown": "55000",
            "text/html": [
              "55000"
            ]
          },
          "metadata": {
            "tags": []
          }
        }
      ]
    },
    {
      "cell_type": "code",
      "metadata": {
        "colab": {
          "base_uri": "https://localhost:8080/",
          "height": 34
        },
        "id": "XD3W9qr4L9GQ",
        "outputId": "108734fc-abb0-482d-ecf4-1da5002a948d"
      },
      "source": [
        "j[[\"salary\"]]"
      ],
      "execution_count": 149,
      "outputs": [
        {
          "output_type": "display_data",
          "data": {
            "text/plain": [
              "[1] 55000"
            ],
            "text/latex": "55000",
            "text/markdown": "55000",
            "text/html": [
              "55000"
            ]
          },
          "metadata": {
            "tags": []
          }
        }
      ]
    },
    {
      "cell_type": "code",
      "metadata": {
        "colab": {
          "base_uri": "https://localhost:8080/",
          "height": 34
        },
        "id": "VVuYNGkfL-rk",
        "outputId": "21217ed1-d607-4a21-d65d-482f4164e086"
      },
      "source": [
        "j[[2]]"
      ],
      "execution_count": 150,
      "outputs": [
        {
          "output_type": "display_data",
          "data": {
            "text/plain": [
              "[1] 55000"
            ],
            "text/latex": "55000",
            "text/markdown": "55000",
            "text/html": [
              "55000"
            ]
          },
          "metadata": {
            "tags": []
          }
        }
      ]
    },
    {
      "cell_type": "markdown",
      "metadata": {
        "id": "_cac59qTNEc6"
      },
      "source": [
        "### Adding list elements"
      ]
    },
    {
      "cell_type": "code",
      "metadata": {
        "id": "nVbo4-izL_lK"
      },
      "source": [
        "j$location <- 'Bangkok'"
      ],
      "execution_count": 151,
      "outputs": []
    },
    {
      "cell_type": "code",
      "metadata": {
        "colab": {
          "base_uri": "https://localhost:8080/",
          "height": 181
        },
        "id": "Cmw8GM7rMEEa",
        "outputId": "be1e8b15-2bc1-41ce-9561-56b561323060"
      },
      "source": [
        "j"
      ],
      "execution_count": 152,
      "outputs": [
        {
          "output_type": "display_data",
          "data": {
            "text/plain": [
              "$name\n",
              "[1] \"Joe\"\n",
              "\n",
              "$salary\n",
              "[1] 55000\n",
              "\n",
              "$union\n",
              "[1] TRUE\n",
              "\n",
              "$location\n",
              "[1] \"Bangkok\"\n"
            ],
            "text/latex": "\\begin{description}\n\\item[\\$name] 'Joe'\n\\item[\\$salary] 55000\n\\item[\\$union] TRUE\n\\item[\\$location] 'Bangkok'\n\\end{description}\n",
            "text/markdown": "$name\n:   'Joe'\n$salary\n:   55000\n$union\n:   TRUE\n$location\n:   'Bangkok'\n\n\n",
            "text/html": [
              "<dl>\n",
              "\t<dt>$name</dt>\n",
              "\t\t<dd>'Joe'</dd>\n",
              "\t<dt>$salary</dt>\n",
              "\t\t<dd>55000</dd>\n",
              "\t<dt>$union</dt>\n",
              "\t\t<dd>TRUE</dd>\n",
              "\t<dt>$location</dt>\n",
              "\t\t<dd>'Bangkok'</dd>\n",
              "</dl>\n"
            ]
          },
          "metadata": {
            "tags": []
          }
        }
      ]
    },
    {
      "cell_type": "markdown",
      "metadata": {
        "id": "0ttpbmayNL6j"
      },
      "source": [
        "###Deleting list elements"
      ]
    },
    {
      "cell_type": "code",
      "metadata": {
        "colab": {
          "base_uri": "https://localhost:8080/",
          "height": 147
        },
        "id": "_FqfWgceMEWj",
        "outputId": "3c29a788-398c-4a65-e5c1-7693a9be360d"
      },
      "source": [
        "j$location <- NULL\n",
        "j"
      ],
      "execution_count": 154,
      "outputs": [
        {
          "output_type": "display_data",
          "data": {
            "text/plain": [
              "$name\n",
              "[1] \"Joe\"\n",
              "\n",
              "$salary\n",
              "[1] 55000\n",
              "\n",
              "$union\n",
              "[1] TRUE\n"
            ],
            "text/latex": "\\begin{description}\n\\item[\\$name] 'Joe'\n\\item[\\$salary] 55000\n\\item[\\$union] TRUE\n\\end{description}\n",
            "text/markdown": "$name\n:   'Joe'\n$salary\n:   55000\n$union\n:   TRUE\n\n\n",
            "text/html": [
              "<dl>\n",
              "\t<dt>$name</dt>\n",
              "\t\t<dd>'Joe'</dd>\n",
              "\t<dt>$salary</dt>\n",
              "\t\t<dd>55000</dd>\n",
              "\t<dt>$union</dt>\n",
              "\t\t<dd>TRUE</dd>\n",
              "</dl>\n"
            ]
          },
          "metadata": {
            "tags": []
          }
        }
      ]
    },
    {
      "cell_type": "markdown",
      "metadata": {
        "id": "GQSQ64E4NWNz"
      },
      "source": [
        "## Data Frames"
      ]
    },
    {
      "cell_type": "code",
      "metadata": {
        "colab": {
          "base_uri": "https://localhost:8080/",
          "height": 137
        },
        "id": "4eE380YBNdf4",
        "outputId": "584be7b6-64fd-499a-c785-f326117410fc"
      },
      "source": [
        "kid <- c(\"Jack\", \"jill\")\n",
        "age <- c(12,10)\n",
        "d <- data.frame(kid,age)\n",
        "d"
      ],
      "execution_count": 155,
      "outputs": [
        {
          "output_type": "display_data",
          "data": {
            "text/plain": [
              "  kid  age\n",
              "1 Jack 12 \n",
              "2 jill 10 "
            ],
            "text/latex": "A data.frame: 2 × 2\n\\begin{tabular}{ll}\n kid & age\\\\\n <chr> & <dbl>\\\\\n\\hline\n\t Jack & 12\\\\\n\t jill & 10\\\\\n\\end{tabular}\n",
            "text/markdown": "\nA data.frame: 2 × 2\n\n| kid &lt;chr&gt; | age &lt;dbl&gt; |\n|---|---|\n| Jack | 12 |\n| jill | 10 |\n\n",
            "text/html": [
              "<table>\n",
              "<caption>A data.frame: 2 × 2</caption>\n",
              "<thead>\n",
              "\t<tr><th scope=col>kid</th><th scope=col>age</th></tr>\n",
              "\t<tr><th scope=col>&lt;chr&gt;</th><th scope=col>&lt;dbl&gt;</th></tr>\n",
              "</thead>\n",
              "<tbody>\n",
              "\t<tr><td>Jack</td><td>12</td></tr>\n",
              "\t<tr><td>jill</td><td>10</td></tr>\n",
              "</tbody>\n",
              "</table>\n"
            ]
          },
          "metadata": {
            "tags": []
          }
        }
      ]
    },
    {
      "cell_type": "code",
      "metadata": {
        "colab": {
          "base_uri": "https://localhost:8080/"
        },
        "id": "quBhVyAgNlTl",
        "outputId": "cdba5cc2-39d8-41fa-a545-91001407c60e"
      },
      "source": [
        "str(d)"
      ],
      "execution_count": 156,
      "outputs": [
        {
          "output_type": "stream",
          "text": [
            "'data.frame':\t2 obs. of  2 variables:\n",
            " $ kid: chr  \"Jack\" \"jill\"\n",
            " $ age: num  12 10\n"
          ],
          "name": "stdout"
        }
      ]
    },
    {
      "cell_type": "markdown",
      "metadata": {
        "id": "J69D_eaANqqt"
      },
      "source": [
        "### Accessing data frame"
      ]
    },
    {
      "cell_type": "code",
      "metadata": {
        "colab": {
          "base_uri": "https://localhost:8080/",
          "height": 1000
        },
        "id": "-FLJmiogNnCZ",
        "outputId": "f1265040-bacf-4f39-dac4-bdc29c42e88c"
      },
      "source": [
        "x <- iris[1]\n",
        "x"
      ],
      "execution_count": 157,
      "outputs": [
        {
          "output_type": "display_data",
          "data": {
            "text/plain": [
              "    Sepal.Length\n",
              "1   5.1         \n",
              "2   4.9         \n",
              "3   4.7         \n",
              "4   4.6         \n",
              "5   5.0         \n",
              "6   5.4         \n",
              "7   4.6         \n",
              "8   5.0         \n",
              "9   4.4         \n",
              "10  4.9         \n",
              "11  5.4         \n",
              "12  4.8         \n",
              "13  4.8         \n",
              "14  4.3         \n",
              "15  5.8         \n",
              "16  5.7         \n",
              "17  5.4         \n",
              "18  5.1         \n",
              "19  5.7         \n",
              "20  5.1         \n",
              "21  5.4         \n",
              "22  5.1         \n",
              "23  4.6         \n",
              "24  5.1         \n",
              "25  4.8         \n",
              "26  5.0         \n",
              "27  5.0         \n",
              "28  5.2         \n",
              "29  5.2         \n",
              "30  4.7         \n",
              "⋮   ⋮           \n",
              "121 6.9         \n",
              "122 5.6         \n",
              "123 7.7         \n",
              "124 6.3         \n",
              "125 6.7         \n",
              "126 7.2         \n",
              "127 6.2         \n",
              "128 6.1         \n",
              "129 6.4         \n",
              "130 7.2         \n",
              "131 7.4         \n",
              "132 7.9         \n",
              "133 6.4         \n",
              "134 6.3         \n",
              "135 6.1         \n",
              "136 7.7         \n",
              "137 6.3         \n",
              "138 6.4         \n",
              "139 6.0         \n",
              "140 6.9         \n",
              "141 6.7         \n",
              "142 6.9         \n",
              "143 5.8         \n",
              "144 6.8         \n",
              "145 6.7         \n",
              "146 6.7         \n",
              "147 6.3         \n",
              "148 6.5         \n",
              "149 6.2         \n",
              "150 5.9         "
            ],
            "text/latex": "A data.frame: 150 × 1\n\\begin{tabular}{l}\n Sepal.Length\\\\\n <dbl>\\\\\n\\hline\n\t 5.1\\\\\n\t 4.9\\\\\n\t 4.7\\\\\n\t 4.6\\\\\n\t 5.0\\\\\n\t 5.4\\\\\n\t 4.6\\\\\n\t 5.0\\\\\n\t 4.4\\\\\n\t 4.9\\\\\n\t 5.4\\\\\n\t 4.8\\\\\n\t 4.8\\\\\n\t 4.3\\\\\n\t 5.8\\\\\n\t 5.7\\\\\n\t 5.4\\\\\n\t 5.1\\\\\n\t 5.7\\\\\n\t 5.1\\\\\n\t 5.4\\\\\n\t 5.1\\\\\n\t 4.6\\\\\n\t 5.1\\\\\n\t 4.8\\\\\n\t 5.0\\\\\n\t 5.0\\\\\n\t 5.2\\\\\n\t 5.2\\\\\n\t 4.7\\\\\n\t ⋮\\\\\n\t 6.9\\\\\n\t 5.6\\\\\n\t 7.7\\\\\n\t 6.3\\\\\n\t 6.7\\\\\n\t 7.2\\\\\n\t 6.2\\\\\n\t 6.1\\\\\n\t 6.4\\\\\n\t 7.2\\\\\n\t 7.4\\\\\n\t 7.9\\\\\n\t 6.4\\\\\n\t 6.3\\\\\n\t 6.1\\\\\n\t 7.7\\\\\n\t 6.3\\\\\n\t 6.4\\\\\n\t 6.0\\\\\n\t 6.9\\\\\n\t 6.7\\\\\n\t 6.9\\\\\n\t 5.8\\\\\n\t 6.8\\\\\n\t 6.7\\\\\n\t 6.7\\\\\n\t 6.3\\\\\n\t 6.5\\\\\n\t 6.2\\\\\n\t 5.9\\\\\n\\end{tabular}\n",
            "text/markdown": "\nA data.frame: 150 × 1\n\n| Sepal.Length &lt;dbl&gt; |\n|---|\n| 5.1 |\n| 4.9 |\n| 4.7 |\n| 4.6 |\n| 5.0 |\n| 5.4 |\n| 4.6 |\n| 5.0 |\n| 4.4 |\n| 4.9 |\n| 5.4 |\n| 4.8 |\n| 4.8 |\n| 4.3 |\n| 5.8 |\n| 5.7 |\n| 5.4 |\n| 5.1 |\n| 5.7 |\n| 5.1 |\n| 5.4 |\n| 5.1 |\n| 4.6 |\n| 5.1 |\n| 4.8 |\n| 5.0 |\n| 5.0 |\n| 5.2 |\n| 5.2 |\n| 4.7 |\n| ⋮ |\n| 6.9 |\n| 5.6 |\n| 7.7 |\n| 6.3 |\n| 6.7 |\n| 7.2 |\n| 6.2 |\n| 6.1 |\n| 6.4 |\n| 7.2 |\n| 7.4 |\n| 7.9 |\n| 6.4 |\n| 6.3 |\n| 6.1 |\n| 7.7 |\n| 6.3 |\n| 6.4 |\n| 6.0 |\n| 6.9 |\n| 6.7 |\n| 6.9 |\n| 5.8 |\n| 6.8 |\n| 6.7 |\n| 6.7 |\n| 6.3 |\n| 6.5 |\n| 6.2 |\n| 5.9 |\n\n",
            "text/html": [
              "<table>\n",
              "<caption>A data.frame: 150 × 1</caption>\n",
              "<thead>\n",
              "\t<tr><th scope=col>Sepal.Length</th></tr>\n",
              "\t<tr><th scope=col>&lt;dbl&gt;</th></tr>\n",
              "</thead>\n",
              "<tbody>\n",
              "\t<tr><td>5.1</td></tr>\n",
              "\t<tr><td>4.9</td></tr>\n",
              "\t<tr><td>4.7</td></tr>\n",
              "\t<tr><td>4.6</td></tr>\n",
              "\t<tr><td>5.0</td></tr>\n",
              "\t<tr><td>5.4</td></tr>\n",
              "\t<tr><td>4.6</td></tr>\n",
              "\t<tr><td>5.0</td></tr>\n",
              "\t<tr><td>4.4</td></tr>\n",
              "\t<tr><td>4.9</td></tr>\n",
              "\t<tr><td>5.4</td></tr>\n",
              "\t<tr><td>4.8</td></tr>\n",
              "\t<tr><td>4.8</td></tr>\n",
              "\t<tr><td>4.3</td></tr>\n",
              "\t<tr><td>5.8</td></tr>\n",
              "\t<tr><td>5.7</td></tr>\n",
              "\t<tr><td>5.4</td></tr>\n",
              "\t<tr><td>5.1</td></tr>\n",
              "\t<tr><td>5.7</td></tr>\n",
              "\t<tr><td>5.1</td></tr>\n",
              "\t<tr><td>5.4</td></tr>\n",
              "\t<tr><td>5.1</td></tr>\n",
              "\t<tr><td>4.6</td></tr>\n",
              "\t<tr><td>5.1</td></tr>\n",
              "\t<tr><td>4.8</td></tr>\n",
              "\t<tr><td>5.0</td></tr>\n",
              "\t<tr><td>5.0</td></tr>\n",
              "\t<tr><td>5.2</td></tr>\n",
              "\t<tr><td>5.2</td></tr>\n",
              "\t<tr><td>4.7</td></tr>\n",
              "\t<tr><td>⋮</td></tr>\n",
              "\t<tr><td>6.9</td></tr>\n",
              "\t<tr><td>5.6</td></tr>\n",
              "\t<tr><td>7.7</td></tr>\n",
              "\t<tr><td>6.3</td></tr>\n",
              "\t<tr><td>6.7</td></tr>\n",
              "\t<tr><td>7.2</td></tr>\n",
              "\t<tr><td>6.2</td></tr>\n",
              "\t<tr><td>6.1</td></tr>\n",
              "\t<tr><td>6.4</td></tr>\n",
              "\t<tr><td>7.2</td></tr>\n",
              "\t<tr><td>7.4</td></tr>\n",
              "\t<tr><td>7.9</td></tr>\n",
              "\t<tr><td>6.4</td></tr>\n",
              "\t<tr><td>6.3</td></tr>\n",
              "\t<tr><td>6.1</td></tr>\n",
              "\t<tr><td>7.7</td></tr>\n",
              "\t<tr><td>6.3</td></tr>\n",
              "\t<tr><td>6.4</td></tr>\n",
              "\t<tr><td>6.0</td></tr>\n",
              "\t<tr><td>6.9</td></tr>\n",
              "\t<tr><td>6.7</td></tr>\n",
              "\t<tr><td>6.9</td></tr>\n",
              "\t<tr><td>5.8</td></tr>\n",
              "\t<tr><td>6.8</td></tr>\n",
              "\t<tr><td>6.7</td></tr>\n",
              "\t<tr><td>6.7</td></tr>\n",
              "\t<tr><td>6.3</td></tr>\n",
              "\t<tr><td>6.5</td></tr>\n",
              "\t<tr><td>6.2</td></tr>\n",
              "\t<tr><td>5.9</td></tr>\n",
              "</tbody>\n",
              "</table>\n"
            ]
          },
          "metadata": {
            "tags": []
          }
        }
      ]
    },
    {
      "cell_type": "code",
      "metadata": {
        "colab": {
          "base_uri": "https://localhost:8080/",
          "height": 1000
        },
        "id": "m2tKr8OwN2Dx",
        "outputId": "2f45a53f-9f28-4841-f966-2f1e49c3fc48"
      },
      "source": [
        "iris"
      ],
      "execution_count": 158,
      "outputs": [
        {
          "output_type": "display_data",
          "data": {
            "text/plain": [
              "    Sepal.Length Sepal.Width Petal.Length Petal.Width Species  \n",
              "1   5.1          3.5         1.4          0.2         setosa   \n",
              "2   4.9          3.0         1.4          0.2         setosa   \n",
              "3   4.7          3.2         1.3          0.2         setosa   \n",
              "4   4.6          3.1         1.5          0.2         setosa   \n",
              "5   5.0          3.6         1.4          0.2         setosa   \n",
              "6   5.4          3.9         1.7          0.4         setosa   \n",
              "7   4.6          3.4         1.4          0.3         setosa   \n",
              "8   5.0          3.4         1.5          0.2         setosa   \n",
              "9   4.4          2.9         1.4          0.2         setosa   \n",
              "10  4.9          3.1         1.5          0.1         setosa   \n",
              "11  5.4          3.7         1.5          0.2         setosa   \n",
              "12  4.8          3.4         1.6          0.2         setosa   \n",
              "13  4.8          3.0         1.4          0.1         setosa   \n",
              "14  4.3          3.0         1.1          0.1         setosa   \n",
              "15  5.8          4.0         1.2          0.2         setosa   \n",
              "16  5.7          4.4         1.5          0.4         setosa   \n",
              "17  5.4          3.9         1.3          0.4         setosa   \n",
              "18  5.1          3.5         1.4          0.3         setosa   \n",
              "19  5.7          3.8         1.7          0.3         setosa   \n",
              "20  5.1          3.8         1.5          0.3         setosa   \n",
              "21  5.4          3.4         1.7          0.2         setosa   \n",
              "22  5.1          3.7         1.5          0.4         setosa   \n",
              "23  4.6          3.6         1.0          0.2         setosa   \n",
              "24  5.1          3.3         1.7          0.5         setosa   \n",
              "25  4.8          3.4         1.9          0.2         setosa   \n",
              "26  5.0          3.0         1.6          0.2         setosa   \n",
              "27  5.0          3.4         1.6          0.4         setosa   \n",
              "28  5.2          3.5         1.5          0.2         setosa   \n",
              "29  5.2          3.4         1.4          0.2         setosa   \n",
              "30  4.7          3.2         1.6          0.2         setosa   \n",
              "⋮   ⋮            ⋮           ⋮            ⋮           ⋮        \n",
              "121 6.9          3.2         5.7          2.3         virginica\n",
              "122 5.6          2.8         4.9          2.0         virginica\n",
              "123 7.7          2.8         6.7          2.0         virginica\n",
              "124 6.3          2.7         4.9          1.8         virginica\n",
              "125 6.7          3.3         5.7          2.1         virginica\n",
              "126 7.2          3.2         6.0          1.8         virginica\n",
              "127 6.2          2.8         4.8          1.8         virginica\n",
              "128 6.1          3.0         4.9          1.8         virginica\n",
              "129 6.4          2.8         5.6          2.1         virginica\n",
              "130 7.2          3.0         5.8          1.6         virginica\n",
              "131 7.4          2.8         6.1          1.9         virginica\n",
              "132 7.9          3.8         6.4          2.0         virginica\n",
              "133 6.4          2.8         5.6          2.2         virginica\n",
              "134 6.3          2.8         5.1          1.5         virginica\n",
              "135 6.1          2.6         5.6          1.4         virginica\n",
              "136 7.7          3.0         6.1          2.3         virginica\n",
              "137 6.3          3.4         5.6          2.4         virginica\n",
              "138 6.4          3.1         5.5          1.8         virginica\n",
              "139 6.0          3.0         4.8          1.8         virginica\n",
              "140 6.9          3.1         5.4          2.1         virginica\n",
              "141 6.7          3.1         5.6          2.4         virginica\n",
              "142 6.9          3.1         5.1          2.3         virginica\n",
              "143 5.8          2.7         5.1          1.9         virginica\n",
              "144 6.8          3.2         5.9          2.3         virginica\n",
              "145 6.7          3.3         5.7          2.5         virginica\n",
              "146 6.7          3.0         5.2          2.3         virginica\n",
              "147 6.3          2.5         5.0          1.9         virginica\n",
              "148 6.5          3.0         5.2          2.0         virginica\n",
              "149 6.2          3.4         5.4          2.3         virginica\n",
              "150 5.9          3.0         5.1          1.8         virginica"
            ],
            "text/latex": "A data.frame: 150 × 5\n\\begin{tabular}{lllll}\n Sepal.Length & Sepal.Width & Petal.Length & Petal.Width & Species\\\\\n <dbl> & <dbl> & <dbl> & <dbl> & <fct>\\\\\n\\hline\n\t 5.1 & 3.5 & 1.4 & 0.2 & setosa\\\\\n\t 4.9 & 3.0 & 1.4 & 0.2 & setosa\\\\\n\t 4.7 & 3.2 & 1.3 & 0.2 & setosa\\\\\n\t 4.6 & 3.1 & 1.5 & 0.2 & setosa\\\\\n\t 5.0 & 3.6 & 1.4 & 0.2 & setosa\\\\\n\t 5.4 & 3.9 & 1.7 & 0.4 & setosa\\\\\n\t 4.6 & 3.4 & 1.4 & 0.3 & setosa\\\\\n\t 5.0 & 3.4 & 1.5 & 0.2 & setosa\\\\\n\t 4.4 & 2.9 & 1.4 & 0.2 & setosa\\\\\n\t 4.9 & 3.1 & 1.5 & 0.1 & setosa\\\\\n\t 5.4 & 3.7 & 1.5 & 0.2 & setosa\\\\\n\t 4.8 & 3.4 & 1.6 & 0.2 & setosa\\\\\n\t 4.8 & 3.0 & 1.4 & 0.1 & setosa\\\\\n\t 4.3 & 3.0 & 1.1 & 0.1 & setosa\\\\\n\t 5.8 & 4.0 & 1.2 & 0.2 & setosa\\\\\n\t 5.7 & 4.4 & 1.5 & 0.4 & setosa\\\\\n\t 5.4 & 3.9 & 1.3 & 0.4 & setosa\\\\\n\t 5.1 & 3.5 & 1.4 & 0.3 & setosa\\\\\n\t 5.7 & 3.8 & 1.7 & 0.3 & setosa\\\\\n\t 5.1 & 3.8 & 1.5 & 0.3 & setosa\\\\\n\t 5.4 & 3.4 & 1.7 & 0.2 & setosa\\\\\n\t 5.1 & 3.7 & 1.5 & 0.4 & setosa\\\\\n\t 4.6 & 3.6 & 1.0 & 0.2 & setosa\\\\\n\t 5.1 & 3.3 & 1.7 & 0.5 & setosa\\\\\n\t 4.8 & 3.4 & 1.9 & 0.2 & setosa\\\\\n\t 5.0 & 3.0 & 1.6 & 0.2 & setosa\\\\\n\t 5.0 & 3.4 & 1.6 & 0.4 & setosa\\\\\n\t 5.2 & 3.5 & 1.5 & 0.2 & setosa\\\\\n\t 5.2 & 3.4 & 1.4 & 0.2 & setosa\\\\\n\t 4.7 & 3.2 & 1.6 & 0.2 & setosa\\\\\n\t ⋮ & ⋮ & ⋮ & ⋮ & ⋮\\\\\n\t 6.9 & 3.2 & 5.7 & 2.3 & virginica\\\\\n\t 5.6 & 2.8 & 4.9 & 2.0 & virginica\\\\\n\t 7.7 & 2.8 & 6.7 & 2.0 & virginica\\\\\n\t 6.3 & 2.7 & 4.9 & 1.8 & virginica\\\\\n\t 6.7 & 3.3 & 5.7 & 2.1 & virginica\\\\\n\t 7.2 & 3.2 & 6.0 & 1.8 & virginica\\\\\n\t 6.2 & 2.8 & 4.8 & 1.8 & virginica\\\\\n\t 6.1 & 3.0 & 4.9 & 1.8 & virginica\\\\\n\t 6.4 & 2.8 & 5.6 & 2.1 & virginica\\\\\n\t 7.2 & 3.0 & 5.8 & 1.6 & virginica\\\\\n\t 7.4 & 2.8 & 6.1 & 1.9 & virginica\\\\\n\t 7.9 & 3.8 & 6.4 & 2.0 & virginica\\\\\n\t 6.4 & 2.8 & 5.6 & 2.2 & virginica\\\\\n\t 6.3 & 2.8 & 5.1 & 1.5 & virginica\\\\\n\t 6.1 & 2.6 & 5.6 & 1.4 & virginica\\\\\n\t 7.7 & 3.0 & 6.1 & 2.3 & virginica\\\\\n\t 6.3 & 3.4 & 5.6 & 2.4 & virginica\\\\\n\t 6.4 & 3.1 & 5.5 & 1.8 & virginica\\\\\n\t 6.0 & 3.0 & 4.8 & 1.8 & virginica\\\\\n\t 6.9 & 3.1 & 5.4 & 2.1 & virginica\\\\\n\t 6.7 & 3.1 & 5.6 & 2.4 & virginica\\\\\n\t 6.9 & 3.1 & 5.1 & 2.3 & virginica\\\\\n\t 5.8 & 2.7 & 5.1 & 1.9 & virginica\\\\\n\t 6.8 & 3.2 & 5.9 & 2.3 & virginica\\\\\n\t 6.7 & 3.3 & 5.7 & 2.5 & virginica\\\\\n\t 6.7 & 3.0 & 5.2 & 2.3 & virginica\\\\\n\t 6.3 & 2.5 & 5.0 & 1.9 & virginica\\\\\n\t 6.5 & 3.0 & 5.2 & 2.0 & virginica\\\\\n\t 6.2 & 3.4 & 5.4 & 2.3 & virginica\\\\\n\t 5.9 & 3.0 & 5.1 & 1.8 & virginica\\\\\n\\end{tabular}\n",
            "text/markdown": "\nA data.frame: 150 × 5\n\n| Sepal.Length &lt;dbl&gt; | Sepal.Width &lt;dbl&gt; | Petal.Length &lt;dbl&gt; | Petal.Width &lt;dbl&gt; | Species &lt;fct&gt; |\n|---|---|---|---|---|\n| 5.1 | 3.5 | 1.4 | 0.2 | setosa |\n| 4.9 | 3.0 | 1.4 | 0.2 | setosa |\n| 4.7 | 3.2 | 1.3 | 0.2 | setosa |\n| 4.6 | 3.1 | 1.5 | 0.2 | setosa |\n| 5.0 | 3.6 | 1.4 | 0.2 | setosa |\n| 5.4 | 3.9 | 1.7 | 0.4 | setosa |\n| 4.6 | 3.4 | 1.4 | 0.3 | setosa |\n| 5.0 | 3.4 | 1.5 | 0.2 | setosa |\n| 4.4 | 2.9 | 1.4 | 0.2 | setosa |\n| 4.9 | 3.1 | 1.5 | 0.1 | setosa |\n| 5.4 | 3.7 | 1.5 | 0.2 | setosa |\n| 4.8 | 3.4 | 1.6 | 0.2 | setosa |\n| 4.8 | 3.0 | 1.4 | 0.1 | setosa |\n| 4.3 | 3.0 | 1.1 | 0.1 | setosa |\n| 5.8 | 4.0 | 1.2 | 0.2 | setosa |\n| 5.7 | 4.4 | 1.5 | 0.4 | setosa |\n| 5.4 | 3.9 | 1.3 | 0.4 | setosa |\n| 5.1 | 3.5 | 1.4 | 0.3 | setosa |\n| 5.7 | 3.8 | 1.7 | 0.3 | setosa |\n| 5.1 | 3.8 | 1.5 | 0.3 | setosa |\n| 5.4 | 3.4 | 1.7 | 0.2 | setosa |\n| 5.1 | 3.7 | 1.5 | 0.4 | setosa |\n| 4.6 | 3.6 | 1.0 | 0.2 | setosa |\n| 5.1 | 3.3 | 1.7 | 0.5 | setosa |\n| 4.8 | 3.4 | 1.9 | 0.2 | setosa |\n| 5.0 | 3.0 | 1.6 | 0.2 | setosa |\n| 5.0 | 3.4 | 1.6 | 0.4 | setosa |\n| 5.2 | 3.5 | 1.5 | 0.2 | setosa |\n| 5.2 | 3.4 | 1.4 | 0.2 | setosa |\n| 4.7 | 3.2 | 1.6 | 0.2 | setosa |\n| ⋮ | ⋮ | ⋮ | ⋮ | ⋮ |\n| 6.9 | 3.2 | 5.7 | 2.3 | virginica |\n| 5.6 | 2.8 | 4.9 | 2.0 | virginica |\n| 7.7 | 2.8 | 6.7 | 2.0 | virginica |\n| 6.3 | 2.7 | 4.9 | 1.8 | virginica |\n| 6.7 | 3.3 | 5.7 | 2.1 | virginica |\n| 7.2 | 3.2 | 6.0 | 1.8 | virginica |\n| 6.2 | 2.8 | 4.8 | 1.8 | virginica |\n| 6.1 | 3.0 | 4.9 | 1.8 | virginica |\n| 6.4 | 2.8 | 5.6 | 2.1 | virginica |\n| 7.2 | 3.0 | 5.8 | 1.6 | virginica |\n| 7.4 | 2.8 | 6.1 | 1.9 | virginica |\n| 7.9 | 3.8 | 6.4 | 2.0 | virginica |\n| 6.4 | 2.8 | 5.6 | 2.2 | virginica |\n| 6.3 | 2.8 | 5.1 | 1.5 | virginica |\n| 6.1 | 2.6 | 5.6 | 1.4 | virginica |\n| 7.7 | 3.0 | 6.1 | 2.3 | virginica |\n| 6.3 | 3.4 | 5.6 | 2.4 | virginica |\n| 6.4 | 3.1 | 5.5 | 1.8 | virginica |\n| 6.0 | 3.0 | 4.8 | 1.8 | virginica |\n| 6.9 | 3.1 | 5.4 | 2.1 | virginica |\n| 6.7 | 3.1 | 5.6 | 2.4 | virginica |\n| 6.9 | 3.1 | 5.1 | 2.3 | virginica |\n| 5.8 | 2.7 | 5.1 | 1.9 | virginica |\n| 6.8 | 3.2 | 5.9 | 2.3 | virginica |\n| 6.7 | 3.3 | 5.7 | 2.5 | virginica |\n| 6.7 | 3.0 | 5.2 | 2.3 | virginica |\n| 6.3 | 2.5 | 5.0 | 1.9 | virginica |\n| 6.5 | 3.0 | 5.2 | 2.0 | virginica |\n| 6.2 | 3.4 | 5.4 | 2.3 | virginica |\n| 5.9 | 3.0 | 5.1 | 1.8 | virginica |\n\n",
            "text/html": [
              "<table>\n",
              "<caption>A data.frame: 150 × 5</caption>\n",
              "<thead>\n",
              "\t<tr><th scope=col>Sepal.Length</th><th scope=col>Sepal.Width</th><th scope=col>Petal.Length</th><th scope=col>Petal.Width</th><th scope=col>Species</th></tr>\n",
              "\t<tr><th scope=col>&lt;dbl&gt;</th><th scope=col>&lt;dbl&gt;</th><th scope=col>&lt;dbl&gt;</th><th scope=col>&lt;dbl&gt;</th><th scope=col>&lt;fct&gt;</th></tr>\n",
              "</thead>\n",
              "<tbody>\n",
              "\t<tr><td>5.1</td><td>3.5</td><td>1.4</td><td>0.2</td><td>setosa</td></tr>\n",
              "\t<tr><td>4.9</td><td>3.0</td><td>1.4</td><td>0.2</td><td>setosa</td></tr>\n",
              "\t<tr><td>4.7</td><td>3.2</td><td>1.3</td><td>0.2</td><td>setosa</td></tr>\n",
              "\t<tr><td>4.6</td><td>3.1</td><td>1.5</td><td>0.2</td><td>setosa</td></tr>\n",
              "\t<tr><td>5.0</td><td>3.6</td><td>1.4</td><td>0.2</td><td>setosa</td></tr>\n",
              "\t<tr><td>5.4</td><td>3.9</td><td>1.7</td><td>0.4</td><td>setosa</td></tr>\n",
              "\t<tr><td>4.6</td><td>3.4</td><td>1.4</td><td>0.3</td><td>setosa</td></tr>\n",
              "\t<tr><td>5.0</td><td>3.4</td><td>1.5</td><td>0.2</td><td>setosa</td></tr>\n",
              "\t<tr><td>4.4</td><td>2.9</td><td>1.4</td><td>0.2</td><td>setosa</td></tr>\n",
              "\t<tr><td>4.9</td><td>3.1</td><td>1.5</td><td>0.1</td><td>setosa</td></tr>\n",
              "\t<tr><td>5.4</td><td>3.7</td><td>1.5</td><td>0.2</td><td>setosa</td></tr>\n",
              "\t<tr><td>4.8</td><td>3.4</td><td>1.6</td><td>0.2</td><td>setosa</td></tr>\n",
              "\t<tr><td>4.8</td><td>3.0</td><td>1.4</td><td>0.1</td><td>setosa</td></tr>\n",
              "\t<tr><td>4.3</td><td>3.0</td><td>1.1</td><td>0.1</td><td>setosa</td></tr>\n",
              "\t<tr><td>5.8</td><td>4.0</td><td>1.2</td><td>0.2</td><td>setosa</td></tr>\n",
              "\t<tr><td>5.7</td><td>4.4</td><td>1.5</td><td>0.4</td><td>setosa</td></tr>\n",
              "\t<tr><td>5.4</td><td>3.9</td><td>1.3</td><td>0.4</td><td>setosa</td></tr>\n",
              "\t<tr><td>5.1</td><td>3.5</td><td>1.4</td><td>0.3</td><td>setosa</td></tr>\n",
              "\t<tr><td>5.7</td><td>3.8</td><td>1.7</td><td>0.3</td><td>setosa</td></tr>\n",
              "\t<tr><td>5.1</td><td>3.8</td><td>1.5</td><td>0.3</td><td>setosa</td></tr>\n",
              "\t<tr><td>5.4</td><td>3.4</td><td>1.7</td><td>0.2</td><td>setosa</td></tr>\n",
              "\t<tr><td>5.1</td><td>3.7</td><td>1.5</td><td>0.4</td><td>setosa</td></tr>\n",
              "\t<tr><td>4.6</td><td>3.6</td><td>1.0</td><td>0.2</td><td>setosa</td></tr>\n",
              "\t<tr><td>5.1</td><td>3.3</td><td>1.7</td><td>0.5</td><td>setosa</td></tr>\n",
              "\t<tr><td>4.8</td><td>3.4</td><td>1.9</td><td>0.2</td><td>setosa</td></tr>\n",
              "\t<tr><td>5.0</td><td>3.0</td><td>1.6</td><td>0.2</td><td>setosa</td></tr>\n",
              "\t<tr><td>5.0</td><td>3.4</td><td>1.6</td><td>0.4</td><td>setosa</td></tr>\n",
              "\t<tr><td>5.2</td><td>3.5</td><td>1.5</td><td>0.2</td><td>setosa</td></tr>\n",
              "\t<tr><td>5.2</td><td>3.4</td><td>1.4</td><td>0.2</td><td>setosa</td></tr>\n",
              "\t<tr><td>4.7</td><td>3.2</td><td>1.6</td><td>0.2</td><td>setosa</td></tr>\n",
              "\t<tr><td>⋮</td><td>⋮</td><td>⋮</td><td>⋮</td><td>⋮</td></tr>\n",
              "\t<tr><td>6.9</td><td>3.2</td><td>5.7</td><td>2.3</td><td>virginica</td></tr>\n",
              "\t<tr><td>5.6</td><td>2.8</td><td>4.9</td><td>2.0</td><td>virginica</td></tr>\n",
              "\t<tr><td>7.7</td><td>2.8</td><td>6.7</td><td>2.0</td><td>virginica</td></tr>\n",
              "\t<tr><td>6.3</td><td>2.7</td><td>4.9</td><td>1.8</td><td>virginica</td></tr>\n",
              "\t<tr><td>6.7</td><td>3.3</td><td>5.7</td><td>2.1</td><td>virginica</td></tr>\n",
              "\t<tr><td>7.2</td><td>3.2</td><td>6.0</td><td>1.8</td><td>virginica</td></tr>\n",
              "\t<tr><td>6.2</td><td>2.8</td><td>4.8</td><td>1.8</td><td>virginica</td></tr>\n",
              "\t<tr><td>6.1</td><td>3.0</td><td>4.9</td><td>1.8</td><td>virginica</td></tr>\n",
              "\t<tr><td>6.4</td><td>2.8</td><td>5.6</td><td>2.1</td><td>virginica</td></tr>\n",
              "\t<tr><td>7.2</td><td>3.0</td><td>5.8</td><td>1.6</td><td>virginica</td></tr>\n",
              "\t<tr><td>7.4</td><td>2.8</td><td>6.1</td><td>1.9</td><td>virginica</td></tr>\n",
              "\t<tr><td>7.9</td><td>3.8</td><td>6.4</td><td>2.0</td><td>virginica</td></tr>\n",
              "\t<tr><td>6.4</td><td>2.8</td><td>5.6</td><td>2.2</td><td>virginica</td></tr>\n",
              "\t<tr><td>6.3</td><td>2.8</td><td>5.1</td><td>1.5</td><td>virginica</td></tr>\n",
              "\t<tr><td>6.1</td><td>2.6</td><td>5.6</td><td>1.4</td><td>virginica</td></tr>\n",
              "\t<tr><td>7.7</td><td>3.0</td><td>6.1</td><td>2.3</td><td>virginica</td></tr>\n",
              "\t<tr><td>6.3</td><td>3.4</td><td>5.6</td><td>2.4</td><td>virginica</td></tr>\n",
              "\t<tr><td>6.4</td><td>3.1</td><td>5.5</td><td>1.8</td><td>virginica</td></tr>\n",
              "\t<tr><td>6.0</td><td>3.0</td><td>4.8</td><td>1.8</td><td>virginica</td></tr>\n",
              "\t<tr><td>6.9</td><td>3.1</td><td>5.4</td><td>2.1</td><td>virginica</td></tr>\n",
              "\t<tr><td>6.7</td><td>3.1</td><td>5.6</td><td>2.4</td><td>virginica</td></tr>\n",
              "\t<tr><td>6.9</td><td>3.1</td><td>5.1</td><td>2.3</td><td>virginica</td></tr>\n",
              "\t<tr><td>5.8</td><td>2.7</td><td>5.1</td><td>1.9</td><td>virginica</td></tr>\n",
              "\t<tr><td>6.8</td><td>3.2</td><td>5.9</td><td>2.3</td><td>virginica</td></tr>\n",
              "\t<tr><td>6.7</td><td>3.3</td><td>5.7</td><td>2.5</td><td>virginica</td></tr>\n",
              "\t<tr><td>6.7</td><td>3.0</td><td>5.2</td><td>2.3</td><td>virginica</td></tr>\n",
              "\t<tr><td>6.3</td><td>2.5</td><td>5.0</td><td>1.9</td><td>virginica</td></tr>\n",
              "\t<tr><td>6.5</td><td>3.0</td><td>5.2</td><td>2.0</td><td>virginica</td></tr>\n",
              "\t<tr><td>6.2</td><td>3.4</td><td>5.4</td><td>2.3</td><td>virginica</td></tr>\n",
              "\t<tr><td>5.9</td><td>3.0</td><td>5.1</td><td>1.8</td><td>virginica</td></tr>\n",
              "</tbody>\n",
              "</table>\n"
            ]
          },
          "metadata": {
            "tags": []
          }
        }
      ]
    },
    {
      "cell_type": "code",
      "metadata": {
        "id": "fO-O-x_LNyzc"
      },
      "source": [
        "x <- iris$Sepal.Length"
      ],
      "execution_count": 159,
      "outputs": []
    },
    {
      "cell_type": "code",
      "metadata": {
        "colab": {
          "base_uri": "https://localhost:8080/",
          "height": 85
        },
        "id": "jKG6tplIN-7q",
        "outputId": "6e404ab7-346a-4fba-b871-f68f8402b32f"
      },
      "source": [
        "x"
      ],
      "execution_count": 160,
      "outputs": [
        {
          "output_type": "display_data",
          "data": {
            "text/plain": [
              "  [1] 5.1 4.9 4.7 4.6 5.0 5.4 4.6 5.0 4.4 4.9 5.4 4.8 4.8 4.3 5.8 5.7 5.4 5.1\n",
              " [19] 5.7 5.1 5.4 5.1 4.6 5.1 4.8 5.0 5.0 5.2 5.2 4.7 4.8 5.4 5.2 5.5 4.9 5.0\n",
              " [37] 5.5 4.9 4.4 5.1 5.0 4.5 4.4 5.0 5.1 4.8 5.1 4.6 5.3 5.0 7.0 6.4 6.9 5.5\n",
              " [55] 6.5 5.7 6.3 4.9 6.6 5.2 5.0 5.9 6.0 6.1 5.6 6.7 5.6 5.8 6.2 5.6 5.9 6.1\n",
              " [73] 6.3 6.1 6.4 6.6 6.8 6.7 6.0 5.7 5.5 5.5 5.8 6.0 5.4 6.0 6.7 6.3 5.6 5.5\n",
              " [91] 5.5 6.1 5.8 5.0 5.6 5.7 5.7 6.2 5.1 5.7 6.3 5.8 7.1 6.3 6.5 7.6 4.9 7.3\n",
              "[109] 6.7 7.2 6.5 6.4 6.8 5.7 5.8 6.4 6.5 7.7 7.7 6.0 6.9 5.6 7.7 6.3 6.7 7.2\n",
              "[127] 6.2 6.1 6.4 7.2 7.4 7.9 6.4 6.3 6.1 7.7 6.3 6.4 6.0 6.9 6.7 6.9 5.8 6.8\n",
              "[145] 6.7 6.7 6.3 6.5 6.2 5.9"
            ],
            "text/latex": "\\begin{enumerate*}\n\\item 5.1\n\\item 4.9\n\\item 4.7\n\\item 4.6\n\\item 5\n\\item 5.4\n\\item 4.6\n\\item 5\n\\item 4.4\n\\item 4.9\n\\item 5.4\n\\item 4.8\n\\item 4.8\n\\item 4.3\n\\item 5.8\n\\item 5.7\n\\item 5.4\n\\item 5.1\n\\item 5.7\n\\item 5.1\n\\item 5.4\n\\item 5.1\n\\item 4.6\n\\item 5.1\n\\item 4.8\n\\item 5\n\\item 5\n\\item 5.2\n\\item 5.2\n\\item 4.7\n\\item 4.8\n\\item 5.4\n\\item 5.2\n\\item 5.5\n\\item 4.9\n\\item 5\n\\item 5.5\n\\item 4.9\n\\item 4.4\n\\item 5.1\n\\item 5\n\\item 4.5\n\\item 4.4\n\\item 5\n\\item 5.1\n\\item 4.8\n\\item 5.1\n\\item 4.6\n\\item 5.3\n\\item 5\n\\item 7\n\\item 6.4\n\\item 6.9\n\\item 5.5\n\\item 6.5\n\\item 5.7\n\\item 6.3\n\\item 4.9\n\\item 6.6\n\\item 5.2\n\\item 5\n\\item 5.9\n\\item 6\n\\item 6.1\n\\item 5.6\n\\item 6.7\n\\item 5.6\n\\item 5.8\n\\item 6.2\n\\item 5.6\n\\item 5.9\n\\item 6.1\n\\item 6.3\n\\item 6.1\n\\item 6.4\n\\item 6.6\n\\item 6.8\n\\item 6.7\n\\item 6\n\\item 5.7\n\\item 5.5\n\\item 5.5\n\\item 5.8\n\\item 6\n\\item 5.4\n\\item 6\n\\item 6.7\n\\item 6.3\n\\item 5.6\n\\item 5.5\n\\item 5.5\n\\item 6.1\n\\item 5.8\n\\item 5\n\\item 5.6\n\\item 5.7\n\\item 5.7\n\\item 6.2\n\\item 5.1\n\\item 5.7\n\\item 6.3\n\\item 5.8\n\\item 7.1\n\\item 6.3\n\\item 6.5\n\\item 7.6\n\\item 4.9\n\\item 7.3\n\\item 6.7\n\\item 7.2\n\\item 6.5\n\\item 6.4\n\\item 6.8\n\\item 5.7\n\\item 5.8\n\\item 6.4\n\\item 6.5\n\\item 7.7\n\\item 7.7\n\\item 6\n\\item 6.9\n\\item 5.6\n\\item 7.7\n\\item 6.3\n\\item 6.7\n\\item 7.2\n\\item 6.2\n\\item 6.1\n\\item 6.4\n\\item 7.2\n\\item 7.4\n\\item 7.9\n\\item 6.4\n\\item 6.3\n\\item 6.1\n\\item 7.7\n\\item 6.3\n\\item 6.4\n\\item 6\n\\item 6.9\n\\item 6.7\n\\item 6.9\n\\item 5.8\n\\item 6.8\n\\item 6.7\n\\item 6.7\n\\item 6.3\n\\item 6.5\n\\item 6.2\n\\item 5.9\n\\end{enumerate*}\n",
            "text/markdown": "1. 5.1\n2. 4.9\n3. 4.7\n4. 4.6\n5. 5\n6. 5.4\n7. 4.6\n8. 5\n9. 4.4\n10. 4.9\n11. 5.4\n12. 4.8\n13. 4.8\n14. 4.3\n15. 5.8\n16. 5.7\n17. 5.4\n18. 5.1\n19. 5.7\n20. 5.1\n21. 5.4\n22. 5.1\n23. 4.6\n24. 5.1\n25. 4.8\n26. 5\n27. 5\n28. 5.2\n29. 5.2\n30. 4.7\n31. 4.8\n32. 5.4\n33. 5.2\n34. 5.5\n35. 4.9\n36. 5\n37. 5.5\n38. 4.9\n39. 4.4\n40. 5.1\n41. 5\n42. 4.5\n43. 4.4\n44. 5\n45. 5.1\n46. 4.8\n47. 5.1\n48. 4.6\n49. 5.3\n50. 5\n51. 7\n52. 6.4\n53. 6.9\n54. 5.5\n55. 6.5\n56. 5.7\n57. 6.3\n58. 4.9\n59. 6.6\n60. 5.2\n61. 5\n62. 5.9\n63. 6\n64. 6.1\n65. 5.6\n66. 6.7\n67. 5.6\n68. 5.8\n69. 6.2\n70. 5.6\n71. 5.9\n72. 6.1\n73. 6.3\n74. 6.1\n75. 6.4\n76. 6.6\n77. 6.8\n78. 6.7\n79. 6\n80. 5.7\n81. 5.5\n82. 5.5\n83. 5.8\n84. 6\n85. 5.4\n86. 6\n87. 6.7\n88. 6.3\n89. 5.6\n90. 5.5\n91. 5.5\n92. 6.1\n93. 5.8\n94. 5\n95. 5.6\n96. 5.7\n97. 5.7\n98. 6.2\n99. 5.1\n100. 5.7\n101. 6.3\n102. 5.8\n103. 7.1\n104. 6.3\n105. 6.5\n106. 7.6\n107. 4.9\n108. 7.3\n109. 6.7\n110. 7.2\n111. 6.5\n112. 6.4\n113. 6.8\n114. 5.7\n115. 5.8\n116. 6.4\n117. 6.5\n118. 7.7\n119. 7.7\n120. 6\n121. 6.9\n122. 5.6\n123. 7.7\n124. 6.3\n125. 6.7\n126. 7.2\n127. 6.2\n128. 6.1\n129. 6.4\n130. 7.2\n131. 7.4\n132. 7.9\n133. 6.4\n134. 6.3\n135. 6.1\n136. 7.7\n137. 6.3\n138. 6.4\n139. 6\n140. 6.9\n141. 6.7\n142. 6.9\n143. 5.8\n144. 6.8\n145. 6.7\n146. 6.7\n147. 6.3\n148. 6.5\n149. 6.2\n150. 5.9\n\n\n",
            "text/html": [
              "<style>\n",
              ".list-inline {list-style: none; margin:0; padding: 0}\n",
              ".list-inline>li {display: inline-block}\n",
              ".list-inline>li:not(:last-child)::after {content: \"\\00b7\"; padding: 0 .5ex}\n",
              "</style>\n",
              "<ol class=list-inline><li>5.1</li><li>4.9</li><li>4.7</li><li>4.6</li><li>5</li><li>5.4</li><li>4.6</li><li>5</li><li>4.4</li><li>4.9</li><li>5.4</li><li>4.8</li><li>4.8</li><li>4.3</li><li>5.8</li><li>5.7</li><li>5.4</li><li>5.1</li><li>5.7</li><li>5.1</li><li>5.4</li><li>5.1</li><li>4.6</li><li>5.1</li><li>4.8</li><li>5</li><li>5</li><li>5.2</li><li>5.2</li><li>4.7</li><li>4.8</li><li>5.4</li><li>5.2</li><li>5.5</li><li>4.9</li><li>5</li><li>5.5</li><li>4.9</li><li>4.4</li><li>5.1</li><li>5</li><li>4.5</li><li>4.4</li><li>5</li><li>5.1</li><li>4.8</li><li>5.1</li><li>4.6</li><li>5.3</li><li>5</li><li>7</li><li>6.4</li><li>6.9</li><li>5.5</li><li>6.5</li><li>5.7</li><li>6.3</li><li>4.9</li><li>6.6</li><li>5.2</li><li>5</li><li>5.9</li><li>6</li><li>6.1</li><li>5.6</li><li>6.7</li><li>5.6</li><li>5.8</li><li>6.2</li><li>5.6</li><li>5.9</li><li>6.1</li><li>6.3</li><li>6.1</li><li>6.4</li><li>6.6</li><li>6.8</li><li>6.7</li><li>6</li><li>5.7</li><li>5.5</li><li>5.5</li><li>5.8</li><li>6</li><li>5.4</li><li>6</li><li>6.7</li><li>6.3</li><li>5.6</li><li>5.5</li><li>5.5</li><li>6.1</li><li>5.8</li><li>5</li><li>5.6</li><li>5.7</li><li>5.7</li><li>6.2</li><li>5.1</li><li>5.7</li><li>6.3</li><li>5.8</li><li>7.1</li><li>6.3</li><li>6.5</li><li>7.6</li><li>4.9</li><li>7.3</li><li>6.7</li><li>7.2</li><li>6.5</li><li>6.4</li><li>6.8</li><li>5.7</li><li>5.8</li><li>6.4</li><li>6.5</li><li>7.7</li><li>7.7</li><li>6</li><li>6.9</li><li>5.6</li><li>7.7</li><li>6.3</li><li>6.7</li><li>7.2</li><li>6.2</li><li>6.1</li><li>6.4</li><li>7.2</li><li>7.4</li><li>7.9</li><li>6.4</li><li>6.3</li><li>6.1</li><li>7.7</li><li>6.3</li><li>6.4</li><li>6</li><li>6.9</li><li>6.7</li><li>6.9</li><li>5.8</li><li>6.8</li><li>6.7</li><li>6.7</li><li>6.3</li><li>6.5</li><li>6.2</li><li>5.9</li></ol>\n"
            ]
          },
          "metadata": {
            "tags": []
          }
        }
      ]
    },
    {
      "cell_type": "markdown",
      "metadata": {
        "id": "5Zw38xpwOIoq"
      },
      "source": [
        "### Adding column to data frame"
      ]
    },
    {
      "cell_type": "code",
      "metadata": {
        "colab": {
          "base_uri": "https://localhost:8080/",
          "height": 204
        },
        "id": "JcvxTVVyN_ik",
        "outputId": "6c3bb78f-1a47-4740-e2fb-09aa2501f263"
      },
      "source": [
        "head(mtcars)"
      ],
      "execution_count": 161,
      "outputs": [
        {
          "output_type": "display_data",
          "data": {
            "text/plain": [
              "                  mpg  cyl disp hp  drat wt    qsec  vs am gear carb\n",
              "Mazda RX4         21.0 6   160  110 3.90 2.620 16.46 0  1  4    4   \n",
              "Mazda RX4 Wag     21.0 6   160  110 3.90 2.875 17.02 0  1  4    4   \n",
              "Datsun 710        22.8 4   108   93 3.85 2.320 18.61 1  1  4    1   \n",
              "Hornet 4 Drive    21.4 6   258  110 3.08 3.215 19.44 1  0  3    1   \n",
              "Hornet Sportabout 18.7 8   360  175 3.15 3.440 17.02 0  0  3    2   \n",
              "Valiant           18.1 6   225  105 2.76 3.460 20.22 1  0  3    1   "
            ],
            "text/latex": "A data.frame: 6 × 11\n\\begin{tabular}{r|lllllllllll}\n  & mpg & cyl & disp & hp & drat & wt & qsec & vs & am & gear & carb\\\\\n  & <dbl> & <dbl> & <dbl> & <dbl> & <dbl> & <dbl> & <dbl> & <dbl> & <dbl> & <dbl> & <dbl>\\\\\n\\hline\n\tMazda RX4 & 21.0 & 6 & 160 & 110 & 3.90 & 2.620 & 16.46 & 0 & 1 & 4 & 4\\\\\n\tMazda RX4 Wag & 21.0 & 6 & 160 & 110 & 3.90 & 2.875 & 17.02 & 0 & 1 & 4 & 4\\\\\n\tDatsun 710 & 22.8 & 4 & 108 &  93 & 3.85 & 2.320 & 18.61 & 1 & 1 & 4 & 1\\\\\n\tHornet 4 Drive & 21.4 & 6 & 258 & 110 & 3.08 & 3.215 & 19.44 & 1 & 0 & 3 & 1\\\\\n\tHornet Sportabout & 18.7 & 8 & 360 & 175 & 3.15 & 3.440 & 17.02 & 0 & 0 & 3 & 2\\\\\n\tValiant & 18.1 & 6 & 225 & 105 & 2.76 & 3.460 & 20.22 & 1 & 0 & 3 & 1\\\\\n\\end{tabular}\n",
            "text/markdown": "\nA data.frame: 6 × 11\n\n| <!--/--> | mpg &lt;dbl&gt; | cyl &lt;dbl&gt; | disp &lt;dbl&gt; | hp &lt;dbl&gt; | drat &lt;dbl&gt; | wt &lt;dbl&gt; | qsec &lt;dbl&gt; | vs &lt;dbl&gt; | am &lt;dbl&gt; | gear &lt;dbl&gt; | carb &lt;dbl&gt; |\n|---|---|---|---|---|---|---|---|---|---|---|---|\n| Mazda RX4 | 21.0 | 6 | 160 | 110 | 3.90 | 2.620 | 16.46 | 0 | 1 | 4 | 4 |\n| Mazda RX4 Wag | 21.0 | 6 | 160 | 110 | 3.90 | 2.875 | 17.02 | 0 | 1 | 4 | 4 |\n| Datsun 710 | 22.8 | 4 | 108 |  93 | 3.85 | 2.320 | 18.61 | 1 | 1 | 4 | 1 |\n| Hornet 4 Drive | 21.4 | 6 | 258 | 110 | 3.08 | 3.215 | 19.44 | 1 | 0 | 3 | 1 |\n| Hornet Sportabout | 18.7 | 8 | 360 | 175 | 3.15 | 3.440 | 17.02 | 0 | 0 | 3 | 2 |\n| Valiant | 18.1 | 6 | 225 | 105 | 2.76 | 3.460 | 20.22 | 1 | 0 | 3 | 1 |\n\n",
            "text/html": [
              "<table>\n",
              "<caption>A data.frame: 6 × 11</caption>\n",
              "<thead>\n",
              "\t<tr><th></th><th scope=col>mpg</th><th scope=col>cyl</th><th scope=col>disp</th><th scope=col>hp</th><th scope=col>drat</th><th scope=col>wt</th><th scope=col>qsec</th><th scope=col>vs</th><th scope=col>am</th><th scope=col>gear</th><th scope=col>carb</th></tr>\n",
              "\t<tr><th></th><th scope=col>&lt;dbl&gt;</th><th scope=col>&lt;dbl&gt;</th><th scope=col>&lt;dbl&gt;</th><th scope=col>&lt;dbl&gt;</th><th scope=col>&lt;dbl&gt;</th><th scope=col>&lt;dbl&gt;</th><th scope=col>&lt;dbl&gt;</th><th scope=col>&lt;dbl&gt;</th><th scope=col>&lt;dbl&gt;</th><th scope=col>&lt;dbl&gt;</th><th scope=col>&lt;dbl&gt;</th></tr>\n",
              "</thead>\n",
              "<tbody>\n",
              "\t<tr><th scope=row>Mazda RX4</th><td>21.0</td><td>6</td><td>160</td><td>110</td><td>3.90</td><td>2.620</td><td>16.46</td><td>0</td><td>1</td><td>4</td><td>4</td></tr>\n",
              "\t<tr><th scope=row>Mazda RX4 Wag</th><td>21.0</td><td>6</td><td>160</td><td>110</td><td>3.90</td><td>2.875</td><td>17.02</td><td>0</td><td>1</td><td>4</td><td>4</td></tr>\n",
              "\t<tr><th scope=row>Datsun 710</th><td>22.8</td><td>4</td><td>108</td><td> 93</td><td>3.85</td><td>2.320</td><td>18.61</td><td>1</td><td>1</td><td>4</td><td>1</td></tr>\n",
              "\t<tr><th scope=row>Hornet 4 Drive</th><td>21.4</td><td>6</td><td>258</td><td>110</td><td>3.08</td><td>3.215</td><td>19.44</td><td>1</td><td>0</td><td>3</td><td>1</td></tr>\n",
              "\t<tr><th scope=row>Hornet Sportabout</th><td>18.7</td><td>8</td><td>360</td><td>175</td><td>3.15</td><td>3.440</td><td>17.02</td><td>0</td><td>0</td><td>3</td><td>2</td></tr>\n",
              "\t<tr><th scope=row>Valiant</th><td>18.1</td><td>6</td><td>225</td><td>105</td><td>2.76</td><td>3.460</td><td>20.22</td><td>1</td><td>0</td><td>3</td><td>1</td></tr>\n",
              "</tbody>\n",
              "</table>\n"
            ]
          },
          "metadata": {
            "tags": []
          }
        }
      ]
    },
    {
      "cell_type": "code",
      "metadata": {
        "colab": {
          "base_uri": "https://localhost:8080/",
          "height": 204
        },
        "id": "9dZjvQQ9OM0X",
        "outputId": "46cfedc9-ea01-4462-9fcd-bbd7f00da37f"
      },
      "source": [
        "mtcars$ratio <- mtcars$hp/mtcars$cyl\n",
        "head(mtcars)"
      ],
      "execution_count": 162,
      "outputs": [
        {
          "output_type": "display_data",
          "data": {
            "text/plain": [
              "                  mpg  cyl disp hp  drat wt    qsec  vs am gear carb ratio   \n",
              "Mazda RX4         21.0 6   160  110 3.90 2.620 16.46 0  1  4    4    18.33333\n",
              "Mazda RX4 Wag     21.0 6   160  110 3.90 2.875 17.02 0  1  4    4    18.33333\n",
              "Datsun 710        22.8 4   108   93 3.85 2.320 18.61 1  1  4    1    23.25000\n",
              "Hornet 4 Drive    21.4 6   258  110 3.08 3.215 19.44 1  0  3    1    18.33333\n",
              "Hornet Sportabout 18.7 8   360  175 3.15 3.440 17.02 0  0  3    2    21.87500\n",
              "Valiant           18.1 6   225  105 2.76 3.460 20.22 1  0  3    1    17.50000"
            ],
            "text/latex": "A data.frame: 6 × 12\n\\begin{tabular}{r|llllllllllll}\n  & mpg & cyl & disp & hp & drat & wt & qsec & vs & am & gear & carb & ratio\\\\\n  & <dbl> & <dbl> & <dbl> & <dbl> & <dbl> & <dbl> & <dbl> & <dbl> & <dbl> & <dbl> & <dbl> & <dbl>\\\\\n\\hline\n\tMazda RX4 & 21.0 & 6 & 160 & 110 & 3.90 & 2.620 & 16.46 & 0 & 1 & 4 & 4 & 18.33333\\\\\n\tMazda RX4 Wag & 21.0 & 6 & 160 & 110 & 3.90 & 2.875 & 17.02 & 0 & 1 & 4 & 4 & 18.33333\\\\\n\tDatsun 710 & 22.8 & 4 & 108 &  93 & 3.85 & 2.320 & 18.61 & 1 & 1 & 4 & 1 & 23.25000\\\\\n\tHornet 4 Drive & 21.4 & 6 & 258 & 110 & 3.08 & 3.215 & 19.44 & 1 & 0 & 3 & 1 & 18.33333\\\\\n\tHornet Sportabout & 18.7 & 8 & 360 & 175 & 3.15 & 3.440 & 17.02 & 0 & 0 & 3 & 2 & 21.87500\\\\\n\tValiant & 18.1 & 6 & 225 & 105 & 2.76 & 3.460 & 20.22 & 1 & 0 & 3 & 1 & 17.50000\\\\\n\\end{tabular}\n",
            "text/markdown": "\nA data.frame: 6 × 12\n\n| <!--/--> | mpg &lt;dbl&gt; | cyl &lt;dbl&gt; | disp &lt;dbl&gt; | hp &lt;dbl&gt; | drat &lt;dbl&gt; | wt &lt;dbl&gt; | qsec &lt;dbl&gt; | vs &lt;dbl&gt; | am &lt;dbl&gt; | gear &lt;dbl&gt; | carb &lt;dbl&gt; | ratio &lt;dbl&gt; |\n|---|---|---|---|---|---|---|---|---|---|---|---|---|\n| Mazda RX4 | 21.0 | 6 | 160 | 110 | 3.90 | 2.620 | 16.46 | 0 | 1 | 4 | 4 | 18.33333 |\n| Mazda RX4 Wag | 21.0 | 6 | 160 | 110 | 3.90 | 2.875 | 17.02 | 0 | 1 | 4 | 4 | 18.33333 |\n| Datsun 710 | 22.8 | 4 | 108 |  93 | 3.85 | 2.320 | 18.61 | 1 | 1 | 4 | 1 | 23.25000 |\n| Hornet 4 Drive | 21.4 | 6 | 258 | 110 | 3.08 | 3.215 | 19.44 | 1 | 0 | 3 | 1 | 18.33333 |\n| Hornet Sportabout | 18.7 | 8 | 360 | 175 | 3.15 | 3.440 | 17.02 | 0 | 0 | 3 | 2 | 21.87500 |\n| Valiant | 18.1 | 6 | 225 | 105 | 2.76 | 3.460 | 20.22 | 1 | 0 | 3 | 1 | 17.50000 |\n\n",
            "text/html": [
              "<table>\n",
              "<caption>A data.frame: 6 × 12</caption>\n",
              "<thead>\n",
              "\t<tr><th></th><th scope=col>mpg</th><th scope=col>cyl</th><th scope=col>disp</th><th scope=col>hp</th><th scope=col>drat</th><th scope=col>wt</th><th scope=col>qsec</th><th scope=col>vs</th><th scope=col>am</th><th scope=col>gear</th><th scope=col>carb</th><th scope=col>ratio</th></tr>\n",
              "\t<tr><th></th><th scope=col>&lt;dbl&gt;</th><th scope=col>&lt;dbl&gt;</th><th scope=col>&lt;dbl&gt;</th><th scope=col>&lt;dbl&gt;</th><th scope=col>&lt;dbl&gt;</th><th scope=col>&lt;dbl&gt;</th><th scope=col>&lt;dbl&gt;</th><th scope=col>&lt;dbl&gt;</th><th scope=col>&lt;dbl&gt;</th><th scope=col>&lt;dbl&gt;</th><th scope=col>&lt;dbl&gt;</th><th scope=col>&lt;dbl&gt;</th></tr>\n",
              "</thead>\n",
              "<tbody>\n",
              "\t<tr><th scope=row>Mazda RX4</th><td>21.0</td><td>6</td><td>160</td><td>110</td><td>3.90</td><td>2.620</td><td>16.46</td><td>0</td><td>1</td><td>4</td><td>4</td><td>18.33333</td></tr>\n",
              "\t<tr><th scope=row>Mazda RX4 Wag</th><td>21.0</td><td>6</td><td>160</td><td>110</td><td>3.90</td><td>2.875</td><td>17.02</td><td>0</td><td>1</td><td>4</td><td>4</td><td>18.33333</td></tr>\n",
              "\t<tr><th scope=row>Datsun 710</th><td>22.8</td><td>4</td><td>108</td><td> 93</td><td>3.85</td><td>2.320</td><td>18.61</td><td>1</td><td>1</td><td>4</td><td>1</td><td>23.25000</td></tr>\n",
              "\t<tr><th scope=row>Hornet 4 Drive</th><td>21.4</td><td>6</td><td>258</td><td>110</td><td>3.08</td><td>3.215</td><td>19.44</td><td>1</td><td>0</td><td>3</td><td>1</td><td>18.33333</td></tr>\n",
              "\t<tr><th scope=row>Hornet Sportabout</th><td>18.7</td><td>8</td><td>360</td><td>175</td><td>3.15</td><td>3.440</td><td>17.02</td><td>0</td><td>0</td><td>3</td><td>2</td><td>21.87500</td></tr>\n",
              "\t<tr><th scope=row>Valiant</th><td>18.1</td><td>6</td><td>225</td><td>105</td><td>2.76</td><td>3.460</td><td>20.22</td><td>1</td><td>0</td><td>3</td><td>1</td><td>17.50000</td></tr>\n",
              "</tbody>\n",
              "</table>\n"
            ]
          },
          "metadata": {
            "tags": []
          }
        }
      ]
    },
    {
      "cell_type": "markdown",
      "metadata": {
        "id": "m1EQa8kCOaim"
      },
      "source": [
        "### Delete column from data frame"
      ]
    },
    {
      "cell_type": "code",
      "metadata": {
        "colab": {
          "base_uri": "https://localhost:8080/",
          "height": 204
        },
        "id": "91QLNYlUOWfq",
        "outputId": "6238b097-da8f-409a-c432-aca66bf98567"
      },
      "source": [
        "mtcars$ratio <- NULL\n",
        "head(mtcars)"
      ],
      "execution_count": 163,
      "outputs": [
        {
          "output_type": "display_data",
          "data": {
            "text/plain": [
              "                  mpg  cyl disp hp  drat wt    qsec  vs am gear carb\n",
              "Mazda RX4         21.0 6   160  110 3.90 2.620 16.46 0  1  4    4   \n",
              "Mazda RX4 Wag     21.0 6   160  110 3.90 2.875 17.02 0  1  4    4   \n",
              "Datsun 710        22.8 4   108   93 3.85 2.320 18.61 1  1  4    1   \n",
              "Hornet 4 Drive    21.4 6   258  110 3.08 3.215 19.44 1  0  3    1   \n",
              "Hornet Sportabout 18.7 8   360  175 3.15 3.440 17.02 0  0  3    2   \n",
              "Valiant           18.1 6   225  105 2.76 3.460 20.22 1  0  3    1   "
            ],
            "text/latex": "A data.frame: 6 × 11\n\\begin{tabular}{r|lllllllllll}\n  & mpg & cyl & disp & hp & drat & wt & qsec & vs & am & gear & carb\\\\\n  & <dbl> & <dbl> & <dbl> & <dbl> & <dbl> & <dbl> & <dbl> & <dbl> & <dbl> & <dbl> & <dbl>\\\\\n\\hline\n\tMazda RX4 & 21.0 & 6 & 160 & 110 & 3.90 & 2.620 & 16.46 & 0 & 1 & 4 & 4\\\\\n\tMazda RX4 Wag & 21.0 & 6 & 160 & 110 & 3.90 & 2.875 & 17.02 & 0 & 1 & 4 & 4\\\\\n\tDatsun 710 & 22.8 & 4 & 108 &  93 & 3.85 & 2.320 & 18.61 & 1 & 1 & 4 & 1\\\\\n\tHornet 4 Drive & 21.4 & 6 & 258 & 110 & 3.08 & 3.215 & 19.44 & 1 & 0 & 3 & 1\\\\\n\tHornet Sportabout & 18.7 & 8 & 360 & 175 & 3.15 & 3.440 & 17.02 & 0 & 0 & 3 & 2\\\\\n\tValiant & 18.1 & 6 & 225 & 105 & 2.76 & 3.460 & 20.22 & 1 & 0 & 3 & 1\\\\\n\\end{tabular}\n",
            "text/markdown": "\nA data.frame: 6 × 11\n\n| <!--/--> | mpg &lt;dbl&gt; | cyl &lt;dbl&gt; | disp &lt;dbl&gt; | hp &lt;dbl&gt; | drat &lt;dbl&gt; | wt &lt;dbl&gt; | qsec &lt;dbl&gt; | vs &lt;dbl&gt; | am &lt;dbl&gt; | gear &lt;dbl&gt; | carb &lt;dbl&gt; |\n|---|---|---|---|---|---|---|---|---|---|---|---|\n| Mazda RX4 | 21.0 | 6 | 160 | 110 | 3.90 | 2.620 | 16.46 | 0 | 1 | 4 | 4 |\n| Mazda RX4 Wag | 21.0 | 6 | 160 | 110 | 3.90 | 2.875 | 17.02 | 0 | 1 | 4 | 4 |\n| Datsun 710 | 22.8 | 4 | 108 |  93 | 3.85 | 2.320 | 18.61 | 1 | 1 | 4 | 1 |\n| Hornet 4 Drive | 21.4 | 6 | 258 | 110 | 3.08 | 3.215 | 19.44 | 1 | 0 | 3 | 1 |\n| Hornet Sportabout | 18.7 | 8 | 360 | 175 | 3.15 | 3.440 | 17.02 | 0 | 0 | 3 | 2 |\n| Valiant | 18.1 | 6 | 225 | 105 | 2.76 | 3.460 | 20.22 | 1 | 0 | 3 | 1 |\n\n",
            "text/html": [
              "<table>\n",
              "<caption>A data.frame: 6 × 11</caption>\n",
              "<thead>\n",
              "\t<tr><th></th><th scope=col>mpg</th><th scope=col>cyl</th><th scope=col>disp</th><th scope=col>hp</th><th scope=col>drat</th><th scope=col>wt</th><th scope=col>qsec</th><th scope=col>vs</th><th scope=col>am</th><th scope=col>gear</th><th scope=col>carb</th></tr>\n",
              "\t<tr><th></th><th scope=col>&lt;dbl&gt;</th><th scope=col>&lt;dbl&gt;</th><th scope=col>&lt;dbl&gt;</th><th scope=col>&lt;dbl&gt;</th><th scope=col>&lt;dbl&gt;</th><th scope=col>&lt;dbl&gt;</th><th scope=col>&lt;dbl&gt;</th><th scope=col>&lt;dbl&gt;</th><th scope=col>&lt;dbl&gt;</th><th scope=col>&lt;dbl&gt;</th><th scope=col>&lt;dbl&gt;</th></tr>\n",
              "</thead>\n",
              "<tbody>\n",
              "\t<tr><th scope=row>Mazda RX4</th><td>21.0</td><td>6</td><td>160</td><td>110</td><td>3.90</td><td>2.620</td><td>16.46</td><td>0</td><td>1</td><td>4</td><td>4</td></tr>\n",
              "\t<tr><th scope=row>Mazda RX4 Wag</th><td>21.0</td><td>6</td><td>160</td><td>110</td><td>3.90</td><td>2.875</td><td>17.02</td><td>0</td><td>1</td><td>4</td><td>4</td></tr>\n",
              "\t<tr><th scope=row>Datsun 710</th><td>22.8</td><td>4</td><td>108</td><td> 93</td><td>3.85</td><td>2.320</td><td>18.61</td><td>1</td><td>1</td><td>4</td><td>1</td></tr>\n",
              "\t<tr><th scope=row>Hornet 4 Drive</th><td>21.4</td><td>6</td><td>258</td><td>110</td><td>3.08</td><td>3.215</td><td>19.44</td><td>1</td><td>0</td><td>3</td><td>1</td></tr>\n",
              "\t<tr><th scope=row>Hornet Sportabout</th><td>18.7</td><td>8</td><td>360</td><td>175</td><td>3.15</td><td>3.440</td><td>17.02</td><td>0</td><td>0</td><td>3</td><td>2</td></tr>\n",
              "\t<tr><th scope=row>Valiant</th><td>18.1</td><td>6</td><td>225</td><td>105</td><td>2.76</td><td>3.460</td><td>20.22</td><td>1</td><td>0</td><td>3</td><td>1</td></tr>\n",
              "</tbody>\n",
              "</table>\n"
            ]
          },
          "metadata": {
            "tags": []
          }
        }
      ]
    },
    {
      "cell_type": "markdown",
      "metadata": {
        "id": "u2K-rI-hO-5O"
      },
      "source": [
        "### Adding row to data frame"
      ]
    },
    {
      "cell_type": "code",
      "metadata": {
        "colab": {
          "base_uri": "https://localhost:8080/",
          "height": 204
        },
        "id": "vf1cGdHOOqR9",
        "outputId": "452b66a8-75cc-443c-c2eb-35b4ca91bfbe"
      },
      "source": [
        "tail(rbind(mtcars, list(99, 10, 200, 999, 9, 9, 99, 1, 1, 9, 9)))"
      ],
      "execution_count": 164,
      "outputs": [
        {
          "output_type": "display_data",
          "data": {
            "text/plain": [
              "               mpg  cyl disp  hp  drat wt    qsec vs am gear carb\n",
              "Lotus Europa   30.4  4   95.1 113 3.77 1.513 16.9 1  1  5    2   \n",
              "Ford Pantera L 15.8  8  351.0 264 4.22 3.170 14.5 0  1  5    4   \n",
              "Ferrari Dino   19.7  6  145.0 175 3.62 2.770 15.5 0  1  5    6   \n",
              "Maserati Bora  15.0  8  301.0 335 3.54 3.570 14.6 0  1  5    8   \n",
              "Volvo 142E     21.4  4  121.0 109 4.11 2.780 18.6 1  1  4    2   \n",
              "33             99.0 10  200.0 999 9.00 9.000 99.0 1  1  9    9   "
            ],
            "text/latex": "A data.frame: 6 × 11\n\\begin{tabular}{r|lllllllllll}\n  & mpg & cyl & disp & hp & drat & wt & qsec & vs & am & gear & carb\\\\\n  & <dbl> & <dbl> & <dbl> & <dbl> & <dbl> & <dbl> & <dbl> & <dbl> & <dbl> & <dbl> & <dbl>\\\\\n\\hline\n\tLotus Europa & 30.4 &  4 &  95.1 & 113 & 3.77 & 1.513 & 16.9 & 1 & 1 & 5 & 2\\\\\n\tFord Pantera L & 15.8 &  8 & 351.0 & 264 & 4.22 & 3.170 & 14.5 & 0 & 1 & 5 & 4\\\\\n\tFerrari Dino & 19.7 &  6 & 145.0 & 175 & 3.62 & 2.770 & 15.5 & 0 & 1 & 5 & 6\\\\\n\tMaserati Bora & 15.0 &  8 & 301.0 & 335 & 3.54 & 3.570 & 14.6 & 0 & 1 & 5 & 8\\\\\n\tVolvo 142E & 21.4 &  4 & 121.0 & 109 & 4.11 & 2.780 & 18.6 & 1 & 1 & 4 & 2\\\\\n\t33 & 99.0 & 10 & 200.0 & 999 & 9.00 & 9.000 & 99.0 & 1 & 1 & 9 & 9\\\\\n\\end{tabular}\n",
            "text/markdown": "\nA data.frame: 6 × 11\n\n| <!--/--> | mpg &lt;dbl&gt; | cyl &lt;dbl&gt; | disp &lt;dbl&gt; | hp &lt;dbl&gt; | drat &lt;dbl&gt; | wt &lt;dbl&gt; | qsec &lt;dbl&gt; | vs &lt;dbl&gt; | am &lt;dbl&gt; | gear &lt;dbl&gt; | carb &lt;dbl&gt; |\n|---|---|---|---|---|---|---|---|---|---|---|---|\n| Lotus Europa | 30.4 |  4 |  95.1 | 113 | 3.77 | 1.513 | 16.9 | 1 | 1 | 5 | 2 |\n| Ford Pantera L | 15.8 |  8 | 351.0 | 264 | 4.22 | 3.170 | 14.5 | 0 | 1 | 5 | 4 |\n| Ferrari Dino | 19.7 |  6 | 145.0 | 175 | 3.62 | 2.770 | 15.5 | 0 | 1 | 5 | 6 |\n| Maserati Bora | 15.0 |  8 | 301.0 | 335 | 3.54 | 3.570 | 14.6 | 0 | 1 | 5 | 8 |\n| Volvo 142E | 21.4 |  4 | 121.0 | 109 | 4.11 | 2.780 | 18.6 | 1 | 1 | 4 | 2 |\n| 33 | 99.0 | 10 | 200.0 | 999 | 9.00 | 9.000 | 99.0 | 1 | 1 | 9 | 9 |\n\n",
            "text/html": [
              "<table>\n",
              "<caption>A data.frame: 6 × 11</caption>\n",
              "<thead>\n",
              "\t<tr><th></th><th scope=col>mpg</th><th scope=col>cyl</th><th scope=col>disp</th><th scope=col>hp</th><th scope=col>drat</th><th scope=col>wt</th><th scope=col>qsec</th><th scope=col>vs</th><th scope=col>am</th><th scope=col>gear</th><th scope=col>carb</th></tr>\n",
              "\t<tr><th></th><th scope=col>&lt;dbl&gt;</th><th scope=col>&lt;dbl&gt;</th><th scope=col>&lt;dbl&gt;</th><th scope=col>&lt;dbl&gt;</th><th scope=col>&lt;dbl&gt;</th><th scope=col>&lt;dbl&gt;</th><th scope=col>&lt;dbl&gt;</th><th scope=col>&lt;dbl&gt;</th><th scope=col>&lt;dbl&gt;</th><th scope=col>&lt;dbl&gt;</th><th scope=col>&lt;dbl&gt;</th></tr>\n",
              "</thead>\n",
              "<tbody>\n",
              "\t<tr><th scope=row>Lotus Europa</th><td>30.4</td><td> 4</td><td> 95.1</td><td>113</td><td>3.77</td><td>1.513</td><td>16.9</td><td>1</td><td>1</td><td>5</td><td>2</td></tr>\n",
              "\t<tr><th scope=row>Ford Pantera L</th><td>15.8</td><td> 8</td><td>351.0</td><td>264</td><td>4.22</td><td>3.170</td><td>14.5</td><td>0</td><td>1</td><td>5</td><td>4</td></tr>\n",
              "\t<tr><th scope=row>Ferrari Dino</th><td>19.7</td><td> 6</td><td>145.0</td><td>175</td><td>3.62</td><td>2.770</td><td>15.5</td><td>0</td><td>1</td><td>5</td><td>6</td></tr>\n",
              "\t<tr><th scope=row>Maserati Bora</th><td>15.0</td><td> 8</td><td>301.0</td><td>335</td><td>3.54</td><td>3.570</td><td>14.6</td><td>0</td><td>1</td><td>5</td><td>8</td></tr>\n",
              "\t<tr><th scope=row>Volvo 142E</th><td>21.4</td><td> 4</td><td>121.0</td><td>109</td><td>4.11</td><td>2.780</td><td>18.6</td><td>1</td><td>1</td><td>4</td><td>2</td></tr>\n",
              "\t<tr><th scope=row>33</th><td>99.0</td><td>10</td><td>200.0</td><td>999</td><td>9.00</td><td>9.000</td><td>99.0</td><td>1</td><td>1</td><td>9</td><td>9</td></tr>\n",
              "</tbody>\n",
              "</table>\n"
            ]
          },
          "metadata": {
            "tags": []
          }
        }
      ]
    },
    {
      "cell_type": "markdown",
      "metadata": {
        "id": "jJa3DuLoPdTc"
      },
      "source": [
        "## Factor\n",
        "\n",
        "Factors are the data objects which are used to categorize the data and store it as levels. They can store both strings and integers."
      ]
    },
    {
      "cell_type": "code",
      "metadata": {
        "colab": {
          "base_uri": "https://localhost:8080/",
          "height": 34
        },
        "id": "U_9L2zd2PIlV",
        "outputId": "6f084240-38f9-4697-9974-3bd058d7011c"
      },
      "source": [
        "design <- c('H', 'M', 'L', 'H', 'M', 'L')\n",
        "design"
      ],
      "execution_count": 165,
      "outputs": [
        {
          "output_type": "display_data",
          "data": {
            "text/plain": [
              "[1] \"H\" \"M\" \"L\" \"H\" \"M\" \"L\""
            ],
            "text/latex": "\\begin{enumerate*}\n\\item 'H'\n\\item 'M'\n\\item 'L'\n\\item 'H'\n\\item 'M'\n\\item 'L'\n\\end{enumerate*}\n",
            "text/markdown": "1. 'H'\n2. 'M'\n3. 'L'\n4. 'H'\n5. 'M'\n6. 'L'\n\n\n",
            "text/html": [
              "<style>\n",
              ".list-inline {list-style: none; margin:0; padding: 0}\n",
              ".list-inline>li {display: inline-block}\n",
              ".list-inline>li:not(:last-child)::after {content: \"\\00b7\"; padding: 0 .5ex}\n",
              "</style>\n",
              "<ol class=list-inline><li>'H'</li><li>'M'</li><li>'L'</li><li>'H'</li><li>'M'</li><li>'L'</li></ol>\n"
            ]
          },
          "metadata": {
            "tags": []
          }
        }
      ]
    },
    {
      "cell_type": "code",
      "metadata": {
        "colab": {
          "base_uri": "https://localhost:8080/",
          "height": 68
        },
        "id": "1ucxkt2MPmCf",
        "outputId": "35bce63e-7bb4-441b-c512-53320b2da692"
      },
      "source": [
        "design_factor <- factor(design)\n",
        "design_factor"
      ],
      "execution_count": 166,
      "outputs": [
        {
          "output_type": "display_data",
          "data": {
            "text/plain": [
              "[1] H M L H M L\n",
              "Levels: H L M"
            ],
            "text/latex": "\\begin{enumerate*}\n\\item H\n\\item M\n\\item L\n\\item H\n\\item M\n\\item L\n\\end{enumerate*}\n\n\\emph{Levels}: \\begin{enumerate*}\n\\item 'H'\n\\item 'L'\n\\item 'M'\n\\end{enumerate*}\n",
            "text/markdown": "1. H\n2. M\n3. L\n4. H\n5. M\n6. L\n\n\n\n**Levels**: 1. 'H'\n2. 'L'\n3. 'M'\n\n\n",
            "text/html": [
              "<style>\n",
              ".list-inline {list-style: none; margin:0; padding: 0}\n",
              ".list-inline>li {display: inline-block}\n",
              ".list-inline>li:not(:last-child)::after {content: \"\\00b7\"; padding: 0 .5ex}\n",
              "</style>\n",
              "<ol class=list-inline><li>H</li><li>M</li><li>L</li><li>H</li><li>M</li><li>L</li></ol>\n",
              "\n",
              "<details>\n",
              "\t<summary style=display:list-item;cursor:pointer>\n",
              "\t\t<strong>Levels</strong>:\n",
              "\t</summary>\n",
              "\t<style>\n",
              "\t.list-inline {list-style: none; margin:0; padding: 0}\n",
              "\t.list-inline>li {display: inline-block}\n",
              "\t.list-inline>li:not(:last-child)::after {content: \"\\00b7\"; padding: 0 .5ex}\n",
              "\t</style>\n",
              "\t<ol class=list-inline><li>'H'</li><li>'L'</li><li>'M'</li></ol>\n",
              "</details>"
            ]
          },
          "metadata": {
            "tags": []
          }
        }
      ]
    },
    {
      "cell_type": "code",
      "metadata": {
        "id": "ymG_HR56PpZM"
      },
      "source": [
        ""
      ],
      "execution_count": null,
      "outputs": []
    },
    {
      "cell_type": "markdown",
      "metadata": {
        "id": "oK6xuSkSQBWP"
      },
      "source": [
        "# Tidy data\n",
        "\n",
        "- Column call variable\n",
        "- Row call overvation"
      ]
    },
    {
      "cell_type": "code",
      "metadata": {
        "id": "ARmvbLsVRr4c"
      },
      "source": [
        "load(\"2-DataPrep.RData\") # Cases, pollution, Storms, Tb"
      ],
      "execution_count": 192,
      "outputs": []
    },
    {
      "cell_type": "code",
      "metadata": {
        "colab": {
          "base_uri": "https://localhost:8080/",
          "height": 141
        },
        "id": "fYQKTOsnSFj5",
        "outputId": "ee34fb8c-04e0-429e-bd98-c8569763ee57"
      },
      "source": [
        "cases"
      ],
      "execution_count": 193,
      "outputs": [
        {
          "output_type": "display_data",
          "data": {
            "text/plain": [
              "  country 2011  2012  2013 \n",
              "1 FR       7000  6900  7000\n",
              "2 DE       5800  6000  6200\n",
              "3 US      15000 14000 13000"
            ],
            "text/latex": "A data.frame: 3 × 4\n\\begin{tabular}{llll}\n country & 2011 & 2012 & 2013\\\\\n <chr> & <dbl> & <dbl> & <dbl>\\\\\n\\hline\n\t FR &  7000 &  6900 &  7000\\\\\n\t DE &  5800 &  6000 &  6200\\\\\n\t US & 15000 & 14000 & 13000\\\\\n\\end{tabular}\n",
            "text/markdown": "\nA data.frame: 3 × 4\n\n| country &lt;chr&gt; | 2011 &lt;dbl&gt; | 2012 &lt;dbl&gt; | 2013 &lt;dbl&gt; |\n|---|---|---|---|\n| FR |  7000 |  6900 |  7000 |\n| DE |  5800 |  6000 |  6200 |\n| US | 15000 | 14000 | 13000 |\n\n",
            "text/html": [
              "<table>\n",
              "<caption>A data.frame: 3 × 4</caption>\n",
              "<thead>\n",
              "\t<tr><th scope=col>country</th><th scope=col>2011</th><th scope=col>2012</th><th scope=col>2013</th></tr>\n",
              "\t<tr><th scope=col>&lt;chr&gt;</th><th scope=col>&lt;dbl&gt;</th><th scope=col>&lt;dbl&gt;</th><th scope=col>&lt;dbl&gt;</th></tr>\n",
              "</thead>\n",
              "<tbody>\n",
              "\t<tr><td>FR</td><td> 7000</td><td> 6900</td><td> 7000</td></tr>\n",
              "\t<tr><td>DE</td><td> 5800</td><td> 6000</td><td> 6200</td></tr>\n",
              "\t<tr><td>US</td><td>15000</td><td>14000</td><td>13000</td></tr>\n",
              "</tbody>\n",
              "</table>\n"
            ]
          },
          "metadata": {
            "tags": []
          }
        }
      ]
    },
    {
      "cell_type": "markdown",
      "metadata": {
        "id": "UUFZyEqQSUXa"
      },
      "source": [
        "## Data Preparation Tasks\n",
        "\n",
        "- Reshaping table: gather, spread\n",
        "- Reshaping column: unite, separate\n",
        "- Subsetting rows: filter, distinct, sample_n, top_n • Subsetting columns: select\n",
        "- Summarise data: summarise\n",
        "- Group data: group_by\n",
        "- Make new variables: mutate\n",
        "- Integration: left_join, union, bind_cols"
      ]
    },
    {
      "cell_type": "markdown",
      "metadata": {
        "id": "8HJGdi90TpVq"
      },
      "source": [
        "### Reshaping table"
      ]
    },
    {
      "cell_type": "code",
      "metadata": {
        "colab": {
          "base_uri": "https://localhost:8080/",
          "height": 267
        },
        "id": "b5QXI3o4SJM7",
        "outputId": "fa7ea483-4dc6-4596-c308-0731ed2f1b97"
      },
      "source": [
        "gather(cases, \"year\", \"n\", 2:4)"
      ],
      "execution_count": 194,
      "outputs": [
        {
          "output_type": "display_data",
          "data": {
            "text/plain": [
              "  country year n    \n",
              "1 FR      2011  7000\n",
              "2 DE      2011  5800\n",
              "3 US      2011 15000\n",
              "4 FR      2012  6900\n",
              "5 DE      2012  6000\n",
              "6 US      2012 14000\n",
              "7 FR      2013  7000\n",
              "8 DE      2013  6200\n",
              "9 US      2013 13000"
            ],
            "text/latex": "A data.frame: 9 × 3\n\\begin{tabular}{lll}\n country & year & n\\\\\n <chr> & <chr> & <dbl>\\\\\n\\hline\n\t FR & 2011 &  7000\\\\\n\t DE & 2011 &  5800\\\\\n\t US & 2011 & 15000\\\\\n\t FR & 2012 &  6900\\\\\n\t DE & 2012 &  6000\\\\\n\t US & 2012 & 14000\\\\\n\t FR & 2013 &  7000\\\\\n\t DE & 2013 &  6200\\\\\n\t US & 2013 & 13000\\\\\n\\end{tabular}\n",
            "text/markdown": "\nA data.frame: 9 × 3\n\n| country &lt;chr&gt; | year &lt;chr&gt; | n &lt;dbl&gt; |\n|---|---|---|\n| FR | 2011 |  7000 |\n| DE | 2011 |  5800 |\n| US | 2011 | 15000 |\n| FR | 2012 |  6900 |\n| DE | 2012 |  6000 |\n| US | 2012 | 14000 |\n| FR | 2013 |  7000 |\n| DE | 2013 |  6200 |\n| US | 2013 | 13000 |\n\n",
            "text/html": [
              "<table>\n",
              "<caption>A data.frame: 9 × 3</caption>\n",
              "<thead>\n",
              "\t<tr><th scope=col>country</th><th scope=col>year</th><th scope=col>n</th></tr>\n",
              "\t<tr><th scope=col>&lt;chr&gt;</th><th scope=col>&lt;chr&gt;</th><th scope=col>&lt;dbl&gt;</th></tr>\n",
              "</thead>\n",
              "<tbody>\n",
              "\t<tr><td>FR</td><td>2011</td><td> 7000</td></tr>\n",
              "\t<tr><td>DE</td><td>2011</td><td> 5800</td></tr>\n",
              "\t<tr><td>US</td><td>2011</td><td>15000</td></tr>\n",
              "\t<tr><td>FR</td><td>2012</td><td> 6900</td></tr>\n",
              "\t<tr><td>DE</td><td>2012</td><td> 6000</td></tr>\n",
              "\t<tr><td>US</td><td>2012</td><td>14000</td></tr>\n",
              "\t<tr><td>FR</td><td>2013</td><td> 7000</td></tr>\n",
              "\t<tr><td>DE</td><td>2013</td><td> 6200</td></tr>\n",
              "\t<tr><td>US</td><td>2013</td><td>13000</td></tr>\n",
              "</tbody>\n",
              "</table>\n"
            ]
          },
          "metadata": {
            "tags": []
          }
        }
      ]
    },
    {
      "cell_type": "code",
      "metadata": {
        "colab": {
          "base_uri": "https://localhost:8080/",
          "height": 267
        },
        "id": "or96wtp-TEak",
        "outputId": "5776c5dc-d9c4-4fbd-b621-a4757545d8fb"
      },
      "source": [
        "pivot_longer(cases, 2:4, names_to='Year', values_to = 'n')"
      ],
      "execution_count": 195,
      "outputs": [
        {
          "output_type": "display_data",
          "data": {
            "text/plain": [
              "  country Year n    \n",
              "1 FR      2011  7000\n",
              "2 FR      2012  6900\n",
              "3 FR      2013  7000\n",
              "4 DE      2011  5800\n",
              "5 DE      2012  6000\n",
              "6 DE      2013  6200\n",
              "7 US      2011 15000\n",
              "8 US      2012 14000\n",
              "9 US      2013 13000"
            ],
            "text/latex": "A tibble: 9 × 3\n\\begin{tabular}{lll}\n country & Year & n\\\\\n <chr> & <chr> & <dbl>\\\\\n\\hline\n\t FR & 2011 &  7000\\\\\n\t FR & 2012 &  6900\\\\\n\t FR & 2013 &  7000\\\\\n\t DE & 2011 &  5800\\\\\n\t DE & 2012 &  6000\\\\\n\t DE & 2013 &  6200\\\\\n\t US & 2011 & 15000\\\\\n\t US & 2012 & 14000\\\\\n\t US & 2013 & 13000\\\\\n\\end{tabular}\n",
            "text/markdown": "\nA tibble: 9 × 3\n\n| country &lt;chr&gt; | Year &lt;chr&gt; | n &lt;dbl&gt; |\n|---|---|---|\n| FR | 2011 |  7000 |\n| FR | 2012 |  6900 |\n| FR | 2013 |  7000 |\n| DE | 2011 |  5800 |\n| DE | 2012 |  6000 |\n| DE | 2013 |  6200 |\n| US | 2011 | 15000 |\n| US | 2012 | 14000 |\n| US | 2013 | 13000 |\n\n",
            "text/html": [
              "<table>\n",
              "<caption>A tibble: 9 × 3</caption>\n",
              "<thead>\n",
              "\t<tr><th scope=col>country</th><th scope=col>Year</th><th scope=col>n</th></tr>\n",
              "\t<tr><th scope=col>&lt;chr&gt;</th><th scope=col>&lt;chr&gt;</th><th scope=col>&lt;dbl&gt;</th></tr>\n",
              "</thead>\n",
              "<tbody>\n",
              "\t<tr><td>FR</td><td>2011</td><td> 7000</td></tr>\n",
              "\t<tr><td>FR</td><td>2012</td><td> 6900</td></tr>\n",
              "\t<tr><td>FR</td><td>2013</td><td> 7000</td></tr>\n",
              "\t<tr><td>DE</td><td>2011</td><td> 5800</td></tr>\n",
              "\t<tr><td>DE</td><td>2012</td><td> 6000</td></tr>\n",
              "\t<tr><td>DE</td><td>2013</td><td> 6200</td></tr>\n",
              "\t<tr><td>US</td><td>2011</td><td>15000</td></tr>\n",
              "\t<tr><td>US</td><td>2012</td><td>14000</td></tr>\n",
              "\t<tr><td>US</td><td>2013</td><td>13000</td></tr>\n",
              "</tbody>\n",
              "</table>\n"
            ]
          },
          "metadata": {
            "tags": []
          }
        }
      ]
    },
    {
      "cell_type": "code",
      "metadata": {
        "colab": {
          "base_uri": "https://localhost:8080/",
          "height": 204
        },
        "id": "L8m4NynjTgqS",
        "outputId": "f1f87e09-33fc-456d-e2de-9d9fb18b7ae0"
      },
      "source": [
        "pollution"
      ],
      "execution_count": 196,
      "outputs": [
        {
          "output_type": "display_data",
          "data": {
            "text/plain": [
              "  city     size  amount\n",
              "1 New York large  23   \n",
              "2 New York small  14   \n",
              "3 London   large  22   \n",
              "4 London   small  16   \n",
              "5 Beijing  large 121   \n",
              "6 Beijing  small  56   "
            ],
            "text/latex": "A data.frame: 6 × 3\n\\begin{tabular}{lll}\n city & size & amount\\\\\n <chr> & <chr> & <dbl>\\\\\n\\hline\n\t New York & large &  23\\\\\n\t New York & small &  14\\\\\n\t London   & large &  22\\\\\n\t London   & small &  16\\\\\n\t Beijing  & large & 121\\\\\n\t Beijing  & small &  56\\\\\n\\end{tabular}\n",
            "text/markdown": "\nA data.frame: 6 × 3\n\n| city &lt;chr&gt; | size &lt;chr&gt; | amount &lt;dbl&gt; |\n|---|---|---|\n| New York | large |  23 |\n| New York | small |  14 |\n| London   | large |  22 |\n| London   | small |  16 |\n| Beijing  | large | 121 |\n| Beijing  | small |  56 |\n\n",
            "text/html": [
              "<table>\n",
              "<caption>A data.frame: 6 × 3</caption>\n",
              "<thead>\n",
              "\t<tr><th scope=col>city</th><th scope=col>size</th><th scope=col>amount</th></tr>\n",
              "\t<tr><th scope=col>&lt;chr&gt;</th><th scope=col>&lt;chr&gt;</th><th scope=col>&lt;dbl&gt;</th></tr>\n",
              "</thead>\n",
              "<tbody>\n",
              "\t<tr><td>New York</td><td>large</td><td> 23</td></tr>\n",
              "\t<tr><td>New York</td><td>small</td><td> 14</td></tr>\n",
              "\t<tr><td>London  </td><td>large</td><td> 22</td></tr>\n",
              "\t<tr><td>London  </td><td>small</td><td> 16</td></tr>\n",
              "\t<tr><td>Beijing </td><td>large</td><td>121</td></tr>\n",
              "\t<tr><td>Beijing </td><td>small</td><td> 56</td></tr>\n",
              "</tbody>\n",
              "</table>\n"
            ]
          },
          "metadata": {
            "tags": []
          }
        }
      ]
    },
    {
      "cell_type": "code",
      "metadata": {
        "colab": {
          "base_uri": "https://localhost:8080/",
          "height": 141
        },
        "id": "phsJT_BjTwCy",
        "outputId": "77134e01-8f34-4d86-957e-6bd36ffbe746"
      },
      "source": [
        "spread(pollution, size, amount)"
      ],
      "execution_count": 197,
      "outputs": [
        {
          "output_type": "display_data",
          "data": {
            "text/plain": [
              "  city     large small\n",
              "1 Beijing  121   56   \n",
              "2 London    22   16   \n",
              "3 New York  23   14   "
            ],
            "text/latex": "A data.frame: 3 × 3\n\\begin{tabular}{lll}\n city & large & small\\\\\n <chr> & <dbl> & <dbl>\\\\\n\\hline\n\t Beijing  & 121 & 56\\\\\n\t London   &  22 & 16\\\\\n\t New York &  23 & 14\\\\\n\\end{tabular}\n",
            "text/markdown": "\nA data.frame: 3 × 3\n\n| city &lt;chr&gt; | large &lt;dbl&gt; | small &lt;dbl&gt; |\n|---|---|---|\n| Beijing  | 121 | 56 |\n| London   |  22 | 16 |\n| New York |  23 | 14 |\n\n",
            "text/html": [
              "<table>\n",
              "<caption>A data.frame: 3 × 3</caption>\n",
              "<thead>\n",
              "\t<tr><th scope=col>city</th><th scope=col>large</th><th scope=col>small</th></tr>\n",
              "\t<tr><th scope=col>&lt;chr&gt;</th><th scope=col>&lt;dbl&gt;</th><th scope=col>&lt;dbl&gt;</th></tr>\n",
              "</thead>\n",
              "<tbody>\n",
              "\t<tr><td>Beijing </td><td>121</td><td>56</td></tr>\n",
              "\t<tr><td>London  </td><td> 22</td><td>16</td></tr>\n",
              "\t<tr><td>New York</td><td> 23</td><td>14</td></tr>\n",
              "</tbody>\n",
              "</table>\n"
            ]
          },
          "metadata": {
            "tags": []
          }
        }
      ]
    },
    {
      "cell_type": "code",
      "metadata": {
        "colab": {
          "base_uri": "https://localhost:8080/",
          "height": 141
        },
        "id": "L9UFM61_T8uP",
        "outputId": "984827d3-5fd5-4fce-8f15-1609a9c3b95c"
      },
      "source": [
        "pivot_wider(pollution, names_from = size, values_from = amount)"
      ],
      "execution_count": 216,
      "outputs": [
        {
          "output_type": "display_data",
          "data": {
            "text/plain": [
              "  city     large small\n",
              "1 New York  23   14   \n",
              "2 London    22   16   \n",
              "3 Beijing  121   56   "
            ],
            "text/latex": "A tibble: 3 × 3\n\\begin{tabular}{lll}\n city & large & small\\\\\n <chr> & <dbl> & <dbl>\\\\\n\\hline\n\t New York &  23 & 14\\\\\n\t London   &  22 & 16\\\\\n\t Beijing  & 121 & 56\\\\\n\\end{tabular}\n",
            "text/markdown": "\nA tibble: 3 × 3\n\n| city &lt;chr&gt; | large &lt;dbl&gt; | small &lt;dbl&gt; |\n|---|---|---|\n| New York |  23 | 14 |\n| London   |  22 | 16 |\n| Beijing  | 121 | 56 |\n\n",
            "text/html": [
              "<table>\n",
              "<caption>A tibble: 3 × 3</caption>\n",
              "<thead>\n",
              "\t<tr><th scope=col>city</th><th scope=col>large</th><th scope=col>small</th></tr>\n",
              "\t<tr><th scope=col>&lt;chr&gt;</th><th scope=col>&lt;dbl&gt;</th><th scope=col>&lt;dbl&gt;</th></tr>\n",
              "</thead>\n",
              "<tbody>\n",
              "\t<tr><td>New York</td><td> 23</td><td>14</td></tr>\n",
              "\t<tr><td>London  </td><td> 22</td><td>16</td></tr>\n",
              "\t<tr><td>Beijing </td><td>121</td><td>56</td></tr>\n",
              "</tbody>\n",
              "</table>\n"
            ]
          },
          "metadata": {
            "tags": []
          }
        }
      ]
    },
    {
      "cell_type": "markdown",
      "metadata": {
        "id": "UhwjTHZAU6cr"
      },
      "source": [
        "### Reshaping columnns"
      ]
    },
    {
      "cell_type": "code",
      "metadata": {
        "colab": {
          "base_uri": "https://localhost:8080/",
          "height": 204
        },
        "id": "iMUxW6aocw4u",
        "outputId": "407dc923-accc-45e8-e0e8-1979bb529c0f"
      },
      "source": [
        "storms2"
      ],
      "execution_count": 220,
      "outputs": [
        {
          "output_type": "display_data",
          "data": {
            "text/plain": [
              "  storm   wind pressure year month date\n",
              "1 Alberto 110  1007     2000 08    03  \n",
              "2 Alex     45  1009     1998 07    27  \n",
              "3 Allison  65  1005     1995 06    03  \n",
              "4 Ana      40  1013     1997 06    30  \n",
              "5 Arlene   50  1010     1999 06    11  \n",
              "6 Arthur   45  1010     1996 06    17  "
            ],
            "text/latex": "A tibble: 6 × 6\n\\begin{tabular}{llllll}\n storm & wind & pressure & year & month & date\\\\\n <chr> & <int> & <int> & <chr> & <chr> & <chr>\\\\\n\\hline\n\t Alberto & 110 & 1007 & 2000 & 08 & 03\\\\\n\t Alex    &  45 & 1009 & 1998 & 07 & 27\\\\\n\t Allison &  65 & 1005 & 1995 & 06 & 03\\\\\n\t Ana     &  40 & 1013 & 1997 & 06 & 30\\\\\n\t Arlene  &  50 & 1010 & 1999 & 06 & 11\\\\\n\t Arthur  &  45 & 1010 & 1996 & 06 & 17\\\\\n\\end{tabular}\n",
            "text/markdown": "\nA tibble: 6 × 6\n\n| storm &lt;chr&gt; | wind &lt;int&gt; | pressure &lt;int&gt; | year &lt;chr&gt; | month &lt;chr&gt; | date &lt;chr&gt; |\n|---|---|---|---|---|---|\n| Alberto | 110 | 1007 | 2000 | 08 | 03 |\n| Alex    |  45 | 1009 | 1998 | 07 | 27 |\n| Allison |  65 | 1005 | 1995 | 06 | 03 |\n| Ana     |  40 | 1013 | 1997 | 06 | 30 |\n| Arlene  |  50 | 1010 | 1999 | 06 | 11 |\n| Arthur  |  45 | 1010 | 1996 | 06 | 17 |\n\n",
            "text/html": [
              "<table>\n",
              "<caption>A tibble: 6 × 6</caption>\n",
              "<thead>\n",
              "\t<tr><th scope=col>storm</th><th scope=col>wind</th><th scope=col>pressure</th><th scope=col>year</th><th scope=col>month</th><th scope=col>date</th></tr>\n",
              "\t<tr><th scope=col>&lt;chr&gt;</th><th scope=col>&lt;int&gt;</th><th scope=col>&lt;int&gt;</th><th scope=col>&lt;chr&gt;</th><th scope=col>&lt;chr&gt;</th><th scope=col>&lt;chr&gt;</th></tr>\n",
              "</thead>\n",
              "<tbody>\n",
              "\t<tr><td>Alberto</td><td>110</td><td>1007</td><td>2000</td><td>08</td><td>03</td></tr>\n",
              "\t<tr><td>Alex   </td><td> 45</td><td>1009</td><td>1998</td><td>07</td><td>27</td></tr>\n",
              "\t<tr><td>Allison</td><td> 65</td><td>1005</td><td>1995</td><td>06</td><td>03</td></tr>\n",
              "\t<tr><td>Ana    </td><td> 40</td><td>1013</td><td>1997</td><td>06</td><td>30</td></tr>\n",
              "\t<tr><td>Arlene </td><td> 50</td><td>1010</td><td>1999</td><td>06</td><td>11</td></tr>\n",
              "\t<tr><td>Arthur </td><td> 45</td><td>1010</td><td>1996</td><td>06</td><td>17</td></tr>\n",
              "</tbody>\n",
              "</table>\n"
            ]
          },
          "metadata": {
            "tags": []
          }
        }
      ]
    },
    {
      "cell_type": "code",
      "metadata": {
        "colab": {
          "base_uri": "https://localhost:8080/",
          "height": 204
        },
        "id": "-lyR3y8Iclpp",
        "outputId": "866bf12b-d7c4-48ba-dcd8-36d0c056fafb"
      },
      "source": [
        "storms2 <- separate(storms, date, c(\"year\",\"month\",\"date\"), sep = \"-\")\n",
        "storms2"
      ],
      "execution_count": 217,
      "outputs": [
        {
          "output_type": "display_data",
          "data": {
            "text/plain": [
              "  storm   wind pressure year month date\n",
              "1 Alberto 110  1007     2000 08    03  \n",
              "2 Alex     45  1009     1998 07    27  \n",
              "3 Allison  65  1005     1995 06    03  \n",
              "4 Ana      40  1013     1997 06    30  \n",
              "5 Arlene   50  1010     1999 06    11  \n",
              "6 Arthur   45  1010     1996 06    17  "
            ],
            "text/latex": "A tibble: 6 × 6\n\\begin{tabular}{llllll}\n storm & wind & pressure & year & month & date\\\\\n <chr> & <int> & <int> & <chr> & <chr> & <chr>\\\\\n\\hline\n\t Alberto & 110 & 1007 & 2000 & 08 & 03\\\\\n\t Alex    &  45 & 1009 & 1998 & 07 & 27\\\\\n\t Allison &  65 & 1005 & 1995 & 06 & 03\\\\\n\t Ana     &  40 & 1013 & 1997 & 06 & 30\\\\\n\t Arlene  &  50 & 1010 & 1999 & 06 & 11\\\\\n\t Arthur  &  45 & 1010 & 1996 & 06 & 17\\\\\n\\end{tabular}\n",
            "text/markdown": "\nA tibble: 6 × 6\n\n| storm &lt;chr&gt; | wind &lt;int&gt; | pressure &lt;int&gt; | year &lt;chr&gt; | month &lt;chr&gt; | date &lt;chr&gt; |\n|---|---|---|---|---|---|\n| Alberto | 110 | 1007 | 2000 | 08 | 03 |\n| Alex    |  45 | 1009 | 1998 | 07 | 27 |\n| Allison |  65 | 1005 | 1995 | 06 | 03 |\n| Ana     |  40 | 1013 | 1997 | 06 | 30 |\n| Arlene  |  50 | 1010 | 1999 | 06 | 11 |\n| Arthur  |  45 | 1010 | 1996 | 06 | 17 |\n\n",
            "text/html": [
              "<table>\n",
              "<caption>A tibble: 6 × 6</caption>\n",
              "<thead>\n",
              "\t<tr><th scope=col>storm</th><th scope=col>wind</th><th scope=col>pressure</th><th scope=col>year</th><th scope=col>month</th><th scope=col>date</th></tr>\n",
              "\t<tr><th scope=col>&lt;chr&gt;</th><th scope=col>&lt;int&gt;</th><th scope=col>&lt;int&gt;</th><th scope=col>&lt;chr&gt;</th><th scope=col>&lt;chr&gt;</th><th scope=col>&lt;chr&gt;</th></tr>\n",
              "</thead>\n",
              "<tbody>\n",
              "\t<tr><td>Alberto</td><td>110</td><td>1007</td><td>2000</td><td>08</td><td>03</td></tr>\n",
              "\t<tr><td>Alex   </td><td> 45</td><td>1009</td><td>1998</td><td>07</td><td>27</td></tr>\n",
              "\t<tr><td>Allison</td><td> 65</td><td>1005</td><td>1995</td><td>06</td><td>03</td></tr>\n",
              "\t<tr><td>Ana    </td><td> 40</td><td>1013</td><td>1997</td><td>06</td><td>30</td></tr>\n",
              "\t<tr><td>Arlene </td><td> 50</td><td>1010</td><td>1999</td><td>06</td><td>11</td></tr>\n",
              "\t<tr><td>Arthur </td><td> 45</td><td>1010</td><td>1996</td><td>06</td><td>17</td></tr>\n",
              "</tbody>\n",
              "</table>\n"
            ]
          },
          "metadata": {
            "tags": []
          }
        }
      ]
    },
    {
      "cell_type": "code",
      "metadata": {
        "colab": {
          "base_uri": "https://localhost:8080/",
          "height": 204
        },
        "id": "JwHHRPtCcpvd",
        "outputId": "876026f1-98bf-4e9c-a902-ce6f6d3be8b6"
      },
      "source": [
        "unite(storms2, \"date\", year, month, date, sep = \"/\")"
      ],
      "execution_count": 219,
      "outputs": [
        {
          "output_type": "display_data",
          "data": {
            "text/plain": [
              "  storm   wind pressure date      \n",
              "1 Alberto 110  1007     2000/08/03\n",
              "2 Alex     45  1009     1998/07/27\n",
              "3 Allison  65  1005     1995/06/03\n",
              "4 Ana      40  1013     1997/06/30\n",
              "5 Arlene   50  1010     1999/06/11\n",
              "6 Arthur   45  1010     1996/06/17"
            ],
            "text/latex": "A tibble: 6 × 4\n\\begin{tabular}{llll}\n storm & wind & pressure & date\\\\\n <chr> & <int> & <int> & <chr>\\\\\n\\hline\n\t Alberto & 110 & 1007 & 2000/08/03\\\\\n\t Alex    &  45 & 1009 & 1998/07/27\\\\\n\t Allison &  65 & 1005 & 1995/06/03\\\\\n\t Ana     &  40 & 1013 & 1997/06/30\\\\\n\t Arlene  &  50 & 1010 & 1999/06/11\\\\\n\t Arthur  &  45 & 1010 & 1996/06/17\\\\\n\\end{tabular}\n",
            "text/markdown": "\nA tibble: 6 × 4\n\n| storm &lt;chr&gt; | wind &lt;int&gt; | pressure &lt;int&gt; | date &lt;chr&gt; |\n|---|---|---|---|\n| Alberto | 110 | 1007 | 2000/08/03 |\n| Alex    |  45 | 1009 | 1998/07/27 |\n| Allison |  65 | 1005 | 1995/06/03 |\n| Ana     |  40 | 1013 | 1997/06/30 |\n| Arlene  |  50 | 1010 | 1999/06/11 |\n| Arthur  |  45 | 1010 | 1996/06/17 |\n\n",
            "text/html": [
              "<table>\n",
              "<caption>A tibble: 6 × 4</caption>\n",
              "<thead>\n",
              "\t<tr><th scope=col>storm</th><th scope=col>wind</th><th scope=col>pressure</th><th scope=col>date</th></tr>\n",
              "\t<tr><th scope=col>&lt;chr&gt;</th><th scope=col>&lt;int&gt;</th><th scope=col>&lt;int&gt;</th><th scope=col>&lt;chr&gt;</th></tr>\n",
              "</thead>\n",
              "<tbody>\n",
              "\t<tr><td>Alberto</td><td>110</td><td>1007</td><td>2000/08/03</td></tr>\n",
              "\t<tr><td>Alex   </td><td> 45</td><td>1009</td><td>1998/07/27</td></tr>\n",
              "\t<tr><td>Allison</td><td> 65</td><td>1005</td><td>1995/06/03</td></tr>\n",
              "\t<tr><td>Ana    </td><td> 40</td><td>1013</td><td>1997/06/30</td></tr>\n",
              "\t<tr><td>Arlene </td><td> 50</td><td>1010</td><td>1999/06/11</td></tr>\n",
              "\t<tr><td>Arthur </td><td> 45</td><td>1010</td><td>1996/06/17</td></tr>\n",
              "</tbody>\n",
              "</table>\n"
            ]
          },
          "metadata": {
            "tags": []
          }
        }
      ]
    },
    {
      "cell_type": "markdown",
      "metadata": {
        "id": "q5y-z6pfVAGL"
      },
      "source": [
        "### Subsetting row"
      ]
    },
    {
      "cell_type": "code",
      "metadata": {
        "colab": {
          "base_uri": "https://localhost:8080/",
          "height": 204
        },
        "id": "QTsWBC-oVJNS",
        "outputId": "ea4f28d1-06ee-4778-f72a-561672fc9e68"
      },
      "source": [
        "storms"
      ],
      "execution_count": 199,
      "outputs": [
        {
          "output_type": "display_data",
          "data": {
            "text/plain": [
              "  storm   wind pressure date      \n",
              "1 Alberto 110  1007     2000-08-03\n",
              "2 Alex     45  1009     1998-07-27\n",
              "3 Allison  65  1005     1995-06-03\n",
              "4 Ana      40  1013     1997-06-30\n",
              "5 Arlene   50  1010     1999-06-11\n",
              "6 Arthur   45  1010     1996-06-17"
            ],
            "text/latex": "A tibble: 6 × 4\n\\begin{tabular}{llll}\n storm & wind & pressure & date\\\\\n <chr> & <int> & <int> & <date>\\\\\n\\hline\n\t Alberto & 110 & 1007 & 2000-08-03\\\\\n\t Alex    &  45 & 1009 & 1998-07-27\\\\\n\t Allison &  65 & 1005 & 1995-06-03\\\\\n\t Ana     &  40 & 1013 & 1997-06-30\\\\\n\t Arlene  &  50 & 1010 & 1999-06-11\\\\\n\t Arthur  &  45 & 1010 & 1996-06-17\\\\\n\\end{tabular}\n",
            "text/markdown": "\nA tibble: 6 × 4\n\n| storm &lt;chr&gt; | wind &lt;int&gt; | pressure &lt;int&gt; | date &lt;date&gt; |\n|---|---|---|---|\n| Alberto | 110 | 1007 | 2000-08-03 |\n| Alex    |  45 | 1009 | 1998-07-27 |\n| Allison |  65 | 1005 | 1995-06-03 |\n| Ana     |  40 | 1013 | 1997-06-30 |\n| Arlene  |  50 | 1010 | 1999-06-11 |\n| Arthur  |  45 | 1010 | 1996-06-17 |\n\n",
            "text/html": [
              "<table>\n",
              "<caption>A tibble: 6 × 4</caption>\n",
              "<thead>\n",
              "\t<tr><th scope=col>storm</th><th scope=col>wind</th><th scope=col>pressure</th><th scope=col>date</th></tr>\n",
              "\t<tr><th scope=col>&lt;chr&gt;</th><th scope=col>&lt;int&gt;</th><th scope=col>&lt;int&gt;</th><th scope=col>&lt;date&gt;</th></tr>\n",
              "</thead>\n",
              "<tbody>\n",
              "\t<tr><td>Alberto</td><td>110</td><td>1007</td><td>2000-08-03</td></tr>\n",
              "\t<tr><td>Alex   </td><td> 45</td><td>1009</td><td>1998-07-27</td></tr>\n",
              "\t<tr><td>Allison</td><td> 65</td><td>1005</td><td>1995-06-03</td></tr>\n",
              "\t<tr><td>Ana    </td><td> 40</td><td>1013</td><td>1997-06-30</td></tr>\n",
              "\t<tr><td>Arlene </td><td> 50</td><td>1010</td><td>1999-06-11</td></tr>\n",
              "\t<tr><td>Arthur </td><td> 45</td><td>1010</td><td>1996-06-17</td></tr>\n",
              "</tbody>\n",
              "</table>\n"
            ]
          },
          "metadata": {
            "tags": []
          }
        }
      ]
    },
    {
      "cell_type": "markdown",
      "metadata": {
        "id": "MYKcgweHVa5D"
      },
      "source": [
        "#### select()"
      ]
    },
    {
      "cell_type": "code",
      "metadata": {
        "colab": {
          "base_uri": "https://localhost:8080/",
          "height": 204
        },
        "id": "mxeBJ9xFUtDn",
        "outputId": "f286e6fc-9229-47ee-8e3e-8d944b7cfac1"
      },
      "source": [
        "select(storms, storm\t, pressure)"
      ],
      "execution_count": 200,
      "outputs": [
        {
          "output_type": "display_data",
          "data": {
            "text/plain": [
              "  storm   pressure\n",
              "1 Alberto 1007    \n",
              "2 Alex    1009    \n",
              "3 Allison 1005    \n",
              "4 Ana     1013    \n",
              "5 Arlene  1010    \n",
              "6 Arthur  1010    "
            ],
            "text/latex": "A tibble: 6 × 2\n\\begin{tabular}{ll}\n storm & pressure\\\\\n <chr> & <int>\\\\\n\\hline\n\t Alberto & 1007\\\\\n\t Alex    & 1009\\\\\n\t Allison & 1005\\\\\n\t Ana     & 1013\\\\\n\t Arlene  & 1010\\\\\n\t Arthur  & 1010\\\\\n\\end{tabular}\n",
            "text/markdown": "\nA tibble: 6 × 2\n\n| storm &lt;chr&gt; | pressure &lt;int&gt; |\n|---|---|\n| Alberto | 1007 |\n| Alex    | 1009 |\n| Allison | 1005 |\n| Ana     | 1013 |\n| Arlene  | 1010 |\n| Arthur  | 1010 |\n\n",
            "text/html": [
              "<table>\n",
              "<caption>A tibble: 6 × 2</caption>\n",
              "<thead>\n",
              "\t<tr><th scope=col>storm</th><th scope=col>pressure</th></tr>\n",
              "\t<tr><th scope=col>&lt;chr&gt;</th><th scope=col>&lt;int&gt;</th></tr>\n",
              "</thead>\n",
              "<tbody>\n",
              "\t<tr><td>Alberto</td><td>1007</td></tr>\n",
              "\t<tr><td>Alex   </td><td>1009</td></tr>\n",
              "\t<tr><td>Allison</td><td>1005</td></tr>\n",
              "\t<tr><td>Ana    </td><td>1013</td></tr>\n",
              "\t<tr><td>Arlene </td><td>1010</td></tr>\n",
              "\t<tr><td>Arthur </td><td>1010</td></tr>\n",
              "</tbody>\n",
              "</table>\n"
            ]
          },
          "metadata": {
            "tags": []
          }
        }
      ]
    },
    {
      "cell_type": "code",
      "metadata": {
        "colab": {
          "base_uri": "https://localhost:8080/",
          "height": 204
        },
        "id": "XupQXMRkVHHB",
        "outputId": "838f949d-46ef-4c8c-dc73-a224440028a6"
      },
      "source": [
        "select(storms, storm:date)"
      ],
      "execution_count": 201,
      "outputs": [
        {
          "output_type": "display_data",
          "data": {
            "text/plain": [
              "  storm   wind pressure date      \n",
              "1 Alberto 110  1007     2000-08-03\n",
              "2 Alex     45  1009     1998-07-27\n",
              "3 Allison  65  1005     1995-06-03\n",
              "4 Ana      40  1013     1997-06-30\n",
              "5 Arlene   50  1010     1999-06-11\n",
              "6 Arthur   45  1010     1996-06-17"
            ],
            "text/latex": "A tibble: 6 × 4\n\\begin{tabular}{llll}\n storm & wind & pressure & date\\\\\n <chr> & <int> & <int> & <date>\\\\\n\\hline\n\t Alberto & 110 & 1007 & 2000-08-03\\\\\n\t Alex    &  45 & 1009 & 1998-07-27\\\\\n\t Allison &  65 & 1005 & 1995-06-03\\\\\n\t Ana     &  40 & 1013 & 1997-06-30\\\\\n\t Arlene  &  50 & 1010 & 1999-06-11\\\\\n\t Arthur  &  45 & 1010 & 1996-06-17\\\\\n\\end{tabular}\n",
            "text/markdown": "\nA tibble: 6 × 4\n\n| storm &lt;chr&gt; | wind &lt;int&gt; | pressure &lt;int&gt; | date &lt;date&gt; |\n|---|---|---|---|\n| Alberto | 110 | 1007 | 2000-08-03 |\n| Alex    |  45 | 1009 | 1998-07-27 |\n| Allison |  65 | 1005 | 1995-06-03 |\n| Ana     |  40 | 1013 | 1997-06-30 |\n| Arlene  |  50 | 1010 | 1999-06-11 |\n| Arthur  |  45 | 1010 | 1996-06-17 |\n\n",
            "text/html": [
              "<table>\n",
              "<caption>A tibble: 6 × 4</caption>\n",
              "<thead>\n",
              "\t<tr><th scope=col>storm</th><th scope=col>wind</th><th scope=col>pressure</th><th scope=col>date</th></tr>\n",
              "\t<tr><th scope=col>&lt;chr&gt;</th><th scope=col>&lt;int&gt;</th><th scope=col>&lt;int&gt;</th><th scope=col>&lt;date&gt;</th></tr>\n",
              "</thead>\n",
              "<tbody>\n",
              "\t<tr><td>Alberto</td><td>110</td><td>1007</td><td>2000-08-03</td></tr>\n",
              "\t<tr><td>Alex   </td><td> 45</td><td>1009</td><td>1998-07-27</td></tr>\n",
              "\t<tr><td>Allison</td><td> 65</td><td>1005</td><td>1995-06-03</td></tr>\n",
              "\t<tr><td>Ana    </td><td> 40</td><td>1013</td><td>1997-06-30</td></tr>\n",
              "\t<tr><td>Arlene </td><td> 50</td><td>1010</td><td>1999-06-11</td></tr>\n",
              "\t<tr><td>Arthur </td><td> 45</td><td>1010</td><td>1996-06-17</td></tr>\n",
              "</tbody>\n",
              "</table>\n"
            ]
          },
          "metadata": {
            "tags": []
          }
        }
      ]
    },
    {
      "cell_type": "markdown",
      "metadata": {
        "id": "6y_RjQ6bVcQZ"
      },
      "source": [
        "#### filter()"
      ]
    },
    {
      "cell_type": "code",
      "metadata": {
        "colab": {
          "base_uri": "https://localhost:8080/",
          "height": 120
        },
        "id": "Ii5pS3LIVVTI",
        "outputId": "cf02b05a-bd24-4a54-ea04-d0e1eed6e2bd"
      },
      "source": [
        "filter(storms, wind>=50, storm %in% c(\"Alberto\", \"Alex\", \"Allison\"))"
      ],
      "execution_count": 204,
      "outputs": [
        {
          "output_type": "display_data",
          "data": {
            "text/plain": [
              "  storm   wind pressure date      \n",
              "1 Alberto 110  1007     2000-08-03\n",
              "2 Allison  65  1005     1995-06-03"
            ],
            "text/latex": "A tibble: 2 × 4\n\\begin{tabular}{llll}\n storm & wind & pressure & date\\\\\n <chr> & <int> & <int> & <date>\\\\\n\\hline\n\t Alberto & 110 & 1007 & 2000-08-03\\\\\n\t Allison &  65 & 1005 & 1995-06-03\\\\\n\\end{tabular}\n",
            "text/markdown": "\nA tibble: 2 × 4\n\n| storm &lt;chr&gt; | wind &lt;int&gt; | pressure &lt;int&gt; | date &lt;date&gt; |\n|---|---|---|---|\n| Alberto | 110 | 1007 | 2000-08-03 |\n| Allison |  65 | 1005 | 1995-06-03 |\n\n",
            "text/html": [
              "<table>\n",
              "<caption>A tibble: 2 × 4</caption>\n",
              "<thead>\n",
              "\t<tr><th scope=col>storm</th><th scope=col>wind</th><th scope=col>pressure</th><th scope=col>date</th></tr>\n",
              "\t<tr><th scope=col>&lt;chr&gt;</th><th scope=col>&lt;int&gt;</th><th scope=col>&lt;int&gt;</th><th scope=col>&lt;date&gt;</th></tr>\n",
              "</thead>\n",
              "<tbody>\n",
              "\t<tr><td>Alberto</td><td>110</td><td>1007</td><td>2000-08-03</td></tr>\n",
              "\t<tr><td>Allison</td><td> 65</td><td>1005</td><td>1995-06-03</td></tr>\n",
              "</tbody>\n",
              "</table>\n"
            ]
          },
          "metadata": {
            "tags": []
          }
        }
      ]
    },
    {
      "cell_type": "code",
      "metadata": {
        "id": "1HkpTDskVoif"
      },
      "source": [
        ""
      ],
      "execution_count": null,
      "outputs": []
    },
    {
      "cell_type": "markdown",
      "metadata": {
        "id": "S_ENKtjhXfsV"
      },
      "source": [
        "## Make new variable"
      ]
    },
    {
      "cell_type": "markdown",
      "metadata": {
        "id": "Bqrb_waVVq0U"
      },
      "source": [
        "### Mutate()"
      ]
    },
    {
      "cell_type": "code",
      "metadata": {
        "colab": {
          "base_uri": "https://localhost:8080/",
          "height": 204
        },
        "id": "eO_cQQtrVsBn",
        "outputId": "87927077-7a89-43cd-ebaa-85419c1a0f17"
      },
      "source": [
        "mutate(storms, ratio = pressure/wind, inverse= ratio^-1)"
      ],
      "execution_count": 205,
      "outputs": [
        {
          "output_type": "display_data",
          "data": {
            "text/plain": [
              "  storm   wind pressure date       ratio     inverse   \n",
              "1 Alberto 110  1007     2000-08-03  9.154545 0.10923535\n",
              "2 Alex     45  1009     1998-07-27 22.422222 0.04459861\n",
              "3 Allison  65  1005     1995-06-03 15.461538 0.06467662\n",
              "4 Ana      40  1013     1997-06-30 25.325000 0.03948667\n",
              "5 Arlene   50  1010     1999-06-11 20.200000 0.04950495\n",
              "6 Arthur   45  1010     1996-06-17 22.444444 0.04455446"
            ],
            "text/latex": "A tibble: 6 × 6\n\\begin{tabular}{llllll}\n storm & wind & pressure & date & ratio & inverse\\\\\n <chr> & <int> & <int> & <date> & <dbl> & <dbl>\\\\\n\\hline\n\t Alberto & 110 & 1007 & 2000-08-03 &  9.154545 & 0.10923535\\\\\n\t Alex    &  45 & 1009 & 1998-07-27 & 22.422222 & 0.04459861\\\\\n\t Allison &  65 & 1005 & 1995-06-03 & 15.461538 & 0.06467662\\\\\n\t Ana     &  40 & 1013 & 1997-06-30 & 25.325000 & 0.03948667\\\\\n\t Arlene  &  50 & 1010 & 1999-06-11 & 20.200000 & 0.04950495\\\\\n\t Arthur  &  45 & 1010 & 1996-06-17 & 22.444444 & 0.04455446\\\\\n\\end{tabular}\n",
            "text/markdown": "\nA tibble: 6 × 6\n\n| storm &lt;chr&gt; | wind &lt;int&gt; | pressure &lt;int&gt; | date &lt;date&gt; | ratio &lt;dbl&gt; | inverse &lt;dbl&gt; |\n|---|---|---|---|---|---|\n| Alberto | 110 | 1007 | 2000-08-03 |  9.154545 | 0.10923535 |\n| Alex    |  45 | 1009 | 1998-07-27 | 22.422222 | 0.04459861 |\n| Allison |  65 | 1005 | 1995-06-03 | 15.461538 | 0.06467662 |\n| Ana     |  40 | 1013 | 1997-06-30 | 25.325000 | 0.03948667 |\n| Arlene  |  50 | 1010 | 1999-06-11 | 20.200000 | 0.04950495 |\n| Arthur  |  45 | 1010 | 1996-06-17 | 22.444444 | 0.04455446 |\n\n",
            "text/html": [
              "<table>\n",
              "<caption>A tibble: 6 × 6</caption>\n",
              "<thead>\n",
              "\t<tr><th scope=col>storm</th><th scope=col>wind</th><th scope=col>pressure</th><th scope=col>date</th><th scope=col>ratio</th><th scope=col>inverse</th></tr>\n",
              "\t<tr><th scope=col>&lt;chr&gt;</th><th scope=col>&lt;int&gt;</th><th scope=col>&lt;int&gt;</th><th scope=col>&lt;date&gt;</th><th scope=col>&lt;dbl&gt;</th><th scope=col>&lt;dbl&gt;</th></tr>\n",
              "</thead>\n",
              "<tbody>\n",
              "\t<tr><td>Alberto</td><td>110</td><td>1007</td><td>2000-08-03</td><td> 9.154545</td><td>0.10923535</td></tr>\n",
              "\t<tr><td>Alex   </td><td> 45</td><td>1009</td><td>1998-07-27</td><td>22.422222</td><td>0.04459861</td></tr>\n",
              "\t<tr><td>Allison</td><td> 65</td><td>1005</td><td>1995-06-03</td><td>15.461538</td><td>0.06467662</td></tr>\n",
              "\t<tr><td>Ana    </td><td> 40</td><td>1013</td><td>1997-06-30</td><td>25.325000</td><td>0.03948667</td></tr>\n",
              "\t<tr><td>Arlene </td><td> 50</td><td>1010</td><td>1999-06-11</td><td>20.200000</td><td>0.04950495</td></tr>\n",
              "\t<tr><td>Arthur </td><td> 45</td><td>1010</td><td>1996-06-17</td><td>22.444444</td><td>0.04455446</td></tr>\n",
              "</tbody>\n",
              "</table>\n"
            ]
          },
          "metadata": {
            "tags": []
          }
        }
      ]
    },
    {
      "cell_type": "code",
      "metadata": {
        "colab": {
          "base_uri": "https://localhost:8080/",
          "height": 204
        },
        "id": "0kAYamdyV9nn",
        "outputId": "32c82ed5-b7f4-41bc-9ebb-da5ec90dc649"
      },
      "source": [
        "mutate(storms, wind_cum = cumsum(wind))"
      ],
      "execution_count": 207,
      "outputs": [
        {
          "output_type": "display_data",
          "data": {
            "text/plain": [
              "  storm   wind pressure date       wind_cum\n",
              "1 Alberto 110  1007     2000-08-03 110     \n",
              "2 Alex     45  1009     1998-07-27 155     \n",
              "3 Allison  65  1005     1995-06-03 220     \n",
              "4 Ana      40  1013     1997-06-30 260     \n",
              "5 Arlene   50  1010     1999-06-11 310     \n",
              "6 Arthur   45  1010     1996-06-17 355     "
            ],
            "text/latex": "A tibble: 6 × 5\n\\begin{tabular}{lllll}\n storm & wind & pressure & date & wind\\_cum\\\\\n <chr> & <int> & <int> & <date> & <int>\\\\\n\\hline\n\t Alberto & 110 & 1007 & 2000-08-03 & 110\\\\\n\t Alex    &  45 & 1009 & 1998-07-27 & 155\\\\\n\t Allison &  65 & 1005 & 1995-06-03 & 220\\\\\n\t Ana     &  40 & 1013 & 1997-06-30 & 260\\\\\n\t Arlene  &  50 & 1010 & 1999-06-11 & 310\\\\\n\t Arthur  &  45 & 1010 & 1996-06-17 & 355\\\\\n\\end{tabular}\n",
            "text/markdown": "\nA tibble: 6 × 5\n\n| storm &lt;chr&gt; | wind &lt;int&gt; | pressure &lt;int&gt; | date &lt;date&gt; | wind_cum &lt;int&gt; |\n|---|---|---|---|---|\n| Alberto | 110 | 1007 | 2000-08-03 | 110 |\n| Alex    |  45 | 1009 | 1998-07-27 | 155 |\n| Allison |  65 | 1005 | 1995-06-03 | 220 |\n| Ana     |  40 | 1013 | 1997-06-30 | 260 |\n| Arlene  |  50 | 1010 | 1999-06-11 | 310 |\n| Arthur  |  45 | 1010 | 1996-06-17 | 355 |\n\n",
            "text/html": [
              "<table>\n",
              "<caption>A tibble: 6 × 5</caption>\n",
              "<thead>\n",
              "\t<tr><th scope=col>storm</th><th scope=col>wind</th><th scope=col>pressure</th><th scope=col>date</th><th scope=col>wind_cum</th></tr>\n",
              "\t<tr><th scope=col>&lt;chr&gt;</th><th scope=col>&lt;int&gt;</th><th scope=col>&lt;int&gt;</th><th scope=col>&lt;date&gt;</th><th scope=col>&lt;int&gt;</th></tr>\n",
              "</thead>\n",
              "<tbody>\n",
              "\t<tr><td>Alberto</td><td>110</td><td>1007</td><td>2000-08-03</td><td>110</td></tr>\n",
              "\t<tr><td>Alex   </td><td> 45</td><td>1009</td><td>1998-07-27</td><td>155</td></tr>\n",
              "\t<tr><td>Allison</td><td> 65</td><td>1005</td><td>1995-06-03</td><td>220</td></tr>\n",
              "\t<tr><td>Ana    </td><td> 40</td><td>1013</td><td>1997-06-30</td><td>260</td></tr>\n",
              "\t<tr><td>Arlene </td><td> 50</td><td>1010</td><td>1999-06-11</td><td>310</td></tr>\n",
              "\t<tr><td>Arthur </td><td> 45</td><td>1010</td><td>1996-06-17</td><td>355</td></tr>\n",
              "</tbody>\n",
              "</table>\n"
            ]
          },
          "metadata": {
            "tags": []
          }
        }
      ]
    },
    {
      "cell_type": "markdown",
      "metadata": {
        "id": "00qnSLH5WL7r"
      },
      "source": [
        "## Summarise data\n",
        "use to aggreate value"
      ]
    },
    {
      "cell_type": "code",
      "metadata": {
        "colab": {
          "base_uri": "https://localhost:8080/",
          "height": 297
        },
        "id": "Up-z4v8CWDsU",
        "outputId": "db9ec822-c0ee-40cf-87e7-af412355cb35"
      },
      "source": [
        "summarise(pollution, median = median(amount), variance = var(amount))\n",
        "pollution %>% summarise(median = median(amount), variance = var(amount))\n",
        "pollution %>% summarise(median = median(amount), variance = var(amount), n=n())"
      ],
      "execution_count": 209,
      "outputs": [
        {
          "output_type": "display_data",
          "data": {
            "text/plain": [
              "  median variance\n",
              "1 22.5   1731.6  "
            ],
            "text/latex": "A data.frame: 1 × 2\n\\begin{tabular}{ll}\n median & variance\\\\\n <dbl> & <dbl>\\\\\n\\hline\n\t 22.5 & 1731.6\\\\\n\\end{tabular}\n",
            "text/markdown": "\nA data.frame: 1 × 2\n\n| median &lt;dbl&gt; | variance &lt;dbl&gt; |\n|---|---|\n| 22.5 | 1731.6 |\n\n",
            "text/html": [
              "<table>\n",
              "<caption>A data.frame: 1 × 2</caption>\n",
              "<thead>\n",
              "\t<tr><th scope=col>median</th><th scope=col>variance</th></tr>\n",
              "\t<tr><th scope=col>&lt;dbl&gt;</th><th scope=col>&lt;dbl&gt;</th></tr>\n",
              "</thead>\n",
              "<tbody>\n",
              "\t<tr><td>22.5</td><td>1731.6</td></tr>\n",
              "</tbody>\n",
              "</table>\n"
            ]
          },
          "metadata": {
            "tags": []
          }
        },
        {
          "output_type": "display_data",
          "data": {
            "text/plain": [
              "  median variance\n",
              "1 22.5   1731.6  "
            ],
            "text/latex": "A data.frame: 1 × 2\n\\begin{tabular}{ll}\n median & variance\\\\\n <dbl> & <dbl>\\\\\n\\hline\n\t 22.5 & 1731.6\\\\\n\\end{tabular}\n",
            "text/markdown": "\nA data.frame: 1 × 2\n\n| median &lt;dbl&gt; | variance &lt;dbl&gt; |\n|---|---|\n| 22.5 | 1731.6 |\n\n",
            "text/html": [
              "<table>\n",
              "<caption>A data.frame: 1 × 2</caption>\n",
              "<thead>\n",
              "\t<tr><th scope=col>median</th><th scope=col>variance</th></tr>\n",
              "\t<tr><th scope=col>&lt;dbl&gt;</th><th scope=col>&lt;dbl&gt;</th></tr>\n",
              "</thead>\n",
              "<tbody>\n",
              "\t<tr><td>22.5</td><td>1731.6</td></tr>\n",
              "</tbody>\n",
              "</table>\n"
            ]
          },
          "metadata": {
            "tags": []
          }
        },
        {
          "output_type": "display_data",
          "data": {
            "text/plain": [
              "  median variance n\n",
              "1 22.5   1731.6   6"
            ],
            "text/latex": "A data.frame: 1 × 3\n\\begin{tabular}{lll}\n median & variance & n\\\\\n <dbl> & <dbl> & <int>\\\\\n\\hline\n\t 22.5 & 1731.6 & 6\\\\\n\\end{tabular}\n",
            "text/markdown": "\nA data.frame: 1 × 3\n\n| median &lt;dbl&gt; | variance &lt;dbl&gt; | n &lt;int&gt; |\n|---|---|---|\n| 22.5 | 1731.6 | 6 |\n\n",
            "text/html": [
              "<table>\n",
              "<caption>A data.frame: 1 × 3</caption>\n",
              "<thead>\n",
              "\t<tr><th scope=col>median</th><th scope=col>variance</th><th scope=col>n</th></tr>\n",
              "\t<tr><th scope=col>&lt;dbl&gt;</th><th scope=col>&lt;dbl&gt;</th><th scope=col>&lt;int&gt;</th></tr>\n",
              "</thead>\n",
              "<tbody>\n",
              "\t<tr><td>22.5</td><td>1731.6</td><td>6</td></tr>\n",
              "</tbody>\n",
              "</table>\n"
            ]
          },
          "metadata": {
            "tags": []
          }
        }
      ]
    },
    {
      "cell_type": "markdown",
      "metadata": {
        "id": "mCipIcgdXMpU"
      },
      "source": [
        "#### arrange()"
      ]
    },
    {
      "cell_type": "code",
      "metadata": {
        "colab": {
          "base_uri": "https://localhost:8080/",
          "height": 765
        },
        "id": "_BevVbAaWYzC",
        "outputId": "8c2a1d56-a248-41f4-9934-55858fd03728"
      },
      "source": [
        "arrange(storms, wind)\n",
        "arrange(storms, desc(wind))\n",
        "arrange(storms, wind)\n",
        "arrange(storms, wind, date)"
      ],
      "execution_count": 210,
      "outputs": [
        {
          "output_type": "display_data",
          "data": {
            "text/plain": [
              "  storm   wind pressure date      \n",
              "1 Ana      40  1013     1997-06-30\n",
              "2 Alex     45  1009     1998-07-27\n",
              "3 Arthur   45  1010     1996-06-17\n",
              "4 Arlene   50  1010     1999-06-11\n",
              "5 Allison  65  1005     1995-06-03\n",
              "6 Alberto 110  1007     2000-08-03"
            ],
            "text/latex": "A tibble: 6 × 4\n\\begin{tabular}{llll}\n storm & wind & pressure & date\\\\\n <chr> & <int> & <int> & <date>\\\\\n\\hline\n\t Ana     &  40 & 1013 & 1997-06-30\\\\\n\t Alex    &  45 & 1009 & 1998-07-27\\\\\n\t Arthur  &  45 & 1010 & 1996-06-17\\\\\n\t Arlene  &  50 & 1010 & 1999-06-11\\\\\n\t Allison &  65 & 1005 & 1995-06-03\\\\\n\t Alberto & 110 & 1007 & 2000-08-03\\\\\n\\end{tabular}\n",
            "text/markdown": "\nA tibble: 6 × 4\n\n| storm &lt;chr&gt; | wind &lt;int&gt; | pressure &lt;int&gt; | date &lt;date&gt; |\n|---|---|---|---|\n| Ana     |  40 | 1013 | 1997-06-30 |\n| Alex    |  45 | 1009 | 1998-07-27 |\n| Arthur  |  45 | 1010 | 1996-06-17 |\n| Arlene  |  50 | 1010 | 1999-06-11 |\n| Allison |  65 | 1005 | 1995-06-03 |\n| Alberto | 110 | 1007 | 2000-08-03 |\n\n",
            "text/html": [
              "<table>\n",
              "<caption>A tibble: 6 × 4</caption>\n",
              "<thead>\n",
              "\t<tr><th scope=col>storm</th><th scope=col>wind</th><th scope=col>pressure</th><th scope=col>date</th></tr>\n",
              "\t<tr><th scope=col>&lt;chr&gt;</th><th scope=col>&lt;int&gt;</th><th scope=col>&lt;int&gt;</th><th scope=col>&lt;date&gt;</th></tr>\n",
              "</thead>\n",
              "<tbody>\n",
              "\t<tr><td>Ana    </td><td> 40</td><td>1013</td><td>1997-06-30</td></tr>\n",
              "\t<tr><td>Alex   </td><td> 45</td><td>1009</td><td>1998-07-27</td></tr>\n",
              "\t<tr><td>Arthur </td><td> 45</td><td>1010</td><td>1996-06-17</td></tr>\n",
              "\t<tr><td>Arlene </td><td> 50</td><td>1010</td><td>1999-06-11</td></tr>\n",
              "\t<tr><td>Allison</td><td> 65</td><td>1005</td><td>1995-06-03</td></tr>\n",
              "\t<tr><td>Alberto</td><td>110</td><td>1007</td><td>2000-08-03</td></tr>\n",
              "</tbody>\n",
              "</table>\n"
            ]
          },
          "metadata": {
            "tags": []
          }
        },
        {
          "output_type": "display_data",
          "data": {
            "text/plain": [
              "  storm   wind pressure date      \n",
              "1 Alberto 110  1007     2000-08-03\n",
              "2 Allison  65  1005     1995-06-03\n",
              "3 Arlene   50  1010     1999-06-11\n",
              "4 Alex     45  1009     1998-07-27\n",
              "5 Arthur   45  1010     1996-06-17\n",
              "6 Ana      40  1013     1997-06-30"
            ],
            "text/latex": "A tibble: 6 × 4\n\\begin{tabular}{llll}\n storm & wind & pressure & date\\\\\n <chr> & <int> & <int> & <date>\\\\\n\\hline\n\t Alberto & 110 & 1007 & 2000-08-03\\\\\n\t Allison &  65 & 1005 & 1995-06-03\\\\\n\t Arlene  &  50 & 1010 & 1999-06-11\\\\\n\t Alex    &  45 & 1009 & 1998-07-27\\\\\n\t Arthur  &  45 & 1010 & 1996-06-17\\\\\n\t Ana     &  40 & 1013 & 1997-06-30\\\\\n\\end{tabular}\n",
            "text/markdown": "\nA tibble: 6 × 4\n\n| storm &lt;chr&gt; | wind &lt;int&gt; | pressure &lt;int&gt; | date &lt;date&gt; |\n|---|---|---|---|\n| Alberto | 110 | 1007 | 2000-08-03 |\n| Allison |  65 | 1005 | 1995-06-03 |\n| Arlene  |  50 | 1010 | 1999-06-11 |\n| Alex    |  45 | 1009 | 1998-07-27 |\n| Arthur  |  45 | 1010 | 1996-06-17 |\n| Ana     |  40 | 1013 | 1997-06-30 |\n\n",
            "text/html": [
              "<table>\n",
              "<caption>A tibble: 6 × 4</caption>\n",
              "<thead>\n",
              "\t<tr><th scope=col>storm</th><th scope=col>wind</th><th scope=col>pressure</th><th scope=col>date</th></tr>\n",
              "\t<tr><th scope=col>&lt;chr&gt;</th><th scope=col>&lt;int&gt;</th><th scope=col>&lt;int&gt;</th><th scope=col>&lt;date&gt;</th></tr>\n",
              "</thead>\n",
              "<tbody>\n",
              "\t<tr><td>Alberto</td><td>110</td><td>1007</td><td>2000-08-03</td></tr>\n",
              "\t<tr><td>Allison</td><td> 65</td><td>1005</td><td>1995-06-03</td></tr>\n",
              "\t<tr><td>Arlene </td><td> 50</td><td>1010</td><td>1999-06-11</td></tr>\n",
              "\t<tr><td>Alex   </td><td> 45</td><td>1009</td><td>1998-07-27</td></tr>\n",
              "\t<tr><td>Arthur </td><td> 45</td><td>1010</td><td>1996-06-17</td></tr>\n",
              "\t<tr><td>Ana    </td><td> 40</td><td>1013</td><td>1997-06-30</td></tr>\n",
              "</tbody>\n",
              "</table>\n"
            ]
          },
          "metadata": {
            "tags": []
          }
        },
        {
          "output_type": "display_data",
          "data": {
            "text/plain": [
              "  storm   wind pressure date      \n",
              "1 Ana      40  1013     1997-06-30\n",
              "2 Alex     45  1009     1998-07-27\n",
              "3 Arthur   45  1010     1996-06-17\n",
              "4 Arlene   50  1010     1999-06-11\n",
              "5 Allison  65  1005     1995-06-03\n",
              "6 Alberto 110  1007     2000-08-03"
            ],
            "text/latex": "A tibble: 6 × 4\n\\begin{tabular}{llll}\n storm & wind & pressure & date\\\\\n <chr> & <int> & <int> & <date>\\\\\n\\hline\n\t Ana     &  40 & 1013 & 1997-06-30\\\\\n\t Alex    &  45 & 1009 & 1998-07-27\\\\\n\t Arthur  &  45 & 1010 & 1996-06-17\\\\\n\t Arlene  &  50 & 1010 & 1999-06-11\\\\\n\t Allison &  65 & 1005 & 1995-06-03\\\\\n\t Alberto & 110 & 1007 & 2000-08-03\\\\\n\\end{tabular}\n",
            "text/markdown": "\nA tibble: 6 × 4\n\n| storm &lt;chr&gt; | wind &lt;int&gt; | pressure &lt;int&gt; | date &lt;date&gt; |\n|---|---|---|---|\n| Ana     |  40 | 1013 | 1997-06-30 |\n| Alex    |  45 | 1009 | 1998-07-27 |\n| Arthur  |  45 | 1010 | 1996-06-17 |\n| Arlene  |  50 | 1010 | 1999-06-11 |\n| Allison |  65 | 1005 | 1995-06-03 |\n| Alberto | 110 | 1007 | 2000-08-03 |\n\n",
            "text/html": [
              "<table>\n",
              "<caption>A tibble: 6 × 4</caption>\n",
              "<thead>\n",
              "\t<tr><th scope=col>storm</th><th scope=col>wind</th><th scope=col>pressure</th><th scope=col>date</th></tr>\n",
              "\t<tr><th scope=col>&lt;chr&gt;</th><th scope=col>&lt;int&gt;</th><th scope=col>&lt;int&gt;</th><th scope=col>&lt;date&gt;</th></tr>\n",
              "</thead>\n",
              "<tbody>\n",
              "\t<tr><td>Ana    </td><td> 40</td><td>1013</td><td>1997-06-30</td></tr>\n",
              "\t<tr><td>Alex   </td><td> 45</td><td>1009</td><td>1998-07-27</td></tr>\n",
              "\t<tr><td>Arthur </td><td> 45</td><td>1010</td><td>1996-06-17</td></tr>\n",
              "\t<tr><td>Arlene </td><td> 50</td><td>1010</td><td>1999-06-11</td></tr>\n",
              "\t<tr><td>Allison</td><td> 65</td><td>1005</td><td>1995-06-03</td></tr>\n",
              "\t<tr><td>Alberto</td><td>110</td><td>1007</td><td>2000-08-03</td></tr>\n",
              "</tbody>\n",
              "</table>\n"
            ]
          },
          "metadata": {
            "tags": []
          }
        },
        {
          "output_type": "display_data",
          "data": {
            "text/plain": [
              "  storm   wind pressure date      \n",
              "1 Ana      40  1013     1997-06-30\n",
              "2 Arthur   45  1010     1996-06-17\n",
              "3 Alex     45  1009     1998-07-27\n",
              "4 Arlene   50  1010     1999-06-11\n",
              "5 Allison  65  1005     1995-06-03\n",
              "6 Alberto 110  1007     2000-08-03"
            ],
            "text/latex": "A tibble: 6 × 4\n\\begin{tabular}{llll}\n storm & wind & pressure & date\\\\\n <chr> & <int> & <int> & <date>\\\\\n\\hline\n\t Ana     &  40 & 1013 & 1997-06-30\\\\\n\t Arthur  &  45 & 1010 & 1996-06-17\\\\\n\t Alex    &  45 & 1009 & 1998-07-27\\\\\n\t Arlene  &  50 & 1010 & 1999-06-11\\\\\n\t Allison &  65 & 1005 & 1995-06-03\\\\\n\t Alberto & 110 & 1007 & 2000-08-03\\\\\n\\end{tabular}\n",
            "text/markdown": "\nA tibble: 6 × 4\n\n| storm &lt;chr&gt; | wind &lt;int&gt; | pressure &lt;int&gt; | date &lt;date&gt; |\n|---|---|---|---|\n| Ana     |  40 | 1013 | 1997-06-30 |\n| Arthur  |  45 | 1010 | 1996-06-17 |\n| Alex    |  45 | 1009 | 1998-07-27 |\n| Arlene  |  50 | 1010 | 1999-06-11 |\n| Allison |  65 | 1005 | 1995-06-03 |\n| Alberto | 110 | 1007 | 2000-08-03 |\n\n",
            "text/html": [
              "<table>\n",
              "<caption>A tibble: 6 × 4</caption>\n",
              "<thead>\n",
              "\t<tr><th scope=col>storm</th><th scope=col>wind</th><th scope=col>pressure</th><th scope=col>date</th></tr>\n",
              "\t<tr><th scope=col>&lt;chr&gt;</th><th scope=col>&lt;int&gt;</th><th scope=col>&lt;int&gt;</th><th scope=col>&lt;date&gt;</th></tr>\n",
              "</thead>\n",
              "<tbody>\n",
              "\t<tr><td>Ana    </td><td> 40</td><td>1013</td><td>1997-06-30</td></tr>\n",
              "\t<tr><td>Arthur </td><td> 45</td><td>1010</td><td>1996-06-17</td></tr>\n",
              "\t<tr><td>Alex   </td><td> 45</td><td>1009</td><td>1998-07-27</td></tr>\n",
              "\t<tr><td>Arlene </td><td> 50</td><td>1010</td><td>1999-06-11</td></tr>\n",
              "\t<tr><td>Allison</td><td> 65</td><td>1005</td><td>1995-06-03</td></tr>\n",
              "\t<tr><td>Alberto</td><td>110</td><td>1007</td><td>2000-08-03</td></tr>\n",
              "</tbody>\n",
              "</table>\n"
            ]
          },
          "metadata": {
            "tags": []
          }
        }
      ]
    },
    {
      "cell_type": "markdown",
      "metadata": {
        "id": "bXICShzZdJQU"
      },
      "source": [
        "### Data pipe"
      ]
    },
    {
      "cell_type": "code",
      "metadata": {
        "colab": {
          "base_uri": "https://localhost:8080/",
          "height": 763
        },
        "id": "c7KNTHE8XKtE",
        "outputId": "9d538402-44b6-45e6-d034-f7966cbe66da"
      },
      "source": [
        "select(storms, storm, pressure)\n",
        "storms %>% select(storm, pressure)\n",
        "\n",
        "filter(storms, wind >= 50)\n",
        "storms %>% filter(wind >= 50)\n",
        "storms %>% filter(wind >= 50) %>% select(storm, pressure)\n",
        "\n",
        "storms %>% \n",
        "  mutate(ratio = pressure / wind) %>% \n",
        "  select(storm, ratio) -> storms_ratio"
      ],
      "execution_count": 221,
      "outputs": [
        {
          "output_type": "display_data",
          "data": {
            "text/plain": [
              "  storm   pressure\n",
              "1 Alberto 1007    \n",
              "2 Alex    1009    \n",
              "3 Allison 1005    \n",
              "4 Ana     1013    \n",
              "5 Arlene  1010    \n",
              "6 Arthur  1010    "
            ],
            "text/latex": "A tibble: 6 × 2\n\\begin{tabular}{ll}\n storm & pressure\\\\\n <chr> & <int>\\\\\n\\hline\n\t Alberto & 1007\\\\\n\t Alex    & 1009\\\\\n\t Allison & 1005\\\\\n\t Ana     & 1013\\\\\n\t Arlene  & 1010\\\\\n\t Arthur  & 1010\\\\\n\\end{tabular}\n",
            "text/markdown": "\nA tibble: 6 × 2\n\n| storm &lt;chr&gt; | pressure &lt;int&gt; |\n|---|---|\n| Alberto | 1007 |\n| Alex    | 1009 |\n| Allison | 1005 |\n| Ana     | 1013 |\n| Arlene  | 1010 |\n| Arthur  | 1010 |\n\n",
            "text/html": [
              "<table>\n",
              "<caption>A tibble: 6 × 2</caption>\n",
              "<thead>\n",
              "\t<tr><th scope=col>storm</th><th scope=col>pressure</th></tr>\n",
              "\t<tr><th scope=col>&lt;chr&gt;</th><th scope=col>&lt;int&gt;</th></tr>\n",
              "</thead>\n",
              "<tbody>\n",
              "\t<tr><td>Alberto</td><td>1007</td></tr>\n",
              "\t<tr><td>Alex   </td><td>1009</td></tr>\n",
              "\t<tr><td>Allison</td><td>1005</td></tr>\n",
              "\t<tr><td>Ana    </td><td>1013</td></tr>\n",
              "\t<tr><td>Arlene </td><td>1010</td></tr>\n",
              "\t<tr><td>Arthur </td><td>1010</td></tr>\n",
              "</tbody>\n",
              "</table>\n"
            ]
          },
          "metadata": {
            "tags": []
          }
        },
        {
          "output_type": "display_data",
          "data": {
            "text/plain": [
              "  storm   pressure\n",
              "1 Alberto 1007    \n",
              "2 Alex    1009    \n",
              "3 Allison 1005    \n",
              "4 Ana     1013    \n",
              "5 Arlene  1010    \n",
              "6 Arthur  1010    "
            ],
            "text/latex": "A tibble: 6 × 2\n\\begin{tabular}{ll}\n storm & pressure\\\\\n <chr> & <int>\\\\\n\\hline\n\t Alberto & 1007\\\\\n\t Alex    & 1009\\\\\n\t Allison & 1005\\\\\n\t Ana     & 1013\\\\\n\t Arlene  & 1010\\\\\n\t Arthur  & 1010\\\\\n\\end{tabular}\n",
            "text/markdown": "\nA tibble: 6 × 2\n\n| storm &lt;chr&gt; | pressure &lt;int&gt; |\n|---|---|\n| Alberto | 1007 |\n| Alex    | 1009 |\n| Allison | 1005 |\n| Ana     | 1013 |\n| Arlene  | 1010 |\n| Arthur  | 1010 |\n\n",
            "text/html": [
              "<table>\n",
              "<caption>A tibble: 6 × 2</caption>\n",
              "<thead>\n",
              "\t<tr><th scope=col>storm</th><th scope=col>pressure</th></tr>\n",
              "\t<tr><th scope=col>&lt;chr&gt;</th><th scope=col>&lt;int&gt;</th></tr>\n",
              "</thead>\n",
              "<tbody>\n",
              "\t<tr><td>Alberto</td><td>1007</td></tr>\n",
              "\t<tr><td>Alex   </td><td>1009</td></tr>\n",
              "\t<tr><td>Allison</td><td>1005</td></tr>\n",
              "\t<tr><td>Ana    </td><td>1013</td></tr>\n",
              "\t<tr><td>Arlene </td><td>1010</td></tr>\n",
              "\t<tr><td>Arthur </td><td>1010</td></tr>\n",
              "</tbody>\n",
              "</table>\n"
            ]
          },
          "metadata": {
            "tags": []
          }
        },
        {
          "output_type": "display_data",
          "data": {
            "text/plain": [
              "  storm   wind pressure date      \n",
              "1 Alberto 110  1007     2000-08-03\n",
              "2 Allison  65  1005     1995-06-03\n",
              "3 Arlene   50  1010     1999-06-11"
            ],
            "text/latex": "A tibble: 3 × 4\n\\begin{tabular}{llll}\n storm & wind & pressure & date\\\\\n <chr> & <int> & <int> & <date>\\\\\n\\hline\n\t Alberto & 110 & 1007 & 2000-08-03\\\\\n\t Allison &  65 & 1005 & 1995-06-03\\\\\n\t Arlene  &  50 & 1010 & 1999-06-11\\\\\n\\end{tabular}\n",
            "text/markdown": "\nA tibble: 3 × 4\n\n| storm &lt;chr&gt; | wind &lt;int&gt; | pressure &lt;int&gt; | date &lt;date&gt; |\n|---|---|---|---|\n| Alberto | 110 | 1007 | 2000-08-03 |\n| Allison |  65 | 1005 | 1995-06-03 |\n| Arlene  |  50 | 1010 | 1999-06-11 |\n\n",
            "text/html": [
              "<table>\n",
              "<caption>A tibble: 3 × 4</caption>\n",
              "<thead>\n",
              "\t<tr><th scope=col>storm</th><th scope=col>wind</th><th scope=col>pressure</th><th scope=col>date</th></tr>\n",
              "\t<tr><th scope=col>&lt;chr&gt;</th><th scope=col>&lt;int&gt;</th><th scope=col>&lt;int&gt;</th><th scope=col>&lt;date&gt;</th></tr>\n",
              "</thead>\n",
              "<tbody>\n",
              "\t<tr><td>Alberto</td><td>110</td><td>1007</td><td>2000-08-03</td></tr>\n",
              "\t<tr><td>Allison</td><td> 65</td><td>1005</td><td>1995-06-03</td></tr>\n",
              "\t<tr><td>Arlene </td><td> 50</td><td>1010</td><td>1999-06-11</td></tr>\n",
              "</tbody>\n",
              "</table>\n"
            ]
          },
          "metadata": {
            "tags": []
          }
        },
        {
          "output_type": "display_data",
          "data": {
            "text/plain": [
              "  storm   wind pressure date      \n",
              "1 Alberto 110  1007     2000-08-03\n",
              "2 Allison  65  1005     1995-06-03\n",
              "3 Arlene   50  1010     1999-06-11"
            ],
            "text/latex": "A tibble: 3 × 4\n\\begin{tabular}{llll}\n storm & wind & pressure & date\\\\\n <chr> & <int> & <int> & <date>\\\\\n\\hline\n\t Alberto & 110 & 1007 & 2000-08-03\\\\\n\t Allison &  65 & 1005 & 1995-06-03\\\\\n\t Arlene  &  50 & 1010 & 1999-06-11\\\\\n\\end{tabular}\n",
            "text/markdown": "\nA tibble: 3 × 4\n\n| storm &lt;chr&gt; | wind &lt;int&gt; | pressure &lt;int&gt; | date &lt;date&gt; |\n|---|---|---|---|\n| Alberto | 110 | 1007 | 2000-08-03 |\n| Allison |  65 | 1005 | 1995-06-03 |\n| Arlene  |  50 | 1010 | 1999-06-11 |\n\n",
            "text/html": [
              "<table>\n",
              "<caption>A tibble: 3 × 4</caption>\n",
              "<thead>\n",
              "\t<tr><th scope=col>storm</th><th scope=col>wind</th><th scope=col>pressure</th><th scope=col>date</th></tr>\n",
              "\t<tr><th scope=col>&lt;chr&gt;</th><th scope=col>&lt;int&gt;</th><th scope=col>&lt;int&gt;</th><th scope=col>&lt;date&gt;</th></tr>\n",
              "</thead>\n",
              "<tbody>\n",
              "\t<tr><td>Alberto</td><td>110</td><td>1007</td><td>2000-08-03</td></tr>\n",
              "\t<tr><td>Allison</td><td> 65</td><td>1005</td><td>1995-06-03</td></tr>\n",
              "\t<tr><td>Arlene </td><td> 50</td><td>1010</td><td>1999-06-11</td></tr>\n",
              "</tbody>\n",
              "</table>\n"
            ]
          },
          "metadata": {
            "tags": []
          }
        },
        {
          "output_type": "display_data",
          "data": {
            "text/plain": [
              "  storm   pressure\n",
              "1 Alberto 1007    \n",
              "2 Allison 1005    \n",
              "3 Arlene  1010    "
            ],
            "text/latex": "A tibble: 3 × 2\n\\begin{tabular}{ll}\n storm & pressure\\\\\n <chr> & <int>\\\\\n\\hline\n\t Alberto & 1007\\\\\n\t Allison & 1005\\\\\n\t Arlene  & 1010\\\\\n\\end{tabular}\n",
            "text/markdown": "\nA tibble: 3 × 2\n\n| storm &lt;chr&gt; | pressure &lt;int&gt; |\n|---|---|\n| Alberto | 1007 |\n| Allison | 1005 |\n| Arlene  | 1010 |\n\n",
            "text/html": [
              "<table>\n",
              "<caption>A tibble: 3 × 2</caption>\n",
              "<thead>\n",
              "\t<tr><th scope=col>storm</th><th scope=col>pressure</th></tr>\n",
              "\t<tr><th scope=col>&lt;chr&gt;</th><th scope=col>&lt;int&gt;</th></tr>\n",
              "</thead>\n",
              "<tbody>\n",
              "\t<tr><td>Alberto</td><td>1007</td></tr>\n",
              "\t<tr><td>Allison</td><td>1005</td></tr>\n",
              "\t<tr><td>Arlene </td><td>1010</td></tr>\n",
              "</tbody>\n",
              "</table>\n"
            ]
          },
          "metadata": {
            "tags": []
          }
        }
      ]
    },
    {
      "cell_type": "markdown",
      "metadata": {
        "id": "cWwMYaAqdXQH"
      },
      "source": [
        "## Group data"
      ]
    },
    {
      "cell_type": "code",
      "metadata": {
        "colab": {
          "base_uri": "https://localhost:8080/",
          "height": 328
        },
        "id": "IqWxhByjdMnT",
        "outputId": "7c2930fa-8142-4246-9bc6-610e831e387b"
      },
      "source": [
        "pollution %>% group_by(city)\n",
        "pollution %>% \n",
        "  group_by(city) %>% \n",
        "  summarise(median = median(amount), variance = var(amount), n = n())\n"
      ],
      "execution_count": 222,
      "outputs": [
        {
          "output_type": "display_data",
          "data": {
            "text/plain": [
              "  city     size  amount\n",
              "1 New York large  23   \n",
              "2 New York small  14   \n",
              "3 London   large  22   \n",
              "4 London   small  16   \n",
              "5 Beijing  large 121   \n",
              "6 Beijing  small  56   "
            ],
            "text/latex": "A grouped\\_df: 6 × 3\n\\begin{tabular}{lll}\n city & size & amount\\\\\n <chr> & <chr> & <dbl>\\\\\n\\hline\n\t New York & large &  23\\\\\n\t New York & small &  14\\\\\n\t London   & large &  22\\\\\n\t London   & small &  16\\\\\n\t Beijing  & large & 121\\\\\n\t Beijing  & small &  56\\\\\n\\end{tabular}\n",
            "text/markdown": "\nA grouped_df: 6 × 3\n\n| city &lt;chr&gt; | size &lt;chr&gt; | amount &lt;dbl&gt; |\n|---|---|---|\n| New York | large |  23 |\n| New York | small |  14 |\n| London   | large |  22 |\n| London   | small |  16 |\n| Beijing  | large | 121 |\n| Beijing  | small |  56 |\n\n",
            "text/html": [
              "<table>\n",
              "<caption>A grouped_df: 6 × 3</caption>\n",
              "<thead>\n",
              "\t<tr><th scope=col>city</th><th scope=col>size</th><th scope=col>amount</th></tr>\n",
              "\t<tr><th scope=col>&lt;chr&gt;</th><th scope=col>&lt;chr&gt;</th><th scope=col>&lt;dbl&gt;</th></tr>\n",
              "</thead>\n",
              "<tbody>\n",
              "\t<tr><td>New York</td><td>large</td><td> 23</td></tr>\n",
              "\t<tr><td>New York</td><td>small</td><td> 14</td></tr>\n",
              "\t<tr><td>London  </td><td>large</td><td> 22</td></tr>\n",
              "\t<tr><td>London  </td><td>small</td><td> 16</td></tr>\n",
              "\t<tr><td>Beijing </td><td>large</td><td>121</td></tr>\n",
              "\t<tr><td>Beijing </td><td>small</td><td> 56</td></tr>\n",
              "</tbody>\n",
              "</table>\n"
            ]
          },
          "metadata": {
            "tags": []
          }
        },
        {
          "output_type": "display_data",
          "data": {
            "text/plain": [
              "  city     median variance n\n",
              "1 Beijing  88.5   2112.5   2\n",
              "2 London   19.0     18.0   2\n",
              "3 New York 18.5     40.5   2"
            ],
            "text/latex": "A tibble: 3 × 4\n\\begin{tabular}{r|llll}\n  & city & median & variance & n\\\\\n  & <chr> & <dbl> & <dbl> & <int>\\\\\n\\hline\n\t1 & Beijing  & 88.5 & 2112.5 & 2\\\\\n\t2 & London   & 19.0 &   18.0 & 2\\\\\n\t3 & New York & 18.5 &   40.5 & 2\\\\\n\\end{tabular}\n",
            "text/markdown": "\nA tibble: 3 × 4\n\n| <!--/--> | city &lt;chr&gt; | median &lt;dbl&gt; | variance &lt;dbl&gt; | n &lt;int&gt; |\n|---|---|---|---|---|\n| 1 | Beijing  | 88.5 | 2112.5 | 2 |\n| 2 | London   | 19.0 |   18.0 | 2 |\n| 3 | New York | 18.5 |   40.5 | 2 |\n\n",
            "text/html": [
              "<table>\n",
              "<caption>A tibble: 3 × 4</caption>\n",
              "<thead>\n",
              "\t<tr><th></th><th scope=col>city</th><th scope=col>median</th><th scope=col>variance</th><th scope=col>n</th></tr>\n",
              "\t<tr><th></th><th scope=col>&lt;chr&gt;</th><th scope=col>&lt;dbl&gt;</th><th scope=col>&lt;dbl&gt;</th><th scope=col>&lt;int&gt;</th></tr>\n",
              "</thead>\n",
              "<tbody>\n",
              "\t<tr><th scope=row>1</th><td>Beijing </td><td>88.5</td><td>2112.5</td><td>2</td></tr>\n",
              "\t<tr><th scope=row>2</th><td>London  </td><td>19.0</td><td>  18.0</td><td>2</td></tr>\n",
              "\t<tr><th scope=row>3</th><td>New York</td><td>18.5</td><td>  40.5</td><td>2</td></tr>\n",
              "</tbody>\n",
              "</table>\n"
            ]
          },
          "metadata": {
            "tags": []
          }
        }
      ]
    },
    {
      "cell_type": "code",
      "metadata": {
        "id": "YdYAVGHSdeNV"
      },
      "source": [
        ""
      ],
      "execution_count": null,
      "outputs": []
    },
    {
      "cell_type": "markdown",
      "metadata": {
        "id": "iKBa-_4xdn7Y"
      },
      "source": [
        "## Integration"
      ]
    },
    {
      "cell_type": "code",
      "metadata": {
        "colab": {
          "base_uri": "https://localhost:8080/",
          "height": 896
        },
        "id": "fLxIl9sgdpF-",
        "outputId": "aa2b1103-f8b1-4469-b468-9d3f457dee5f"
      },
      "source": [
        "y <- data.frame(x1 = c('A','B','C'), x2 = 1:3)\n",
        "z <- data.frame(x1 = c('B','C','D'), x2 = 2:4)\n",
        "bind_cols(y, z)\n",
        "bind_rows(y, z)\n",
        "union(y, z)\n",
        "intersect(y, z)\n",
        "setdiff(y, z)"
      ],
      "execution_count": 223,
      "outputs": [
        {
          "output_type": "stream",
          "text": [
            "New names:\n",
            "* x1 -> x1...1\n",
            "* x2 -> x2...2\n",
            "* x1 -> x1...3\n",
            "* x2 -> x2...4\n",
            "\n"
          ],
          "name": "stderr"
        },
        {
          "output_type": "display_data",
          "data": {
            "text/plain": [
              "  x1...1 x2...2 x1...3 x2...4\n",
              "1 A      1      B      2     \n",
              "2 B      2      C      3     \n",
              "3 C      3      D      4     "
            ],
            "text/latex": "A data.frame: 3 × 4\n\\begin{tabular}{llll}\n x1...1 & x2...2 & x1...3 & x2...4\\\\\n <chr> & <int> & <chr> & <int>\\\\\n\\hline\n\t A & 1 & B & 2\\\\\n\t B & 2 & C & 3\\\\\n\t C & 3 & D & 4\\\\\n\\end{tabular}\n",
            "text/markdown": "\nA data.frame: 3 × 4\n\n| x1...1 &lt;chr&gt; | x2...2 &lt;int&gt; | x1...3 &lt;chr&gt; | x2...4 &lt;int&gt; |\n|---|---|---|---|\n| A | 1 | B | 2 |\n| B | 2 | C | 3 |\n| C | 3 | D | 4 |\n\n",
            "text/html": [
              "<table>\n",
              "<caption>A data.frame: 3 × 4</caption>\n",
              "<thead>\n",
              "\t<tr><th scope=col>x1...1</th><th scope=col>x2...2</th><th scope=col>x1...3</th><th scope=col>x2...4</th></tr>\n",
              "\t<tr><th scope=col>&lt;chr&gt;</th><th scope=col>&lt;int&gt;</th><th scope=col>&lt;chr&gt;</th><th scope=col>&lt;int&gt;</th></tr>\n",
              "</thead>\n",
              "<tbody>\n",
              "\t<tr><td>A</td><td>1</td><td>B</td><td>2</td></tr>\n",
              "\t<tr><td>B</td><td>2</td><td>C</td><td>3</td></tr>\n",
              "\t<tr><td>C</td><td>3</td><td>D</td><td>4</td></tr>\n",
              "</tbody>\n",
              "</table>\n"
            ]
          },
          "metadata": {
            "tags": []
          }
        },
        {
          "output_type": "display_data",
          "data": {
            "text/plain": [
              "  x1 x2\n",
              "1 A  1 \n",
              "2 B  2 \n",
              "3 C  3 \n",
              "4 B  2 \n",
              "5 C  3 \n",
              "6 D  4 "
            ],
            "text/latex": "A data.frame: 6 × 2\n\\begin{tabular}{ll}\n x1 & x2\\\\\n <chr> & <int>\\\\\n\\hline\n\t A & 1\\\\\n\t B & 2\\\\\n\t C & 3\\\\\n\t B & 2\\\\\n\t C & 3\\\\\n\t D & 4\\\\\n\\end{tabular}\n",
            "text/markdown": "\nA data.frame: 6 × 2\n\n| x1 &lt;chr&gt; | x2 &lt;int&gt; |\n|---|---|\n| A | 1 |\n| B | 2 |\n| C | 3 |\n| B | 2 |\n| C | 3 |\n| D | 4 |\n\n",
            "text/html": [
              "<table>\n",
              "<caption>A data.frame: 6 × 2</caption>\n",
              "<thead>\n",
              "\t<tr><th scope=col>x1</th><th scope=col>x2</th></tr>\n",
              "\t<tr><th scope=col>&lt;chr&gt;</th><th scope=col>&lt;int&gt;</th></tr>\n",
              "</thead>\n",
              "<tbody>\n",
              "\t<tr><td>A</td><td>1</td></tr>\n",
              "\t<tr><td>B</td><td>2</td></tr>\n",
              "\t<tr><td>C</td><td>3</td></tr>\n",
              "\t<tr><td>B</td><td>2</td></tr>\n",
              "\t<tr><td>C</td><td>3</td></tr>\n",
              "\t<tr><td>D</td><td>4</td></tr>\n",
              "</tbody>\n",
              "</table>\n"
            ]
          },
          "metadata": {
            "tags": []
          }
        },
        {
          "output_type": "display_data",
          "data": {
            "text/plain": [
              "  x1 x2\n",
              "1 A  1 \n",
              "2 B  2 \n",
              "3 C  3 \n",
              "4 D  4 "
            ],
            "text/latex": "A data.frame: 4 × 2\n\\begin{tabular}{ll}\n x1 & x2\\\\\n <chr> & <int>\\\\\n\\hline\n\t A & 1\\\\\n\t B & 2\\\\\n\t C & 3\\\\\n\t D & 4\\\\\n\\end{tabular}\n",
            "text/markdown": "\nA data.frame: 4 × 2\n\n| x1 &lt;chr&gt; | x2 &lt;int&gt; |\n|---|---|\n| A | 1 |\n| B | 2 |\n| C | 3 |\n| D | 4 |\n\n",
            "text/html": [
              "<table>\n",
              "<caption>A data.frame: 4 × 2</caption>\n",
              "<thead>\n",
              "\t<tr><th scope=col>x1</th><th scope=col>x2</th></tr>\n",
              "\t<tr><th scope=col>&lt;chr&gt;</th><th scope=col>&lt;int&gt;</th></tr>\n",
              "</thead>\n",
              "<tbody>\n",
              "\t<tr><td>A</td><td>1</td></tr>\n",
              "\t<tr><td>B</td><td>2</td></tr>\n",
              "\t<tr><td>C</td><td>3</td></tr>\n",
              "\t<tr><td>D</td><td>4</td></tr>\n",
              "</tbody>\n",
              "</table>\n"
            ]
          },
          "metadata": {
            "tags": []
          }
        },
        {
          "output_type": "display_data",
          "data": {
            "text/plain": [
              "  x1 x2\n",
              "1 B  2 \n",
              "2 C  3 "
            ],
            "text/latex": "A data.frame: 2 × 2\n\\begin{tabular}{ll}\n x1 & x2\\\\\n <chr> & <int>\\\\\n\\hline\n\t B & 2\\\\\n\t C & 3\\\\\n\\end{tabular}\n",
            "text/markdown": "\nA data.frame: 2 × 2\n\n| x1 &lt;chr&gt; | x2 &lt;int&gt; |\n|---|---|\n| B | 2 |\n| C | 3 |\n\n",
            "text/html": [
              "<table>\n",
              "<caption>A data.frame: 2 × 2</caption>\n",
              "<thead>\n",
              "\t<tr><th scope=col>x1</th><th scope=col>x2</th></tr>\n",
              "\t<tr><th scope=col>&lt;chr&gt;</th><th scope=col>&lt;int&gt;</th></tr>\n",
              "</thead>\n",
              "<tbody>\n",
              "\t<tr><td>B</td><td>2</td></tr>\n",
              "\t<tr><td>C</td><td>3</td></tr>\n",
              "</tbody>\n",
              "</table>\n"
            ]
          },
          "metadata": {
            "tags": []
          }
        },
        {
          "output_type": "display_data",
          "data": {
            "text/plain": [
              "  x1 x2\n",
              "1 A  1 "
            ],
            "text/latex": "A data.frame: 1 × 2\n\\begin{tabular}{ll}\n x1 & x2\\\\\n <chr> & <int>\\\\\n\\hline\n\t A & 1\\\\\n\\end{tabular}\n",
            "text/markdown": "\nA data.frame: 1 × 2\n\n| x1 &lt;chr&gt; | x2 &lt;int&gt; |\n|---|---|\n| A | 1 |\n\n",
            "text/html": [
              "<table>\n",
              "<caption>A data.frame: 1 × 2</caption>\n",
              "<thead>\n",
              "\t<tr><th scope=col>x1</th><th scope=col>x2</th></tr>\n",
              "\t<tr><th scope=col>&lt;chr&gt;</th><th scope=col>&lt;int&gt;</th></tr>\n",
              "</thead>\n",
              "<tbody>\n",
              "\t<tr><td>A</td><td>1</td></tr>\n",
              "</tbody>\n",
              "</table>\n"
            ]
          },
          "metadata": {
            "tags": []
          }
        }
      ]
    },
    {
      "cell_type": "code",
      "metadata": {
        "colab": {
          "base_uri": "https://localhost:8080/",
          "height": 509
        },
        "id": "l8aOJK4Wdu_o",
        "outputId": "7a873b7a-24af-459b-fdd9-8b89214e5395"
      },
      "source": [
        "songs <- data.frame(song = c(\"Across the Universe\", \"Come Together\", \"Hello Goodbye\", \"Peggy Sue\"),\n",
        "                    name = c(\"John\",\"John\",\"Paul\",\"Buddy\"))\n",
        "artists <- data.frame(name = c(\"George\",\"John\",\"Paul\",\"Ringo\"),\n",
        "                      plays = c(\"sitar\",\"guitar\",\"bass\", \"drums\"))\n",
        "left_join(songs, artists, by = \"name\")\n",
        "inner_join(songs, artists, by = \"name\")\n",
        "semi_join(songs, artists, by = \"name\")\n",
        "anti_join(songs, artists, by = \"name\")\n"
      ],
      "execution_count": 224,
      "outputs": [
        {
          "output_type": "display_data",
          "data": {
            "text/plain": [
              "  song                name  plays \n",
              "1 Across the Universe John  guitar\n",
              "2 Come Together       John  guitar\n",
              "3 Hello Goodbye       Paul  bass  \n",
              "4 Peggy Sue           Buddy NA    "
            ],
            "text/latex": "A data.frame: 4 × 3\n\\begin{tabular}{lll}\n song & name & plays\\\\\n <chr> & <chr> & <chr>\\\\\n\\hline\n\t Across the Universe & John  & guitar\\\\\n\t Come Together       & John  & guitar\\\\\n\t Hello Goodbye       & Paul  & bass  \\\\\n\t Peggy Sue           & Buddy & NA    \\\\\n\\end{tabular}\n",
            "text/markdown": "\nA data.frame: 4 × 3\n\n| song &lt;chr&gt; | name &lt;chr&gt; | plays &lt;chr&gt; |\n|---|---|---|\n| Across the Universe | John  | guitar |\n| Come Together       | John  | guitar |\n| Hello Goodbye       | Paul  | bass   |\n| Peggy Sue           | Buddy | NA     |\n\n",
            "text/html": [
              "<table>\n",
              "<caption>A data.frame: 4 × 3</caption>\n",
              "<thead>\n",
              "\t<tr><th scope=col>song</th><th scope=col>name</th><th scope=col>plays</th></tr>\n",
              "\t<tr><th scope=col>&lt;chr&gt;</th><th scope=col>&lt;chr&gt;</th><th scope=col>&lt;chr&gt;</th></tr>\n",
              "</thead>\n",
              "<tbody>\n",
              "\t<tr><td>Across the Universe</td><td>John </td><td>guitar</td></tr>\n",
              "\t<tr><td>Come Together      </td><td>John </td><td>guitar</td></tr>\n",
              "\t<tr><td>Hello Goodbye      </td><td>Paul </td><td>bass  </td></tr>\n",
              "\t<tr><td>Peggy Sue          </td><td>Buddy</td><td>NA    </td></tr>\n",
              "</tbody>\n",
              "</table>\n"
            ]
          },
          "metadata": {
            "tags": []
          }
        },
        {
          "output_type": "display_data",
          "data": {
            "text/plain": [
              "  song                name plays \n",
              "1 Across the Universe John guitar\n",
              "2 Come Together       John guitar\n",
              "3 Hello Goodbye       Paul bass  "
            ],
            "text/latex": "A data.frame: 3 × 3\n\\begin{tabular}{lll}\n song & name & plays\\\\\n <chr> & <chr> & <chr>\\\\\n\\hline\n\t Across the Universe & John & guitar\\\\\n\t Come Together       & John & guitar\\\\\n\t Hello Goodbye       & Paul & bass  \\\\\n\\end{tabular}\n",
            "text/markdown": "\nA data.frame: 3 × 3\n\n| song &lt;chr&gt; | name &lt;chr&gt; | plays &lt;chr&gt; |\n|---|---|---|\n| Across the Universe | John | guitar |\n| Come Together       | John | guitar |\n| Hello Goodbye       | Paul | bass   |\n\n",
            "text/html": [
              "<table>\n",
              "<caption>A data.frame: 3 × 3</caption>\n",
              "<thead>\n",
              "\t<tr><th scope=col>song</th><th scope=col>name</th><th scope=col>plays</th></tr>\n",
              "\t<tr><th scope=col>&lt;chr&gt;</th><th scope=col>&lt;chr&gt;</th><th scope=col>&lt;chr&gt;</th></tr>\n",
              "</thead>\n",
              "<tbody>\n",
              "\t<tr><td>Across the Universe</td><td>John</td><td>guitar</td></tr>\n",
              "\t<tr><td>Come Together      </td><td>John</td><td>guitar</td></tr>\n",
              "\t<tr><td>Hello Goodbye      </td><td>Paul</td><td>bass  </td></tr>\n",
              "</tbody>\n",
              "</table>\n"
            ]
          },
          "metadata": {
            "tags": []
          }
        },
        {
          "output_type": "display_data",
          "data": {
            "text/plain": [
              "  song                name\n",
              "1 Across the Universe John\n",
              "2 Come Together       John\n",
              "3 Hello Goodbye       Paul"
            ],
            "text/latex": "A data.frame: 3 × 2\n\\begin{tabular}{ll}\n song & name\\\\\n <chr> & <chr>\\\\\n\\hline\n\t Across the Universe & John\\\\\n\t Come Together       & John\\\\\n\t Hello Goodbye       & Paul\\\\\n\\end{tabular}\n",
            "text/markdown": "\nA data.frame: 3 × 2\n\n| song &lt;chr&gt; | name &lt;chr&gt; |\n|---|---|\n| Across the Universe | John |\n| Come Together       | John |\n| Hello Goodbye       | Paul |\n\n",
            "text/html": [
              "<table>\n",
              "<caption>A data.frame: 3 × 2</caption>\n",
              "<thead>\n",
              "\t<tr><th scope=col>song</th><th scope=col>name</th></tr>\n",
              "\t<tr><th scope=col>&lt;chr&gt;</th><th scope=col>&lt;chr&gt;</th></tr>\n",
              "</thead>\n",
              "<tbody>\n",
              "\t<tr><td>Across the Universe</td><td>John</td></tr>\n",
              "\t<tr><td>Come Together      </td><td>John</td></tr>\n",
              "\t<tr><td>Hello Goodbye      </td><td>Paul</td></tr>\n",
              "</tbody>\n",
              "</table>\n"
            ]
          },
          "metadata": {
            "tags": []
          }
        },
        {
          "output_type": "display_data",
          "data": {
            "text/plain": [
              "  song      name \n",
              "1 Peggy Sue Buddy"
            ],
            "text/latex": "A data.frame: 1 × 2\n\\begin{tabular}{ll}\n song & name\\\\\n <chr> & <chr>\\\\\n\\hline\n\t Peggy Sue & Buddy\\\\\n\\end{tabular}\n",
            "text/markdown": "\nA data.frame: 1 × 2\n\n| song &lt;chr&gt; | name &lt;chr&gt; |\n|---|---|\n| Peggy Sue | Buddy |\n\n",
            "text/html": [
              "<table>\n",
              "<caption>A data.frame: 1 × 2</caption>\n",
              "<thead>\n",
              "\t<tr><th scope=col>song</th><th scope=col>name</th></tr>\n",
              "\t<tr><th scope=col>&lt;chr&gt;</th><th scope=col>&lt;chr&gt;</th></tr>\n",
              "</thead>\n",
              "<tbody>\n",
              "\t<tr><td>Peggy Sue</td><td>Buddy</td></tr>\n",
              "</tbody>\n",
              "</table>\n"
            ]
          },
          "metadata": {
            "tags": []
          }
        }
      ]
    },
    {
      "cell_type": "code",
      "metadata": {
        "id": "dqBqMlipdwX5"
      },
      "source": [
        ""
      ],
      "execution_count": null,
      "outputs": []
    }
  ]
}