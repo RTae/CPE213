{
  "nbformat": 4,
  "nbformat_minor": 0,
  "metadata": {
    "colab": {
      "name": "CPE213_Lecture.ipynb",
      "provenance": [],
      "authorship_tag": "ABX9TyO82DjjHk3NIVbX+CnXS/8j",
      "include_colab_link": true
    },
    "kernelspec": {
      "name": "ir",
      "display_name": "R"
    }
  },
  "cells": [
    {
      "cell_type": "markdown",
      "metadata": {
        "id": "view-in-github",
        "colab_type": "text"
      },
      "source": [
        "<a href=\"https://colab.research.google.com/github/RTae/CPE213/blob/main/week4/script/CPE213_Lecture_Code.ipynb\" target=\"_parent\"><img src=\"https://colab.research.google.com/assets/colab-badge.svg\" alt=\"Open In Colab\"/></a>"
      ]
    },
    {
      "cell_type": "code",
      "metadata": {
        "colab": {
          "base_uri": "https://localhost:8080/"
        },
        "id": "uDsptZEhFjiX",
        "outputId": "5506e829-04a1-4d84-f91c-e45301e37940"
      },
      "source": [
        "library(\"tidyverse\")"
      ],
      "execution_count": 1,
      "outputs": [
        {
          "output_type": "stream",
          "text": [
            "── \u001b[1mAttaching packages\u001b[22m ─────────────────────────────────────── tidyverse 1.3.0 ──\n",
            "\n",
            "\u001b[32m✔\u001b[39m \u001b[34mggplot2\u001b[39m 3.3.3     \u001b[32m✔\u001b[39m \u001b[34mpurrr  \u001b[39m 0.3.4\n",
            "\u001b[32m✔\u001b[39m \u001b[34mtibble \u001b[39m 3.0.6     \u001b[32m✔\u001b[39m \u001b[34mdplyr  \u001b[39m 1.0.4\n",
            "\u001b[32m✔\u001b[39m \u001b[34mtidyr  \u001b[39m 1.1.2     \u001b[32m✔\u001b[39m \u001b[34mstringr\u001b[39m 1.4.0\n",
            "\u001b[32m✔\u001b[39m \u001b[34mreadr  \u001b[39m 1.4.0     \u001b[32m✔\u001b[39m \u001b[34mforcats\u001b[39m 0.5.1\n",
            "\n",
            "── \u001b[1mConflicts\u001b[22m ────────────────────────────────────────── tidyverse_conflicts() ──\n",
            "\u001b[31m✖\u001b[39m \u001b[34mdplyr\u001b[39m::\u001b[32mfilter()\u001b[39m masks \u001b[34mstats\u001b[39m::filter()\n",
            "\u001b[31m✖\u001b[39m \u001b[34mdplyr\u001b[39m::\u001b[32mlag()\u001b[39m    masks \u001b[34mstats\u001b[39m::lag()\n",
            "\n"
          ],
          "name": "stderr"
        }
      ]
    },
    {
      "cell_type": "code",
      "metadata": {
        "id": "DbF00vJTF9cK"
      },
      "source": [
        "bankData <- read.csv('/content/bank-data.csv', sep=';')"
      ],
      "execution_count": 2,
      "outputs": []
    },
    {
      "cell_type": "markdown",
      "metadata": {
        "id": "vFp99m-7GyXT"
      },
      "source": [
        "# Import data"
      ]
    },
    {
      "cell_type": "code",
      "metadata": {
        "colab": {
          "base_uri": "https://localhost:8080/",
          "height": 1000
        },
        "id": "7U8k61X7GGFW",
        "outputId": "0f5c4844-c152-47ba-f4b7-18cc221a3ee4"
      },
      "source": [
        "bankData"
      ],
      "execution_count": 3,
      "outputs": [
        {
          "output_type": "display_data",
          "data": {
            "text/plain": [
              "      age job           marital  education default balance housing loan\n",
              "1     58  management    married  tertiary  no      2143    yes     no  \n",
              "2     44  technician    single   secondary no        29    yes     no  \n",
              "3     33  entrepreneur  married  secondary no         2    yes     yes \n",
              "4     47  blue-collar   married  unknown   no      1506    yes     no  \n",
              "5     33  unknown       single   unknown   no         1    no      no  \n",
              "6     35  management    married  tertiary  no       231    yes     no  \n",
              "7     28  management    single   tertiary  no       447    yes     yes \n",
              "8     42  entrepreneur  divorced tertiary  yes        2    yes     no  \n",
              "9     58  retired       married  primary   no       121    yes     no  \n",
              "10    43  technician    single   secondary no       593    yes     no  \n",
              "11    41  admin.        divorced secondary no       270    yes     no  \n",
              "12    29  admin.        single   secondary no       390    yes     no  \n",
              "13    53  technician    married  secondary no         6    yes     no  \n",
              "14    58  technician    married  unknown   no        71    yes     no  \n",
              "15    57  services      married  secondary no       162    yes     no  \n",
              "16    51  retired       married  primary   no       229    yes     no  \n",
              "17    45  admin.        single   unknown   no        13    yes     no  \n",
              "18    57  blue-collar   married  primary   no        52    yes     no  \n",
              "19    60  retired       married  primary   no        60    yes     no  \n",
              "20    33  services      married  secondary no         0    yes     no  \n",
              "21    28  blue-collar   married  secondary no       723    yes     yes \n",
              "22    56  management    married  tertiary  no       779    yes     no  \n",
              "23    32  blue-collar   single   primary   no        23    yes     yes \n",
              "24    25  services      married  secondary no        50    yes     no  \n",
              "25    40  retired       married  primary   no         0    yes     yes \n",
              "26    44  admin.        married  secondary no      -372    yes     no  \n",
              "27    39  management    single   tertiary  no       255    yes     no  \n",
              "28    52  entrepreneur  married  secondary no       113    yes     yes \n",
              "29    46  management    single   secondary no      -246    yes     no  \n",
              "30    36  technician    single   secondary no       265    yes     yes \n",
              "⋮     ⋮   ⋮             ⋮        ⋮         ⋮       ⋮       ⋮       ⋮   \n",
              "45182 46  blue-collar   married  secondary no      6879    no      no  \n",
              "45183 34  technician    married  secondary no       133    no      no  \n",
              "45184 70  retired       married  primary   no       324    no      no  \n",
              "45185 63  retired       married  secondary no      1495    no      no  \n",
              "45186 60  services      married  tertiary  no      4256    yes     no  \n",
              "45187 59  unknown       married  unknown   no      1500    no      no  \n",
              "45188 32  services      single   secondary no      1168    yes     no  \n",
              "45189 29  management    single   secondary no       703    yes     no  \n",
              "45190 25  services      single   secondary no       199    no      no  \n",
              "45191 32  blue-collar   married  secondary no       136    no      no  \n",
              "45192 75  retired       divorced tertiary  no      3810    yes     no  \n",
              "45193 29  management    single   tertiary  no       765    no      no  \n",
              "45194 28  self-employed single   tertiary  no       159    no      no  \n",
              "45195 59  management    married  tertiary  no       138    yes     yes \n",
              "45196 68  retired       married  secondary no      1146    no      no  \n",
              "45197 25  student       single   secondary no       358    no      no  \n",
              "45198 36  management    single   secondary no      1511    yes     no  \n",
              "45199 37  management    married  tertiary  no      1428    no      no  \n",
              "45200 34  blue-collar   single   secondary no      1475    yes     no  \n",
              "45201 38  technician    married  secondary no       557    yes     no  \n",
              "45202 53  management    married  tertiary  no       583    no      no  \n",
              "45203 34  admin.        single   secondary no       557    no      no  \n",
              "45204 23  student       single   tertiary  no       113    no      no  \n",
              "45205 73  retired       married  secondary no      2850    no      no  \n",
              "45206 25  technician    single   secondary no       505    no      yes \n",
              "45207 51  technician    married  tertiary  no       825    no      no  \n",
              "45208 71  retired       divorced primary   no      1729    no      no  \n",
              "45209 72  retired       married  secondary no      5715    no      no  \n",
              "45210 57  blue-collar   married  secondary no       668    no      no  \n",
              "45211 37  entrepreneur  married  secondary no      2971    no      no  \n",
              "      contact   day month duration campaign pdays previous poutcome y  \n",
              "1     unknown   5   may   261      1        -1    0        unknown  no \n",
              "2     unknown   5   may   151      1        -1    0        unknown  no \n",
              "3     unknown   5   may    76      1        -1    0        unknown  no \n",
              "4     unknown   5   may    92      1        -1    0        unknown  no \n",
              "5     unknown   5   may   198      1        -1    0        unknown  no \n",
              "6     unknown   5   may   139      1        -1    0        unknown  no \n",
              "7     unknown   5   may   217      1        -1    0        unknown  no \n",
              "8     unknown   5   may   380      1        -1    0        unknown  no \n",
              "9     unknown   5   may    50      1        -1    0        unknown  no \n",
              "10    unknown   5   may    55      1        -1    0        unknown  no \n",
              "11    unknown   5   may   222      1        -1    0        unknown  no \n",
              "12    unknown   5   may   137      1        -1    0        unknown  no \n",
              "13    unknown   5   may   517      1        -1    0        unknown  no \n",
              "14    unknown   5   may    71      1        -1    0        unknown  no \n",
              "15    unknown   5   may   174      1        -1    0        unknown  no \n",
              "16    unknown   5   may   353      1        -1    0        unknown  no \n",
              "17    unknown   5   may    98      1        -1    0        unknown  no \n",
              "18    unknown   5   may    38      1        -1    0        unknown  no \n",
              "19    unknown   5   may   219      1        -1    0        unknown  no \n",
              "20    unknown   5   may    54      1        -1    0        unknown  no \n",
              "21    unknown   5   may   262      1        -1    0        unknown  no \n",
              "22    unknown   5   may   164      1        -1    0        unknown  no \n",
              "23    unknown   5   may   160      1        -1    0        unknown  no \n",
              "24    unknown   5   may   342      1        -1    0        unknown  no \n",
              "25    unknown   5   may   181      1        -1    0        unknown  no \n",
              "26    unknown   5   may   172      1        -1    0        unknown  no \n",
              "27    unknown   5   may   296      1        -1    0        unknown  no \n",
              "28    unknown   5   may   127      1        -1    0        unknown  no \n",
              "29    unknown   5   may   255      2        -1    0        unknown  no \n",
              "30    unknown   5   may   348      1        -1    0        unknown  no \n",
              "⋮     ⋮         ⋮   ⋮     ⋮        ⋮        ⋮     ⋮        ⋮        ⋮  \n",
              "45182 cellular  15  nov     74     2        118    3       failure  no \n",
              "45183 cellular  15  nov    401     2        187    5       success  yes\n",
              "45184 cellular  15  nov     78     1         96    7       success  no \n",
              "45185 cellular  16  nov    138     1         22    5       success  no \n",
              "45186 cellular  16  nov    200     1         92    4       success  yes\n",
              "45187 cellular  16  nov    280     1        104    2       failure  no \n",
              "45188 cellular  16  nov    411     1         -1    0       unknown  yes\n",
              "45189 cellular  16  nov    236     1        550    2       success  yes\n",
              "45190 cellular  16  nov    173     1         92    5       failure  no \n",
              "45191 cellular  16  nov    206     1        188    3       success  yes\n",
              "45192 cellular  16  nov    262     1        183    1       failure  yes\n",
              "45193 cellular  16  nov    238     1         -1    0       unknown  yes\n",
              "45194 cellular  16  nov    449     2         33    4       success  yes\n",
              "45195 cellular  16  nov    162     2        187    5       failure  no \n",
              "45196 cellular  16  nov    212     1        187    6       success  yes\n",
              "45197 cellular  16  nov    330     1         -1    0       unknown  yes\n",
              "45198 cellular  16  nov    270     1         -1    0       unknown  yes\n",
              "45199 cellular  16  nov    333     2         -1    0       unknown  no \n",
              "45200 cellular  16  nov   1166     3        530   12       other    no \n",
              "45201 cellular  16  nov   1556     4         -1    0       unknown  yes\n",
              "45202 cellular  17  nov    226     1        184    4       success  yes\n",
              "45203 cellular  17  nov    224     1         -1    0       unknown  yes\n",
              "45204 cellular  17  nov    266     1         -1    0       unknown  yes\n",
              "45205 cellular  17  nov    300     1         40    8       failure  yes\n",
              "45206 cellular  17  nov    386     2         -1    0       unknown  yes\n",
              "45207 cellular  17  nov    977     3         -1    0       unknown  yes\n",
              "45208 cellular  17  nov    456     2         -1    0       unknown  yes\n",
              "45209 cellular  17  nov   1127     5        184    3       success  yes\n",
              "45210 telephone 17  nov    508     4         -1    0       unknown  no \n",
              "45211 cellular  17  nov    361     2        188   11       other    no "
            ],
            "text/latex": "A data.frame: 45211 × 17\n\\begin{tabular}{lllllllllllllllll}\n age & job & marital & education & default & balance & housing & loan & contact & day & month & duration & campaign & pdays & previous & poutcome & y\\\\\n <int> & <chr> & <chr> & <chr> & <chr> & <int> & <chr> & <chr> & <chr> & <int> & <chr> & <int> & <int> & <int> & <int> & <chr> & <chr>\\\\\n\\hline\n\t 58 & management   & married  & tertiary  & no  & 2143 & yes & no  & unknown & 5 & may & 261 & 1 & -1 & 0 & unknown & no\\\\\n\t 44 & technician   & single   & secondary & no  &   29 & yes & no  & unknown & 5 & may & 151 & 1 & -1 & 0 & unknown & no\\\\\n\t 33 & entrepreneur & married  & secondary & no  &    2 & yes & yes & unknown & 5 & may &  76 & 1 & -1 & 0 & unknown & no\\\\\n\t 47 & blue-collar  & married  & unknown   & no  & 1506 & yes & no  & unknown & 5 & may &  92 & 1 & -1 & 0 & unknown & no\\\\\n\t 33 & unknown      & single   & unknown   & no  &    1 & no  & no  & unknown & 5 & may & 198 & 1 & -1 & 0 & unknown & no\\\\\n\t 35 & management   & married  & tertiary  & no  &  231 & yes & no  & unknown & 5 & may & 139 & 1 & -1 & 0 & unknown & no\\\\\n\t 28 & management   & single   & tertiary  & no  &  447 & yes & yes & unknown & 5 & may & 217 & 1 & -1 & 0 & unknown & no\\\\\n\t 42 & entrepreneur & divorced & tertiary  & yes &    2 & yes & no  & unknown & 5 & may & 380 & 1 & -1 & 0 & unknown & no\\\\\n\t 58 & retired      & married  & primary   & no  &  121 & yes & no  & unknown & 5 & may &  50 & 1 & -1 & 0 & unknown & no\\\\\n\t 43 & technician   & single   & secondary & no  &  593 & yes & no  & unknown & 5 & may &  55 & 1 & -1 & 0 & unknown & no\\\\\n\t 41 & admin.       & divorced & secondary & no  &  270 & yes & no  & unknown & 5 & may & 222 & 1 & -1 & 0 & unknown & no\\\\\n\t 29 & admin.       & single   & secondary & no  &  390 & yes & no  & unknown & 5 & may & 137 & 1 & -1 & 0 & unknown & no\\\\\n\t 53 & technician   & married  & secondary & no  &    6 & yes & no  & unknown & 5 & may & 517 & 1 & -1 & 0 & unknown & no\\\\\n\t 58 & technician   & married  & unknown   & no  &   71 & yes & no  & unknown & 5 & may &  71 & 1 & -1 & 0 & unknown & no\\\\\n\t 57 & services     & married  & secondary & no  &  162 & yes & no  & unknown & 5 & may & 174 & 1 & -1 & 0 & unknown & no\\\\\n\t 51 & retired      & married  & primary   & no  &  229 & yes & no  & unknown & 5 & may & 353 & 1 & -1 & 0 & unknown & no\\\\\n\t 45 & admin.       & single   & unknown   & no  &   13 & yes & no  & unknown & 5 & may &  98 & 1 & -1 & 0 & unknown & no\\\\\n\t 57 & blue-collar  & married  & primary   & no  &   52 & yes & no  & unknown & 5 & may &  38 & 1 & -1 & 0 & unknown & no\\\\\n\t 60 & retired      & married  & primary   & no  &   60 & yes & no  & unknown & 5 & may & 219 & 1 & -1 & 0 & unknown & no\\\\\n\t 33 & services     & married  & secondary & no  &    0 & yes & no  & unknown & 5 & may &  54 & 1 & -1 & 0 & unknown & no\\\\\n\t 28 & blue-collar  & married  & secondary & no  &  723 & yes & yes & unknown & 5 & may & 262 & 1 & -1 & 0 & unknown & no\\\\\n\t 56 & management   & married  & tertiary  & no  &  779 & yes & no  & unknown & 5 & may & 164 & 1 & -1 & 0 & unknown & no\\\\\n\t 32 & blue-collar  & single   & primary   & no  &   23 & yes & yes & unknown & 5 & may & 160 & 1 & -1 & 0 & unknown & no\\\\\n\t 25 & services     & married  & secondary & no  &   50 & yes & no  & unknown & 5 & may & 342 & 1 & -1 & 0 & unknown & no\\\\\n\t 40 & retired      & married  & primary   & no  &    0 & yes & yes & unknown & 5 & may & 181 & 1 & -1 & 0 & unknown & no\\\\\n\t 44 & admin.       & married  & secondary & no  & -372 & yes & no  & unknown & 5 & may & 172 & 1 & -1 & 0 & unknown & no\\\\\n\t 39 & management   & single   & tertiary  & no  &  255 & yes & no  & unknown & 5 & may & 296 & 1 & -1 & 0 & unknown & no\\\\\n\t 52 & entrepreneur & married  & secondary & no  &  113 & yes & yes & unknown & 5 & may & 127 & 1 & -1 & 0 & unknown & no\\\\\n\t 46 & management   & single   & secondary & no  & -246 & yes & no  & unknown & 5 & may & 255 & 2 & -1 & 0 & unknown & no\\\\\n\t 36 & technician   & single   & secondary & no  &  265 & yes & yes & unknown & 5 & may & 348 & 1 & -1 & 0 & unknown & no\\\\\n\t ⋮ & ⋮ & ⋮ & ⋮ & ⋮ & ⋮ & ⋮ & ⋮ & ⋮ & ⋮ & ⋮ & ⋮ & ⋮ & ⋮ & ⋮ & ⋮ & ⋮\\\\\n\t 46 & blue-collar   & married  & secondary & no & 6879 & no  & no  & cellular  & 15 & nov &   74 & 2 & 118 &  3 & failure & no \\\\\n\t 34 & technician    & married  & secondary & no &  133 & no  & no  & cellular  & 15 & nov &  401 & 2 & 187 &  5 & success & yes\\\\\n\t 70 & retired       & married  & primary   & no &  324 & no  & no  & cellular  & 15 & nov &   78 & 1 &  96 &  7 & success & no \\\\\n\t 63 & retired       & married  & secondary & no & 1495 & no  & no  & cellular  & 16 & nov &  138 & 1 &  22 &  5 & success & no \\\\\n\t 60 & services      & married  & tertiary  & no & 4256 & yes & no  & cellular  & 16 & nov &  200 & 1 &  92 &  4 & success & yes\\\\\n\t 59 & unknown       & married  & unknown   & no & 1500 & no  & no  & cellular  & 16 & nov &  280 & 1 & 104 &  2 & failure & no \\\\\n\t 32 & services      & single   & secondary & no & 1168 & yes & no  & cellular  & 16 & nov &  411 & 1 &  -1 &  0 & unknown & yes\\\\\n\t 29 & management    & single   & secondary & no &  703 & yes & no  & cellular  & 16 & nov &  236 & 1 & 550 &  2 & success & yes\\\\\n\t 25 & services      & single   & secondary & no &  199 & no  & no  & cellular  & 16 & nov &  173 & 1 &  92 &  5 & failure & no \\\\\n\t 32 & blue-collar   & married  & secondary & no &  136 & no  & no  & cellular  & 16 & nov &  206 & 1 & 188 &  3 & success & yes\\\\\n\t 75 & retired       & divorced & tertiary  & no & 3810 & yes & no  & cellular  & 16 & nov &  262 & 1 & 183 &  1 & failure & yes\\\\\n\t 29 & management    & single   & tertiary  & no &  765 & no  & no  & cellular  & 16 & nov &  238 & 1 &  -1 &  0 & unknown & yes\\\\\n\t 28 & self-employed & single   & tertiary  & no &  159 & no  & no  & cellular  & 16 & nov &  449 & 2 &  33 &  4 & success & yes\\\\\n\t 59 & management    & married  & tertiary  & no &  138 & yes & yes & cellular  & 16 & nov &  162 & 2 & 187 &  5 & failure & no \\\\\n\t 68 & retired       & married  & secondary & no & 1146 & no  & no  & cellular  & 16 & nov &  212 & 1 & 187 &  6 & success & yes\\\\\n\t 25 & student       & single   & secondary & no &  358 & no  & no  & cellular  & 16 & nov &  330 & 1 &  -1 &  0 & unknown & yes\\\\\n\t 36 & management    & single   & secondary & no & 1511 & yes & no  & cellular  & 16 & nov &  270 & 1 &  -1 &  0 & unknown & yes\\\\\n\t 37 & management    & married  & tertiary  & no & 1428 & no  & no  & cellular  & 16 & nov &  333 & 2 &  -1 &  0 & unknown & no \\\\\n\t 34 & blue-collar   & single   & secondary & no & 1475 & yes & no  & cellular  & 16 & nov & 1166 & 3 & 530 & 12 & other   & no \\\\\n\t 38 & technician    & married  & secondary & no &  557 & yes & no  & cellular  & 16 & nov & 1556 & 4 &  -1 &  0 & unknown & yes\\\\\n\t 53 & management    & married  & tertiary  & no &  583 & no  & no  & cellular  & 17 & nov &  226 & 1 & 184 &  4 & success & yes\\\\\n\t 34 & admin.        & single   & secondary & no &  557 & no  & no  & cellular  & 17 & nov &  224 & 1 &  -1 &  0 & unknown & yes\\\\\n\t 23 & student       & single   & tertiary  & no &  113 & no  & no  & cellular  & 17 & nov &  266 & 1 &  -1 &  0 & unknown & yes\\\\\n\t 73 & retired       & married  & secondary & no & 2850 & no  & no  & cellular  & 17 & nov &  300 & 1 &  40 &  8 & failure & yes\\\\\n\t 25 & technician    & single   & secondary & no &  505 & no  & yes & cellular  & 17 & nov &  386 & 2 &  -1 &  0 & unknown & yes\\\\\n\t 51 & technician    & married  & tertiary  & no &  825 & no  & no  & cellular  & 17 & nov &  977 & 3 &  -1 &  0 & unknown & yes\\\\\n\t 71 & retired       & divorced & primary   & no & 1729 & no  & no  & cellular  & 17 & nov &  456 & 2 &  -1 &  0 & unknown & yes\\\\\n\t 72 & retired       & married  & secondary & no & 5715 & no  & no  & cellular  & 17 & nov & 1127 & 5 & 184 &  3 & success & yes\\\\\n\t 57 & blue-collar   & married  & secondary & no &  668 & no  & no  & telephone & 17 & nov &  508 & 4 &  -1 &  0 & unknown & no \\\\\n\t 37 & entrepreneur  & married  & secondary & no & 2971 & no  & no  & cellular  & 17 & nov &  361 & 2 & 188 & 11 & other   & no \\\\\n\\end{tabular}\n",
            "text/markdown": "\nA data.frame: 45211 × 17\n\n| age &lt;int&gt; | job &lt;chr&gt; | marital &lt;chr&gt; | education &lt;chr&gt; | default &lt;chr&gt; | balance &lt;int&gt; | housing &lt;chr&gt; | loan &lt;chr&gt; | contact &lt;chr&gt; | day &lt;int&gt; | month &lt;chr&gt; | duration &lt;int&gt; | campaign &lt;int&gt; | pdays &lt;int&gt; | previous &lt;int&gt; | poutcome &lt;chr&gt; | y &lt;chr&gt; |\n|---|---|---|---|---|---|---|---|---|---|---|---|---|---|---|---|---|\n| 58 | management   | married  | tertiary  | no  | 2143 | yes | no  | unknown | 5 | may | 261 | 1 | -1 | 0 | unknown | no |\n| 44 | technician   | single   | secondary | no  |   29 | yes | no  | unknown | 5 | may | 151 | 1 | -1 | 0 | unknown | no |\n| 33 | entrepreneur | married  | secondary | no  |    2 | yes | yes | unknown | 5 | may |  76 | 1 | -1 | 0 | unknown | no |\n| 47 | blue-collar  | married  | unknown   | no  | 1506 | yes | no  | unknown | 5 | may |  92 | 1 | -1 | 0 | unknown | no |\n| 33 | unknown      | single   | unknown   | no  |    1 | no  | no  | unknown | 5 | may | 198 | 1 | -1 | 0 | unknown | no |\n| 35 | management   | married  | tertiary  | no  |  231 | yes | no  | unknown | 5 | may | 139 | 1 | -1 | 0 | unknown | no |\n| 28 | management   | single   | tertiary  | no  |  447 | yes | yes | unknown | 5 | may | 217 | 1 | -1 | 0 | unknown | no |\n| 42 | entrepreneur | divorced | tertiary  | yes |    2 | yes | no  | unknown | 5 | may | 380 | 1 | -1 | 0 | unknown | no |\n| 58 | retired      | married  | primary   | no  |  121 | yes | no  | unknown | 5 | may |  50 | 1 | -1 | 0 | unknown | no |\n| 43 | technician   | single   | secondary | no  |  593 | yes | no  | unknown | 5 | may |  55 | 1 | -1 | 0 | unknown | no |\n| 41 | admin.       | divorced | secondary | no  |  270 | yes | no  | unknown | 5 | may | 222 | 1 | -1 | 0 | unknown | no |\n| 29 | admin.       | single   | secondary | no  |  390 | yes | no  | unknown | 5 | may | 137 | 1 | -1 | 0 | unknown | no |\n| 53 | technician   | married  | secondary | no  |    6 | yes | no  | unknown | 5 | may | 517 | 1 | -1 | 0 | unknown | no |\n| 58 | technician   | married  | unknown   | no  |   71 | yes | no  | unknown | 5 | may |  71 | 1 | -1 | 0 | unknown | no |\n| 57 | services     | married  | secondary | no  |  162 | yes | no  | unknown | 5 | may | 174 | 1 | -1 | 0 | unknown | no |\n| 51 | retired      | married  | primary   | no  |  229 | yes | no  | unknown | 5 | may | 353 | 1 | -1 | 0 | unknown | no |\n| 45 | admin.       | single   | unknown   | no  |   13 | yes | no  | unknown | 5 | may |  98 | 1 | -1 | 0 | unknown | no |\n| 57 | blue-collar  | married  | primary   | no  |   52 | yes | no  | unknown | 5 | may |  38 | 1 | -1 | 0 | unknown | no |\n| 60 | retired      | married  | primary   | no  |   60 | yes | no  | unknown | 5 | may | 219 | 1 | -1 | 0 | unknown | no |\n| 33 | services     | married  | secondary | no  |    0 | yes | no  | unknown | 5 | may |  54 | 1 | -1 | 0 | unknown | no |\n| 28 | blue-collar  | married  | secondary | no  |  723 | yes | yes | unknown | 5 | may | 262 | 1 | -1 | 0 | unknown | no |\n| 56 | management   | married  | tertiary  | no  |  779 | yes | no  | unknown | 5 | may | 164 | 1 | -1 | 0 | unknown | no |\n| 32 | blue-collar  | single   | primary   | no  |   23 | yes | yes | unknown | 5 | may | 160 | 1 | -1 | 0 | unknown | no |\n| 25 | services     | married  | secondary | no  |   50 | yes | no  | unknown | 5 | may | 342 | 1 | -1 | 0 | unknown | no |\n| 40 | retired      | married  | primary   | no  |    0 | yes | yes | unknown | 5 | may | 181 | 1 | -1 | 0 | unknown | no |\n| 44 | admin.       | married  | secondary | no  | -372 | yes | no  | unknown | 5 | may | 172 | 1 | -1 | 0 | unknown | no |\n| 39 | management   | single   | tertiary  | no  |  255 | yes | no  | unknown | 5 | may | 296 | 1 | -1 | 0 | unknown | no |\n| 52 | entrepreneur | married  | secondary | no  |  113 | yes | yes | unknown | 5 | may | 127 | 1 | -1 | 0 | unknown | no |\n| 46 | management   | single   | secondary | no  | -246 | yes | no  | unknown | 5 | may | 255 | 2 | -1 | 0 | unknown | no |\n| 36 | technician   | single   | secondary | no  |  265 | yes | yes | unknown | 5 | may | 348 | 1 | -1 | 0 | unknown | no |\n| ⋮ | ⋮ | ⋮ | ⋮ | ⋮ | ⋮ | ⋮ | ⋮ | ⋮ | ⋮ | ⋮ | ⋮ | ⋮ | ⋮ | ⋮ | ⋮ | ⋮ |\n| 46 | blue-collar   | married  | secondary | no | 6879 | no  | no  | cellular  | 15 | nov |   74 | 2 | 118 |  3 | failure | no  |\n| 34 | technician    | married  | secondary | no |  133 | no  | no  | cellular  | 15 | nov |  401 | 2 | 187 |  5 | success | yes |\n| 70 | retired       | married  | primary   | no |  324 | no  | no  | cellular  | 15 | nov |   78 | 1 |  96 |  7 | success | no  |\n| 63 | retired       | married  | secondary | no | 1495 | no  | no  | cellular  | 16 | nov |  138 | 1 |  22 |  5 | success | no  |\n| 60 | services      | married  | tertiary  | no | 4256 | yes | no  | cellular  | 16 | nov |  200 | 1 |  92 |  4 | success | yes |\n| 59 | unknown       | married  | unknown   | no | 1500 | no  | no  | cellular  | 16 | nov |  280 | 1 | 104 |  2 | failure | no  |\n| 32 | services      | single   | secondary | no | 1168 | yes | no  | cellular  | 16 | nov |  411 | 1 |  -1 |  0 | unknown | yes |\n| 29 | management    | single   | secondary | no |  703 | yes | no  | cellular  | 16 | nov |  236 | 1 | 550 |  2 | success | yes |\n| 25 | services      | single   | secondary | no |  199 | no  | no  | cellular  | 16 | nov |  173 | 1 |  92 |  5 | failure | no  |\n| 32 | blue-collar   | married  | secondary | no |  136 | no  | no  | cellular  | 16 | nov |  206 | 1 | 188 |  3 | success | yes |\n| 75 | retired       | divorced | tertiary  | no | 3810 | yes | no  | cellular  | 16 | nov |  262 | 1 | 183 |  1 | failure | yes |\n| 29 | management    | single   | tertiary  | no |  765 | no  | no  | cellular  | 16 | nov |  238 | 1 |  -1 |  0 | unknown | yes |\n| 28 | self-employed | single   | tertiary  | no |  159 | no  | no  | cellular  | 16 | nov |  449 | 2 |  33 |  4 | success | yes |\n| 59 | management    | married  | tertiary  | no |  138 | yes | yes | cellular  | 16 | nov |  162 | 2 | 187 |  5 | failure | no  |\n| 68 | retired       | married  | secondary | no | 1146 | no  | no  | cellular  | 16 | nov |  212 | 1 | 187 |  6 | success | yes |\n| 25 | student       | single   | secondary | no |  358 | no  | no  | cellular  | 16 | nov |  330 | 1 |  -1 |  0 | unknown | yes |\n| 36 | management    | single   | secondary | no | 1511 | yes | no  | cellular  | 16 | nov |  270 | 1 |  -1 |  0 | unknown | yes |\n| 37 | management    | married  | tertiary  | no | 1428 | no  | no  | cellular  | 16 | nov |  333 | 2 |  -1 |  0 | unknown | no  |\n| 34 | blue-collar   | single   | secondary | no | 1475 | yes | no  | cellular  | 16 | nov | 1166 | 3 | 530 | 12 | other   | no  |\n| 38 | technician    | married  | secondary | no |  557 | yes | no  | cellular  | 16 | nov | 1556 | 4 |  -1 |  0 | unknown | yes |\n| 53 | management    | married  | tertiary  | no |  583 | no  | no  | cellular  | 17 | nov |  226 | 1 | 184 |  4 | success | yes |\n| 34 | admin.        | single   | secondary | no |  557 | no  | no  | cellular  | 17 | nov |  224 | 1 |  -1 |  0 | unknown | yes |\n| 23 | student       | single   | tertiary  | no |  113 | no  | no  | cellular  | 17 | nov |  266 | 1 |  -1 |  0 | unknown | yes |\n| 73 | retired       | married  | secondary | no | 2850 | no  | no  | cellular  | 17 | nov |  300 | 1 |  40 |  8 | failure | yes |\n| 25 | technician    | single   | secondary | no |  505 | no  | yes | cellular  | 17 | nov |  386 | 2 |  -1 |  0 | unknown | yes |\n| 51 | technician    | married  | tertiary  | no |  825 | no  | no  | cellular  | 17 | nov |  977 | 3 |  -1 |  0 | unknown | yes |\n| 71 | retired       | divorced | primary   | no | 1729 | no  | no  | cellular  | 17 | nov |  456 | 2 |  -1 |  0 | unknown | yes |\n| 72 | retired       | married  | secondary | no | 5715 | no  | no  | cellular  | 17 | nov | 1127 | 5 | 184 |  3 | success | yes |\n| 57 | blue-collar   | married  | secondary | no |  668 | no  | no  | telephone | 17 | nov |  508 | 4 |  -1 |  0 | unknown | no  |\n| 37 | entrepreneur  | married  | secondary | no | 2971 | no  | no  | cellular  | 17 | nov |  361 | 2 | 188 | 11 | other   | no  |\n\n",
            "text/html": [
              "<table class=\"dataframe\">\n",
              "<caption>A data.frame: 45211 × 17</caption>\n",
              "<thead>\n",
              "\t<tr><th scope=col>age</th><th scope=col>job</th><th scope=col>marital</th><th scope=col>education</th><th scope=col>default</th><th scope=col>balance</th><th scope=col>housing</th><th scope=col>loan</th><th scope=col>contact</th><th scope=col>day</th><th scope=col>month</th><th scope=col>duration</th><th scope=col>campaign</th><th scope=col>pdays</th><th scope=col>previous</th><th scope=col>poutcome</th><th scope=col>y</th></tr>\n",
              "\t<tr><th scope=col>&lt;int&gt;</th><th scope=col>&lt;chr&gt;</th><th scope=col>&lt;chr&gt;</th><th scope=col>&lt;chr&gt;</th><th scope=col>&lt;chr&gt;</th><th scope=col>&lt;int&gt;</th><th scope=col>&lt;chr&gt;</th><th scope=col>&lt;chr&gt;</th><th scope=col>&lt;chr&gt;</th><th scope=col>&lt;int&gt;</th><th scope=col>&lt;chr&gt;</th><th scope=col>&lt;int&gt;</th><th scope=col>&lt;int&gt;</th><th scope=col>&lt;int&gt;</th><th scope=col>&lt;int&gt;</th><th scope=col>&lt;chr&gt;</th><th scope=col>&lt;chr&gt;</th></tr>\n",
              "</thead>\n",
              "<tbody>\n",
              "\t<tr><td>58</td><td>management  </td><td>married </td><td>tertiary </td><td>no </td><td>2143</td><td>yes</td><td>no </td><td>unknown</td><td>5</td><td>may</td><td>261</td><td>1</td><td>-1</td><td>0</td><td>unknown</td><td>no</td></tr>\n",
              "\t<tr><td>44</td><td>technician  </td><td>single  </td><td>secondary</td><td>no </td><td>  29</td><td>yes</td><td>no </td><td>unknown</td><td>5</td><td>may</td><td>151</td><td>1</td><td>-1</td><td>0</td><td>unknown</td><td>no</td></tr>\n",
              "\t<tr><td>33</td><td>entrepreneur</td><td>married </td><td>secondary</td><td>no </td><td>   2</td><td>yes</td><td>yes</td><td>unknown</td><td>5</td><td>may</td><td> 76</td><td>1</td><td>-1</td><td>0</td><td>unknown</td><td>no</td></tr>\n",
              "\t<tr><td>47</td><td>blue-collar </td><td>married </td><td>unknown  </td><td>no </td><td>1506</td><td>yes</td><td>no </td><td>unknown</td><td>5</td><td>may</td><td> 92</td><td>1</td><td>-1</td><td>0</td><td>unknown</td><td>no</td></tr>\n",
              "\t<tr><td>33</td><td>unknown     </td><td>single  </td><td>unknown  </td><td>no </td><td>   1</td><td>no </td><td>no </td><td>unknown</td><td>5</td><td>may</td><td>198</td><td>1</td><td>-1</td><td>0</td><td>unknown</td><td>no</td></tr>\n",
              "\t<tr><td>35</td><td>management  </td><td>married </td><td>tertiary </td><td>no </td><td> 231</td><td>yes</td><td>no </td><td>unknown</td><td>5</td><td>may</td><td>139</td><td>1</td><td>-1</td><td>0</td><td>unknown</td><td>no</td></tr>\n",
              "\t<tr><td>28</td><td>management  </td><td>single  </td><td>tertiary </td><td>no </td><td> 447</td><td>yes</td><td>yes</td><td>unknown</td><td>5</td><td>may</td><td>217</td><td>1</td><td>-1</td><td>0</td><td>unknown</td><td>no</td></tr>\n",
              "\t<tr><td>42</td><td>entrepreneur</td><td>divorced</td><td>tertiary </td><td>yes</td><td>   2</td><td>yes</td><td>no </td><td>unknown</td><td>5</td><td>may</td><td>380</td><td>1</td><td>-1</td><td>0</td><td>unknown</td><td>no</td></tr>\n",
              "\t<tr><td>58</td><td>retired     </td><td>married </td><td>primary  </td><td>no </td><td> 121</td><td>yes</td><td>no </td><td>unknown</td><td>5</td><td>may</td><td> 50</td><td>1</td><td>-1</td><td>0</td><td>unknown</td><td>no</td></tr>\n",
              "\t<tr><td>43</td><td>technician  </td><td>single  </td><td>secondary</td><td>no </td><td> 593</td><td>yes</td><td>no </td><td>unknown</td><td>5</td><td>may</td><td> 55</td><td>1</td><td>-1</td><td>0</td><td>unknown</td><td>no</td></tr>\n",
              "\t<tr><td>41</td><td>admin.      </td><td>divorced</td><td>secondary</td><td>no </td><td> 270</td><td>yes</td><td>no </td><td>unknown</td><td>5</td><td>may</td><td>222</td><td>1</td><td>-1</td><td>0</td><td>unknown</td><td>no</td></tr>\n",
              "\t<tr><td>29</td><td>admin.      </td><td>single  </td><td>secondary</td><td>no </td><td> 390</td><td>yes</td><td>no </td><td>unknown</td><td>5</td><td>may</td><td>137</td><td>1</td><td>-1</td><td>0</td><td>unknown</td><td>no</td></tr>\n",
              "\t<tr><td>53</td><td>technician  </td><td>married </td><td>secondary</td><td>no </td><td>   6</td><td>yes</td><td>no </td><td>unknown</td><td>5</td><td>may</td><td>517</td><td>1</td><td>-1</td><td>0</td><td>unknown</td><td>no</td></tr>\n",
              "\t<tr><td>58</td><td>technician  </td><td>married </td><td>unknown  </td><td>no </td><td>  71</td><td>yes</td><td>no </td><td>unknown</td><td>5</td><td>may</td><td> 71</td><td>1</td><td>-1</td><td>0</td><td>unknown</td><td>no</td></tr>\n",
              "\t<tr><td>57</td><td>services    </td><td>married </td><td>secondary</td><td>no </td><td> 162</td><td>yes</td><td>no </td><td>unknown</td><td>5</td><td>may</td><td>174</td><td>1</td><td>-1</td><td>0</td><td>unknown</td><td>no</td></tr>\n",
              "\t<tr><td>51</td><td>retired     </td><td>married </td><td>primary  </td><td>no </td><td> 229</td><td>yes</td><td>no </td><td>unknown</td><td>5</td><td>may</td><td>353</td><td>1</td><td>-1</td><td>0</td><td>unknown</td><td>no</td></tr>\n",
              "\t<tr><td>45</td><td>admin.      </td><td>single  </td><td>unknown  </td><td>no </td><td>  13</td><td>yes</td><td>no </td><td>unknown</td><td>5</td><td>may</td><td> 98</td><td>1</td><td>-1</td><td>0</td><td>unknown</td><td>no</td></tr>\n",
              "\t<tr><td>57</td><td>blue-collar </td><td>married </td><td>primary  </td><td>no </td><td>  52</td><td>yes</td><td>no </td><td>unknown</td><td>5</td><td>may</td><td> 38</td><td>1</td><td>-1</td><td>0</td><td>unknown</td><td>no</td></tr>\n",
              "\t<tr><td>60</td><td>retired     </td><td>married </td><td>primary  </td><td>no </td><td>  60</td><td>yes</td><td>no </td><td>unknown</td><td>5</td><td>may</td><td>219</td><td>1</td><td>-1</td><td>0</td><td>unknown</td><td>no</td></tr>\n",
              "\t<tr><td>33</td><td>services    </td><td>married </td><td>secondary</td><td>no </td><td>   0</td><td>yes</td><td>no </td><td>unknown</td><td>5</td><td>may</td><td> 54</td><td>1</td><td>-1</td><td>0</td><td>unknown</td><td>no</td></tr>\n",
              "\t<tr><td>28</td><td>blue-collar </td><td>married </td><td>secondary</td><td>no </td><td> 723</td><td>yes</td><td>yes</td><td>unknown</td><td>5</td><td>may</td><td>262</td><td>1</td><td>-1</td><td>0</td><td>unknown</td><td>no</td></tr>\n",
              "\t<tr><td>56</td><td>management  </td><td>married </td><td>tertiary </td><td>no </td><td> 779</td><td>yes</td><td>no </td><td>unknown</td><td>5</td><td>may</td><td>164</td><td>1</td><td>-1</td><td>0</td><td>unknown</td><td>no</td></tr>\n",
              "\t<tr><td>32</td><td>blue-collar </td><td>single  </td><td>primary  </td><td>no </td><td>  23</td><td>yes</td><td>yes</td><td>unknown</td><td>5</td><td>may</td><td>160</td><td>1</td><td>-1</td><td>0</td><td>unknown</td><td>no</td></tr>\n",
              "\t<tr><td>25</td><td>services    </td><td>married </td><td>secondary</td><td>no </td><td>  50</td><td>yes</td><td>no </td><td>unknown</td><td>5</td><td>may</td><td>342</td><td>1</td><td>-1</td><td>0</td><td>unknown</td><td>no</td></tr>\n",
              "\t<tr><td>40</td><td>retired     </td><td>married </td><td>primary  </td><td>no </td><td>   0</td><td>yes</td><td>yes</td><td>unknown</td><td>5</td><td>may</td><td>181</td><td>1</td><td>-1</td><td>0</td><td>unknown</td><td>no</td></tr>\n",
              "\t<tr><td>44</td><td>admin.      </td><td>married </td><td>secondary</td><td>no </td><td>-372</td><td>yes</td><td>no </td><td>unknown</td><td>5</td><td>may</td><td>172</td><td>1</td><td>-1</td><td>0</td><td>unknown</td><td>no</td></tr>\n",
              "\t<tr><td>39</td><td>management  </td><td>single  </td><td>tertiary </td><td>no </td><td> 255</td><td>yes</td><td>no </td><td>unknown</td><td>5</td><td>may</td><td>296</td><td>1</td><td>-1</td><td>0</td><td>unknown</td><td>no</td></tr>\n",
              "\t<tr><td>52</td><td>entrepreneur</td><td>married </td><td>secondary</td><td>no </td><td> 113</td><td>yes</td><td>yes</td><td>unknown</td><td>5</td><td>may</td><td>127</td><td>1</td><td>-1</td><td>0</td><td>unknown</td><td>no</td></tr>\n",
              "\t<tr><td>46</td><td>management  </td><td>single  </td><td>secondary</td><td>no </td><td>-246</td><td>yes</td><td>no </td><td>unknown</td><td>5</td><td>may</td><td>255</td><td>2</td><td>-1</td><td>0</td><td>unknown</td><td>no</td></tr>\n",
              "\t<tr><td>36</td><td>technician  </td><td>single  </td><td>secondary</td><td>no </td><td> 265</td><td>yes</td><td>yes</td><td>unknown</td><td>5</td><td>may</td><td>348</td><td>1</td><td>-1</td><td>0</td><td>unknown</td><td>no</td></tr>\n",
              "\t<tr><td>⋮</td><td>⋮</td><td>⋮</td><td>⋮</td><td>⋮</td><td>⋮</td><td>⋮</td><td>⋮</td><td>⋮</td><td>⋮</td><td>⋮</td><td>⋮</td><td>⋮</td><td>⋮</td><td>⋮</td><td>⋮</td><td>⋮</td></tr>\n",
              "\t<tr><td>46</td><td>blue-collar  </td><td>married </td><td>secondary</td><td>no</td><td>6879</td><td>no </td><td>no </td><td>cellular </td><td>15</td><td>nov</td><td>  74</td><td>2</td><td>118</td><td> 3</td><td>failure</td><td>no </td></tr>\n",
              "\t<tr><td>34</td><td>technician   </td><td>married </td><td>secondary</td><td>no</td><td> 133</td><td>no </td><td>no </td><td>cellular </td><td>15</td><td>nov</td><td> 401</td><td>2</td><td>187</td><td> 5</td><td>success</td><td>yes</td></tr>\n",
              "\t<tr><td>70</td><td>retired      </td><td>married </td><td>primary  </td><td>no</td><td> 324</td><td>no </td><td>no </td><td>cellular </td><td>15</td><td>nov</td><td>  78</td><td>1</td><td> 96</td><td> 7</td><td>success</td><td>no </td></tr>\n",
              "\t<tr><td>63</td><td>retired      </td><td>married </td><td>secondary</td><td>no</td><td>1495</td><td>no </td><td>no </td><td>cellular </td><td>16</td><td>nov</td><td> 138</td><td>1</td><td> 22</td><td> 5</td><td>success</td><td>no </td></tr>\n",
              "\t<tr><td>60</td><td>services     </td><td>married </td><td>tertiary </td><td>no</td><td>4256</td><td>yes</td><td>no </td><td>cellular </td><td>16</td><td>nov</td><td> 200</td><td>1</td><td> 92</td><td> 4</td><td>success</td><td>yes</td></tr>\n",
              "\t<tr><td>59</td><td>unknown      </td><td>married </td><td>unknown  </td><td>no</td><td>1500</td><td>no </td><td>no </td><td>cellular </td><td>16</td><td>nov</td><td> 280</td><td>1</td><td>104</td><td> 2</td><td>failure</td><td>no </td></tr>\n",
              "\t<tr><td>32</td><td>services     </td><td>single  </td><td>secondary</td><td>no</td><td>1168</td><td>yes</td><td>no </td><td>cellular </td><td>16</td><td>nov</td><td> 411</td><td>1</td><td> -1</td><td> 0</td><td>unknown</td><td>yes</td></tr>\n",
              "\t<tr><td>29</td><td>management   </td><td>single  </td><td>secondary</td><td>no</td><td> 703</td><td>yes</td><td>no </td><td>cellular </td><td>16</td><td>nov</td><td> 236</td><td>1</td><td>550</td><td> 2</td><td>success</td><td>yes</td></tr>\n",
              "\t<tr><td>25</td><td>services     </td><td>single  </td><td>secondary</td><td>no</td><td> 199</td><td>no </td><td>no </td><td>cellular </td><td>16</td><td>nov</td><td> 173</td><td>1</td><td> 92</td><td> 5</td><td>failure</td><td>no </td></tr>\n",
              "\t<tr><td>32</td><td>blue-collar  </td><td>married </td><td>secondary</td><td>no</td><td> 136</td><td>no </td><td>no </td><td>cellular </td><td>16</td><td>nov</td><td> 206</td><td>1</td><td>188</td><td> 3</td><td>success</td><td>yes</td></tr>\n",
              "\t<tr><td>75</td><td>retired      </td><td>divorced</td><td>tertiary </td><td>no</td><td>3810</td><td>yes</td><td>no </td><td>cellular </td><td>16</td><td>nov</td><td> 262</td><td>1</td><td>183</td><td> 1</td><td>failure</td><td>yes</td></tr>\n",
              "\t<tr><td>29</td><td>management   </td><td>single  </td><td>tertiary </td><td>no</td><td> 765</td><td>no </td><td>no </td><td>cellular </td><td>16</td><td>nov</td><td> 238</td><td>1</td><td> -1</td><td> 0</td><td>unknown</td><td>yes</td></tr>\n",
              "\t<tr><td>28</td><td>self-employed</td><td>single  </td><td>tertiary </td><td>no</td><td> 159</td><td>no </td><td>no </td><td>cellular </td><td>16</td><td>nov</td><td> 449</td><td>2</td><td> 33</td><td> 4</td><td>success</td><td>yes</td></tr>\n",
              "\t<tr><td>59</td><td>management   </td><td>married </td><td>tertiary </td><td>no</td><td> 138</td><td>yes</td><td>yes</td><td>cellular </td><td>16</td><td>nov</td><td> 162</td><td>2</td><td>187</td><td> 5</td><td>failure</td><td>no </td></tr>\n",
              "\t<tr><td>68</td><td>retired      </td><td>married </td><td>secondary</td><td>no</td><td>1146</td><td>no </td><td>no </td><td>cellular </td><td>16</td><td>nov</td><td> 212</td><td>1</td><td>187</td><td> 6</td><td>success</td><td>yes</td></tr>\n",
              "\t<tr><td>25</td><td>student      </td><td>single  </td><td>secondary</td><td>no</td><td> 358</td><td>no </td><td>no </td><td>cellular </td><td>16</td><td>nov</td><td> 330</td><td>1</td><td> -1</td><td> 0</td><td>unknown</td><td>yes</td></tr>\n",
              "\t<tr><td>36</td><td>management   </td><td>single  </td><td>secondary</td><td>no</td><td>1511</td><td>yes</td><td>no </td><td>cellular </td><td>16</td><td>nov</td><td> 270</td><td>1</td><td> -1</td><td> 0</td><td>unknown</td><td>yes</td></tr>\n",
              "\t<tr><td>37</td><td>management   </td><td>married </td><td>tertiary </td><td>no</td><td>1428</td><td>no </td><td>no </td><td>cellular </td><td>16</td><td>nov</td><td> 333</td><td>2</td><td> -1</td><td> 0</td><td>unknown</td><td>no </td></tr>\n",
              "\t<tr><td>34</td><td>blue-collar  </td><td>single  </td><td>secondary</td><td>no</td><td>1475</td><td>yes</td><td>no </td><td>cellular </td><td>16</td><td>nov</td><td>1166</td><td>3</td><td>530</td><td>12</td><td>other  </td><td>no </td></tr>\n",
              "\t<tr><td>38</td><td>technician   </td><td>married </td><td>secondary</td><td>no</td><td> 557</td><td>yes</td><td>no </td><td>cellular </td><td>16</td><td>nov</td><td>1556</td><td>4</td><td> -1</td><td> 0</td><td>unknown</td><td>yes</td></tr>\n",
              "\t<tr><td>53</td><td>management   </td><td>married </td><td>tertiary </td><td>no</td><td> 583</td><td>no </td><td>no </td><td>cellular </td><td>17</td><td>nov</td><td> 226</td><td>1</td><td>184</td><td> 4</td><td>success</td><td>yes</td></tr>\n",
              "\t<tr><td>34</td><td>admin.       </td><td>single  </td><td>secondary</td><td>no</td><td> 557</td><td>no </td><td>no </td><td>cellular </td><td>17</td><td>nov</td><td> 224</td><td>1</td><td> -1</td><td> 0</td><td>unknown</td><td>yes</td></tr>\n",
              "\t<tr><td>23</td><td>student      </td><td>single  </td><td>tertiary </td><td>no</td><td> 113</td><td>no </td><td>no </td><td>cellular </td><td>17</td><td>nov</td><td> 266</td><td>1</td><td> -1</td><td> 0</td><td>unknown</td><td>yes</td></tr>\n",
              "\t<tr><td>73</td><td>retired      </td><td>married </td><td>secondary</td><td>no</td><td>2850</td><td>no </td><td>no </td><td>cellular </td><td>17</td><td>nov</td><td> 300</td><td>1</td><td> 40</td><td> 8</td><td>failure</td><td>yes</td></tr>\n",
              "\t<tr><td>25</td><td>technician   </td><td>single  </td><td>secondary</td><td>no</td><td> 505</td><td>no </td><td>yes</td><td>cellular </td><td>17</td><td>nov</td><td> 386</td><td>2</td><td> -1</td><td> 0</td><td>unknown</td><td>yes</td></tr>\n",
              "\t<tr><td>51</td><td>technician   </td><td>married </td><td>tertiary </td><td>no</td><td> 825</td><td>no </td><td>no </td><td>cellular </td><td>17</td><td>nov</td><td> 977</td><td>3</td><td> -1</td><td> 0</td><td>unknown</td><td>yes</td></tr>\n",
              "\t<tr><td>71</td><td>retired      </td><td>divorced</td><td>primary  </td><td>no</td><td>1729</td><td>no </td><td>no </td><td>cellular </td><td>17</td><td>nov</td><td> 456</td><td>2</td><td> -1</td><td> 0</td><td>unknown</td><td>yes</td></tr>\n",
              "\t<tr><td>72</td><td>retired      </td><td>married </td><td>secondary</td><td>no</td><td>5715</td><td>no </td><td>no </td><td>cellular </td><td>17</td><td>nov</td><td>1127</td><td>5</td><td>184</td><td> 3</td><td>success</td><td>yes</td></tr>\n",
              "\t<tr><td>57</td><td>blue-collar  </td><td>married </td><td>secondary</td><td>no</td><td> 668</td><td>no </td><td>no </td><td>telephone</td><td>17</td><td>nov</td><td> 508</td><td>4</td><td> -1</td><td> 0</td><td>unknown</td><td>no </td></tr>\n",
              "\t<tr><td>37</td><td>entrepreneur </td><td>married </td><td>secondary</td><td>no</td><td>2971</td><td>no </td><td>no </td><td>cellular </td><td>17</td><td>nov</td><td> 361</td><td>2</td><td>188</td><td>11</td><td>other  </td><td>no </td></tr>\n",
              "</tbody>\n",
              "</table>\n"
            ]
          },
          "metadata": {
            "tags": []
          }
        }
      ]
    },
    {
      "cell_type": "code",
      "metadata": {
        "colab": {
          "base_uri": "https://localhost:8080/",
          "height": 612
        },
        "id": "PoyMV-j3GueW",
        "outputId": "eded661d-8bde-4cdf-9106-bd21be71e468"
      },
      "source": [
        "summary(bankData)"
      ],
      "execution_count": 7,
      "outputs": [
        {
          "output_type": "display_data",
          "data": {
            "text/plain": [
              "      age            job              marital           education        \n",
              " Min.   :18.00   Length:45211       Length:45211       Length:45211      \n",
              " 1st Qu.:33.00   Class :character   Class :character   Class :character  \n",
              " Median :39.00   Mode  :character   Mode  :character   Mode  :character  \n",
              " Mean   :40.94                                                           \n",
              " 3rd Qu.:48.00                                                           \n",
              " Max.   :95.00                                                           \n",
              "   default             balance         housing              loan          \n",
              " Length:45211       Min.   : -8019   Length:45211       Length:45211      \n",
              " Class :character   1st Qu.:    72   Class :character   Class :character  \n",
              " Mode  :character   Median :   448   Mode  :character   Mode  :character  \n",
              "                    Mean   :  1362                                        \n",
              "                    3rd Qu.:  1428                                        \n",
              "                    Max.   :102127                                        \n",
              "   contact               day           month              duration     \n",
              " Length:45211       Min.   : 1.00   Length:45211       Min.   :   0.0  \n",
              " Class :character   1st Qu.: 8.00   Class :character   1st Qu.: 103.0  \n",
              " Mode  :character   Median :16.00   Mode  :character   Median : 180.0  \n",
              "                    Mean   :15.81                      Mean   : 258.2  \n",
              "                    3rd Qu.:21.00                      3rd Qu.: 319.0  \n",
              "                    Max.   :31.00                      Max.   :4918.0  \n",
              "    campaign          pdays          previous          poutcome        \n",
              " Min.   : 1.000   Min.   : -1.0   Min.   :  0.0000   Length:45211      \n",
              " 1st Qu.: 1.000   1st Qu.: -1.0   1st Qu.:  0.0000   Class :character  \n",
              " Median : 2.000   Median : -1.0   Median :  0.0000   Mode  :character  \n",
              " Mean   : 2.764   Mean   : 40.2   Mean   :  0.5803                     \n",
              " 3rd Qu.: 3.000   3rd Qu.: -1.0   3rd Qu.:  0.0000                     \n",
              " Max.   :63.000   Max.   :871.0   Max.   :275.0000                     \n",
              "      y            \n",
              " Length:45211      \n",
              " Class :character  \n",
              " Mode  :character  \n",
              "                   \n",
              "                   \n",
              "                   "
            ]
          },
          "metadata": {
            "tags": []
          }
        }
      ]
    },
    {
      "cell_type": "code",
      "metadata": {
        "colab": {
          "base_uri": "https://localhost:8080/",
          "height": 34
        },
        "id": "d2VQT2JXGIuZ",
        "outputId": "79c75d61-0b46-4242-c1c4-fee1d7fbae21"
      },
      "source": [
        "summary(factor(bankData$contact))"
      ],
      "execution_count": 6,
      "outputs": [
        {
          "output_type": "display_data",
          "data": {
            "text/plain": [
              " cellular telephone   unknown \n",
              "    29285      2906     13020 "
            ],
            "text/latex": "\\begin{description*}\n\\item[cellular] 29285\n\\item[telephone] 2906\n\\item[unknown] 13020\n\\end{description*}\n",
            "text/markdown": "cellular\n:   29285telephone\n:   2906unknown\n:   13020\n\n",
            "text/html": [
              "<style>\n",
              ".dl-inline {width: auto; margin:0; padding: 0}\n",
              ".dl-inline>dt, .dl-inline>dd {float: none; width: auto; display: inline-block}\n",
              ".dl-inline>dt::after {content: \":\\0020\"; padding-right: .5ex}\n",
              ".dl-inline>dt:not(:first-of-type) {padding-left: .5ex}\n",
              "</style><dl class=dl-inline><dt>cellular</dt><dd>29285</dd><dt>telephone</dt><dd>2906</dd><dt>unknown</dt><dd>13020</dd></dl>\n"
            ]
          },
          "metadata": {
            "tags": []
          }
        }
      ]
    },
    {
      "cell_type": "code",
      "metadata": {
        "colab": {
          "base_uri": "https://localhost:8080/",
          "height": 469
        },
        "id": "A7sspJSnGlIJ",
        "outputId": "5e992cb1-5330-468f-8cfd-0c0bfb05f697"
      },
      "source": [
        "bankData %>%\n",
        "  group_by(job) %>%\n",
        "  summarise(n = n()) %>%\n",
        "  arrange(desc(n))"
      ],
      "execution_count": 8,
      "outputs": [
        {
          "output_type": "display_data",
          "data": {
            "text/plain": [
              "   job           n   \n",
              "1  blue-collar   9732\n",
              "2  management    9458\n",
              "3  technician    7597\n",
              "4  admin.        5171\n",
              "5  services      4154\n",
              "6  retired       2264\n",
              "7  self-employed 1579\n",
              "8  entrepreneur  1487\n",
              "9  unemployed    1303\n",
              "10 housemaid     1240\n",
              "11 student        938\n",
              "12 unknown        288"
            ],
            "text/latex": "A tibble: 12 × 2\n\\begin{tabular}{ll}\n job & n\\\\\n <chr> & <int>\\\\\n\\hline\n\t blue-collar   & 9732\\\\\n\t management    & 9458\\\\\n\t technician    & 7597\\\\\n\t admin.        & 5171\\\\\n\t services      & 4154\\\\\n\t retired       & 2264\\\\\n\t self-employed & 1579\\\\\n\t entrepreneur  & 1487\\\\\n\t unemployed    & 1303\\\\\n\t housemaid     & 1240\\\\\n\t student       &  938\\\\\n\t unknown       &  288\\\\\n\\end{tabular}\n",
            "text/markdown": "\nA tibble: 12 × 2\n\n| job &lt;chr&gt; | n &lt;int&gt; |\n|---|---|\n| blue-collar   | 9732 |\n| management    | 9458 |\n| technician    | 7597 |\n| admin.        | 5171 |\n| services      | 4154 |\n| retired       | 2264 |\n| self-employed | 1579 |\n| entrepreneur  | 1487 |\n| unemployed    | 1303 |\n| housemaid     | 1240 |\n| student       |  938 |\n| unknown       |  288 |\n\n",
            "text/html": [
              "<table class=\"dataframe\">\n",
              "<caption>A tibble: 12 × 2</caption>\n",
              "<thead>\n",
              "\t<tr><th scope=col>job</th><th scope=col>n</th></tr>\n",
              "\t<tr><th scope=col>&lt;chr&gt;</th><th scope=col>&lt;int&gt;</th></tr>\n",
              "</thead>\n",
              "<tbody>\n",
              "\t<tr><td>blue-collar  </td><td>9732</td></tr>\n",
              "\t<tr><td>management   </td><td>9458</td></tr>\n",
              "\t<tr><td>technician   </td><td>7597</td></tr>\n",
              "\t<tr><td>admin.       </td><td>5171</td></tr>\n",
              "\t<tr><td>services     </td><td>4154</td></tr>\n",
              "\t<tr><td>retired      </td><td>2264</td></tr>\n",
              "\t<tr><td>self-employed</td><td>1579</td></tr>\n",
              "\t<tr><td>entrepreneur </td><td>1487</td></tr>\n",
              "\t<tr><td>unemployed   </td><td>1303</td></tr>\n",
              "\t<tr><td>housemaid    </td><td>1240</td></tr>\n",
              "\t<tr><td>student      </td><td> 938</td></tr>\n",
              "\t<tr><td>unknown      </td><td> 288</td></tr>\n",
              "</tbody>\n",
              "</table>\n"
            ]
          },
          "metadata": {
            "tags": []
          }
        }
      ]
    },
    {
      "cell_type": "markdown",
      "metadata": {
        "id": "C3k3rfdlIpGS"
      },
      "source": [
        "# Contigenfy Table (Cross- tabular)"
      ]
    },
    {
      "cell_type": "code",
      "metadata": {
        "colab": {
          "base_uri": "https://localhost:8080/",
          "height": 255
        },
        "id": "V_Gat8cZHKSe",
        "outputId": "aba8e2af-055e-4a5a-ac1a-1dc27c268140"
      },
      "source": [
        "bankData %>%\n",
        "  group_by(marital, education) %>%\n",
        "  summarise(n=n()) %>%\n",
        "  pivot_wider(names_from = marital, values_from = n)"
      ],
      "execution_count": 15,
      "outputs": [
        {
          "output_type": "stream",
          "text": [
            "`summarise()` has grouped output by 'marital'. You can override using the `.groups` argument.\n",
            "\n"
          ],
          "name": "stderr"
        },
        {
          "output_type": "display_data",
          "data": {
            "text/plain": [
              "  education divorced married single\n",
              "1 primary    752      5246    853  \n",
              "2 secondary 2815     13770   6617  \n",
              "3 tertiary  1471      7038   4792  \n",
              "4 unknown    169      1160    528  "
            ],
            "text/latex": "A tibble: 4 × 4\n\\begin{tabular}{llll}\n education & divorced & married & single\\\\\n <chr> & <int> & <int> & <int>\\\\\n\\hline\n\t primary   &  752 &  5246 &  853\\\\\n\t secondary & 2815 & 13770 & 6617\\\\\n\t tertiary  & 1471 &  7038 & 4792\\\\\n\t unknown   &  169 &  1160 &  528\\\\\n\\end{tabular}\n",
            "text/markdown": "\nA tibble: 4 × 4\n\n| education &lt;chr&gt; | divorced &lt;int&gt; | married &lt;int&gt; | single &lt;int&gt; |\n|---|---|---|---|\n| primary   |  752 |  5246 |  853 |\n| secondary | 2815 | 13770 | 6617 |\n| tertiary  | 1471 |  7038 | 4792 |\n| unknown   |  169 |  1160 |  528 |\n\n",
            "text/html": [
              "<table class=\"dataframe\">\n",
              "<caption>A tibble: 4 × 4</caption>\n",
              "<thead>\n",
              "\t<tr><th scope=col>education</th><th scope=col>divorced</th><th scope=col>married</th><th scope=col>single</th></tr>\n",
              "\t<tr><th scope=col>&lt;chr&gt;</th><th scope=col>&lt;int&gt;</th><th scope=col>&lt;int&gt;</th><th scope=col>&lt;int&gt;</th></tr>\n",
              "</thead>\n",
              "<tbody>\n",
              "\t<tr><td>primary  </td><td> 752</td><td> 5246</td><td> 853</td></tr>\n",
              "\t<tr><td>secondary</td><td>2815</td><td>13770</td><td>6617</td></tr>\n",
              "\t<tr><td>tertiary </td><td>1471</td><td> 7038</td><td>4792</td></tr>\n",
              "\t<tr><td>unknown  </td><td> 169</td><td> 1160</td><td> 528</td></tr>\n",
              "</tbody>\n",
              "</table>\n"
            ]
          },
          "metadata": {
            "tags": []
          }
        }
      ]
    },
    {
      "cell_type": "code",
      "metadata": {
        "colab": {
          "base_uri": "https://localhost:8080/",
          "height": 255
        },
        "id": "C6iH19DhIBvv",
        "outputId": "82242d72-4ebc-4f25-d2b1-248788073bae"
      },
      "source": [
        "bankData %>%\n",
        "  group_by(marital, education) %>%\n",
        "  summarise(n=n()) %>%\n",
        "  pivot_wider(names_from = marital, values_from = n)"
      ],
      "execution_count": 18,
      "outputs": [
        {
          "output_type": "stream",
          "text": [
            "`summarise()` has grouped output by 'marital'. You can override using the `.groups` argument.\n",
            "\n"
          ],
          "name": "stderr"
        },
        {
          "output_type": "display_data",
          "data": {
            "text/plain": [
              "  education divorced married single\n",
              "1 primary    752      5246    853  \n",
              "2 secondary 2815     13770   6617  \n",
              "3 tertiary  1471      7038   4792  \n",
              "4 unknown    169      1160    528  "
            ],
            "text/latex": "A tibble: 4 × 4\n\\begin{tabular}{llll}\n education & divorced & married & single\\\\\n <chr> & <int> & <int> & <int>\\\\\n\\hline\n\t primary   &  752 &  5246 &  853\\\\\n\t secondary & 2815 & 13770 & 6617\\\\\n\t tertiary  & 1471 &  7038 & 4792\\\\\n\t unknown   &  169 &  1160 &  528\\\\\n\\end{tabular}\n",
            "text/markdown": "\nA tibble: 4 × 4\n\n| education &lt;chr&gt; | divorced &lt;int&gt; | married &lt;int&gt; | single &lt;int&gt; |\n|---|---|---|---|\n| primary   |  752 |  5246 |  853 |\n| secondary | 2815 | 13770 | 6617 |\n| tertiary  | 1471 |  7038 | 4792 |\n| unknown   |  169 |  1160 |  528 |\n\n",
            "text/html": [
              "<table class=\"dataframe\">\n",
              "<caption>A tibble: 4 × 4</caption>\n",
              "<thead>\n",
              "\t<tr><th scope=col>education</th><th scope=col>divorced</th><th scope=col>married</th><th scope=col>single</th></tr>\n",
              "\t<tr><th scope=col>&lt;chr&gt;</th><th scope=col>&lt;int&gt;</th><th scope=col>&lt;int&gt;</th><th scope=col>&lt;int&gt;</th></tr>\n",
              "</thead>\n",
              "<tbody>\n",
              "\t<tr><td>primary  </td><td> 752</td><td> 5246</td><td> 853</td></tr>\n",
              "\t<tr><td>secondary</td><td>2815</td><td>13770</td><td>6617</td></tr>\n",
              "\t<tr><td>tertiary </td><td>1471</td><td> 7038</td><td>4792</td></tr>\n",
              "\t<tr><td>unknown  </td><td> 169</td><td> 1160</td><td> 528</td></tr>\n",
              "</tbody>\n",
              "</table>\n"
            ]
          },
          "metadata": {
            "tags": []
          }
        }
      ]
    },
    {
      "cell_type": "code",
      "metadata": {
        "colab": {
          "base_uri": "https://localhost:8080/",
          "height": 437
        },
        "id": "ZKm-L_9QI8cP",
        "outputId": "3b050d38-e9fd-434b-e0f2-cb3d3844f247"
      },
      "source": [
        "ggplot(bankData, aes(job)) + \n",
        "  geom_bar()"
      ],
      "execution_count": 19,
      "outputs": [
        {
          "output_type": "display_data",
          "data": {
            "image/png": "[encoded data removed]",
            "text/plain": [
              "plot without title"
            ]
          },
          "metadata": {
            "tags": [],
            "image/png": {
              "width": 420,
              "height": 420
            }
          }
        }
      ]
    },
    {
      "cell_type": "code",
      "metadata": {
        "id": "7D8SJRO5JOUN"
      },
      "source": [
        "brk <- c(0, 20, 30, 40, 50, 60, 100)\n",
        "h <- hist(bankData$age, breaks=brk, plot=F)\n",
        "freq_table <- data.frame(bin = h$breaks[-1], counts = h$counts)"
      ],
      "execution_count": 27,
      "outputs": []
    },
    {
      "cell_type": "markdown",
      "metadata": {
        "id": "Uug52fTOQT9_"
      },
      "source": [
        "# Effects of Histogram bin"
      ]
    },
    {
      "cell_type": "code",
      "metadata": {
        "colab": {
          "base_uri": "https://localhost:8080/",
          "height": 437
        },
        "id": "G0WvyuWnKBpj",
        "outputId": "4d43c7a1-d953-476f-d21c-845f0f9db8e3"
      },
      "source": [
        "ggplot(bankData, aes(age), color='white') + \n",
        "  geom_histogram(bins=79) "
      ],
      "execution_count": 40,
      "outputs": [
        {
          "output_type": "display_data",
          "data": {
            "image/png": "[encoded data removed]",
            "text/plain": [
              "plot without title"
            ]
          },
          "metadata": {
            "tags": [],
            "image/png": {
              "width": 420,
              "height": 420
            }
          }
        }
      ]
    },
    {
      "cell_type": "markdown",
      "metadata": {
        "id": "IavlKjneQQk9"
      },
      "source": [
        "# Effects of number of samples"
      ]
    },
    {
      "cell_type": "code",
      "metadata": {
        "colab": {
          "base_uri": "https://localhost:8080/",
          "height": 505
        },
        "id": "R1Fo_sSOQLp2",
        "outputId": "379704e4-26af-45ad-830f-cfb5b462bc92"
      },
      "source": [
        "bankData %>%\n",
        "  sample_frac(0.3) %>%\n",
        "  ggplot(aes(age)) + \n",
        "  geom_histogram(bin=20)"
      ],
      "execution_count": 47,
      "outputs": [
        {
          "output_type": "stream",
          "text": [
            "Warning message:\n",
            "“Ignoring unknown parameters: bin”\n",
            "`stat_bin()` using `bins = 30`. Pick better value with `binwidth`.\n",
            "\n"
          ],
          "name": "stderr"
        },
        {
          "output_type": "display_data",
          "data": {
            "image/png": "[encoded data removed]",
            "text/plain": [
              "plot without title"
            ]
          },
          "metadata": {
            "tags": [],
            "image/png": {
              "width": 420,
              "height": 420
            }
          }
        }
      ]
    },
    {
      "cell_type": "code",
      "metadata": {
        "colab": {
          "base_uri": "https://localhost:8080/",
          "height": 505
        },
        "id": "QGDUxLdpLDOd",
        "outputId": "c363cf7e-ead3-4640-a85d-38e7f35e90ff"
      },
      "source": [
        "bankData %>%\n",
        "  sample_frac(0.05) %>%\n",
        "  ggplot(aes(age)) + \n",
        "  geom_histogram(bin=20)"
      ],
      "execution_count": 50,
      "outputs": [
        {
          "output_type": "stream",
          "text": [
            "Warning message:\n",
            "“Ignoring unknown parameters: bin”\n",
            "`stat_bin()` using `bins = 30`. Pick better value with `binwidth`.\n",
            "\n"
          ],
          "name": "stderr"
        },
        {
          "output_type": "display_data",
          "data": {
            "image/png": "[encoded data removed]",
            "text/plain": [
              "plot without title"
            ]
          },
          "metadata": {
            "tags": [],
            "image/png": {
              "width": 420,
              "height": 420
            }
          }
        }
      ]
    },
    {
      "cell_type": "markdown",
      "metadata": {
        "id": "PGsDS_fvWoMp"
      },
      "source": [
        "# Boxplot"
      ]
    },
    {
      "cell_type": "code",
      "metadata": {
        "colab": {
          "base_uri": "https://localhost:8080/",
          "height": 437
        },
        "id": "iTPsuRLzWoGN",
        "outputId": "88262671-e0aa-4a43-d72f-690f16ce35c0"
      },
      "source": [
        "bankData %>%\n",
        "  ggplot(aes(education, age, , fill = education)) + \n",
        "  geom_boxplot()"
      ],
      "execution_count": 54,
      "outputs": [
        {
          "output_type": "display_data",
          "data": {
            "image/png": "[encoded data removed]",
            "text/plain": [
              "plot without title"
            ]
          },
          "metadata": {
            "tags": [],
            "image/png": {
              "width": 420,
              "height": 420
            }
          }
        }
      ]
    },
    {
      "cell_type": "code",
      "metadata": {
        "id": "aXWIgDOpQA_u"
      },
      "source": [
        ""
      ],
      "execution_count": null,
      "outputs": []
    }
  ]
}